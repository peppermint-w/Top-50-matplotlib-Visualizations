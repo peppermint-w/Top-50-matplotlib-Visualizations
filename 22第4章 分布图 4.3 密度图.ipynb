{
 "cells": [
  {
   "cell_type": "markdown",
   "metadata": {},
   "source": [
    "# 4 分布图"
   ]
  },
  {
   "cell_type": "markdown",
   "metadata": {},
   "source": [
    "## 4.3 密度图"
   ]
  },
  {
   "cell_type": "markdown",
   "metadata": {},
   "source": [
    "这幅图的主要目的是反映城市里程如何随着气缸数量的变化而变化。<br>\n",
    "横坐标：城市里程<br>\n",
    "纵坐标：概率密度<br>\n",
    "图例：不同种类气缸数量"
   ]
  },
  {
   "cell_type": "markdown",
   "metadata": {},
   "source": [
    "### 4.3.1 导入需要的绘图库"
   ]
  },
  {
   "cell_type": "code",
   "execution_count": 1,
   "metadata": {},
   "outputs": [],
   "source": [
    "import pandas as pd\n",
    "import numpy as np\n",
    "import seaborn as sns\n",
    "import matplotlib.pyplot as plt\n",
    "%matplotlib inline\n",
    "plt.rcParams['font.sans-serif'] = ['Microsoft Yahei']\n",
    "plt.rcParams['axes.unicode_minus'] = False"
   ]
  },
  {
   "cell_type": "markdown",
   "metadata": {},
   "source": [
    "### 4.3.2 认识绘制密度图的函数"
   ]
  },
  {
   "cell_type": "markdown",
   "metadata": {},
   "source": [
    "直方图vs密度图\n",
    ">1.直方图表示的是在不同取值区间里分别有多少个值，而密度图表示的是在不同取值区间里的概率密度；<br>\n",
    ">2.密度图曲线下的总面积为1（可以用积分证明）；<br>\n",
    ">3.大多数密度图使用的是核密度估计，核密度的计算是一个比较复杂的数学过程；<br>\n",
    ">4.通俗理解：密度图中的纵坐标用于不同类别之间的相对比较的值。"
   ]
  },
  {
   "cell_type": "markdown",
   "metadata": {},
   "source": [
    "**sns.kdeplot()**"
   ]
  },
  {
   "cell_type": "markdown",
   "metadata": {},
   "source": [
    ">函数功能<br>\n",
    ">>拟合并绘制单变量或双变量核密度估计值<br>\n",
    "\n",
    ">重要参数<br>\n",
    ">>data：数据集，可以只输入一个或两个<br>\n",
    ">>shade：在密度曲线下方加阴影（如果数据是双变量，则填充轮廓）<br>\n",
    ">>vertical：控制密度轴向<br>\n",
    ">>bw：类似于直方图中的binwidth，用于确定核大小<br>\n",
    ">>kernel：核函数（双变量KDE只能使用高斯核）<br>\n",
    ">>>'gau'：gaussian高斯核（常用）<br>\n",
    ">>>'cos'：cosine余弦<br>\n",
    ">>>'biw'：biweight四次<br>\n",
    ">>>'epa'：Epanechnikov抛物线<br>\n",
    ">>>'tri'：triangle三角<br>\n",
    ">>>'triw'：triweight三次<br>"
   ]
  },
  {
   "cell_type": "markdown",
   "metadata": {},
   "source": [
    "绘制简单的密度图"
   ]
  },
  {
   "cell_type": "code",
   "execution_count": 2,
   "metadata": {},
   "outputs": [],
   "source": [
    "data = np.random.randn(1000)"
   ]
  },
  {
   "cell_type": "code",
   "execution_count": 3,
   "metadata": {},
   "outputs": [
    {
     "data": {
      "text/plain": [
       "array([ 1.62103279e+00,  6.54551256e-01, -4.18786145e-01,  4.71445432e-01,\n",
       "        6.15174209e-01,  4.91786534e-01, -3.92029051e-01, -6.24925777e-01,\n",
       "        1.48944067e+00, -1.60668068e+00, -1.11354589e+00,  7.22398160e-01,\n",
       "       -5.73102021e-01, -3.01773567e-01, -9.81576107e-01,  3.77533597e-01,\n",
       "       -6.17582044e-01, -1.73259352e-01, -5.62722431e-01,  2.51822822e-01,\n",
       "       -7.61861815e-01, -8.17517705e-01,  1.20684851e+00, -3.59943079e-01,\n",
       "       -8.57285396e-01,  1.83676162e-01,  4.83213399e-01,  5.06793045e-01,\n",
       "        5.15190251e-01, -6.12914280e-01, -3.86352259e-02, -3.05682159e-01,\n",
       "        5.11695500e-01, -5.51736405e-01, -5.74046549e-02,  3.15695728e-01,\n",
       "       -9.54586983e-01,  1.06179601e+00,  4.56963972e-01, -3.80454480e-01,\n",
       "       -9.60112291e-01, -8.94304876e-01, -3.35516129e-01, -3.22403283e-02,\n",
       "        1.12466973e+00,  8.77814017e-01, -6.59827657e-01,  1.29410390e-01,\n",
       "        1.81888733e+00,  2.46417971e+00, -7.99684849e-01,  6.44777134e-01,\n",
       "        1.07510854e+00, -1.72038425e-01,  6.90017360e-01,  2.05431679e-02,\n",
       "       -9.92962393e-01,  7.91853867e-01, -1.48120791e+00,  1.68355333e+00,\n",
       "       -8.18819344e-02,  1.29258118e+00, -5.97107017e-02,  1.05249042e+00,\n",
       "       -4.82996194e-01,  6.15316453e-01,  7.39588376e-01,  1.51656252e-01,\n",
       "        1.32781907e+00, -1.23839732e+00, -6.41292050e-01, -1.28151326e+00,\n",
       "        4.81638172e-01,  2.11870807e-01,  5.38047299e-01, -3.00881437e+00,\n",
       "       -2.71243200e-02,  2.80900181e-01, -8.65704198e-02, -1.90021810e-01,\n",
       "       -9.47748818e-01, -1.45257041e+00, -1.20798688e+00, -5.67432022e-01,\n",
       "       -1.07125826e+00,  1.29273318e+00, -7.57675159e-01, -2.39805918e-01,\n",
       "       -1.06556173e+00,  1.98638779e+00, -5.26999071e-01,  1.03986512e+00,\n",
       "        5.94067836e-01, -3.78833639e-01, -1.05578148e+00, -2.21013266e+00,\n",
       "        7.40058332e-02,  3.22901326e-01,  9.21204716e-01,  2.02235740e+00,\n",
       "       -9.12119833e-01, -6.61222326e-02,  1.72868447e+00,  1.05144389e+00,\n",
       "       -5.75167263e-01,  1.46923193e+00,  1.45891770e+00,  2.82130060e-01,\n",
       "        1.79572561e-01, -1.98253932e-01, -9.57617322e-01, -6.40582769e-01,\n",
       "        2.09423748e+00, -1.13168590e+00,  8.55484400e-01,  1.11854763e+00,\n",
       "        8.16528529e-02,  7.00387904e-01, -1.02451135e+00, -1.04009790e+00,\n",
       "        6.63094416e-01, -6.38385949e-01,  1.41853860e+00,  1.48712490e-01,\n",
       "       -1.53340638e+00, -7.74474847e-01, -6.42501304e-01, -9.75708295e-01,\n",
       "       -2.72313776e-01, -1.77642680e+00,  2.00113101e+00, -8.35431844e-01,\n",
       "        2.27070485e+00,  1.66765343e+00, -1.03284211e-01,  8.89191857e-01,\n",
       "       -1.91345118e-01,  5.62899060e-03,  6.05899165e-01,  3.23194029e-03,\n",
       "        6.79089376e-01, -2.44602742e-01,  4.59061774e-01,  2.11871505e-01,\n",
       "        4.04721733e-01,  1.03751231e+00, -5.50716501e-01,  2.36819339e-01,\n",
       "       -4.30794997e-01,  1.12696940e+00,  1.98685151e+00,  9.12718893e-01,\n",
       "        1.30152547e+00, -9.95531503e-01, -7.76259607e-01, -1.09164494e+00,\n",
       "       -3.23861425e-01, -1.48624257e+00,  1.39139043e+00, -8.85729414e-01,\n",
       "       -3.96773079e-01, -8.15184799e-01,  1.19263205e+00, -4.72476892e-01,\n",
       "        4.56372543e-01, -6.11370938e-01,  5.88648653e-01,  1.32652592e+00,\n",
       "       -7.18705125e-02, -4.34713129e-02, -6.14669554e-01,  1.64234716e+00,\n",
       "       -4.97657990e-01, -2.95875838e-01,  2.77096546e-01,  9.38088279e-01,\n",
       "       -9.50708992e-01, -2.77748364e-01,  6.79797479e-01, -5.50830451e-01,\n",
       "        1.40373308e+00, -1.42861664e+00, -3.83897183e-03, -9.26464872e-01,\n",
       "       -3.83077235e-01,  1.02845460e+00, -9.08157889e-02, -4.10813254e-01,\n",
       "       -3.47357933e-01, -5.23370851e-01,  9.42661906e-02, -3.07343706e-02,\n",
       "        1.28076896e+00, -1.08826819e+00, -7.24347727e-01,  3.48190146e-02,\n",
       "        7.05931727e-01,  1.12623879e+00,  4.65459908e-01, -1.15774380e+00,\n",
       "        9.74699778e-01, -1.00230973e+00,  2.20797842e+00, -8.56426384e-01,\n",
       "       -1.77939249e+00,  8.32195172e-01, -1.09071338e+00, -1.65564472e-01,\n",
       "       -1.57275418e+00,  5.59144869e-01,  6.08379304e-01, -8.53402764e-01,\n",
       "        6.07671406e-01,  9.63336387e-02, -1.36947792e+00, -6.51196203e-02,\n",
       "        1.24074360e+00,  5.27191990e-01, -7.38682243e-03,  1.70708954e+00,\n",
       "        2.34317353e-01,  1.15187705e+00,  1.00636359e+00,  1.28007942e-01,\n",
       "        3.25959523e-01,  2.10556265e-01, -1.25785618e-01, -2.59786411e-02,\n",
       "        1.38856053e+00, -4.17243810e-01, -1.91251066e+00, -2.13921605e+00,\n",
       "        4.20718671e-01, -2.59970386e-01, -7.36219988e-01,  4.36128766e-02,\n",
       "        1.31141779e+00,  9.51783845e-01,  1.89784772e+00,  8.08866637e-04,\n",
       "       -1.20634746e+00, -3.86816458e-01, -3.08705647e-01, -2.20711255e-01,\n",
       "        6.68322254e-01,  5.57952488e-01, -4.67934196e-02,  9.16793469e-01,\n",
       "       -7.92450567e-01,  8.04245875e-01, -7.48301494e-01, -3.51848182e-01,\n",
       "       -7.88642227e-01,  6.63260457e-01, -7.38083366e-01,  1.13733361e+00,\n",
       "       -1.31396581e+00,  1.83578812e+00, -1.39459957e+00, -1.46690038e+00,\n",
       "       -1.57824170e+00,  8.09309914e-01,  5.36958864e-01,  1.40814827e+00,\n",
       "       -3.46045070e-01, -2.56320473e-01,  1.19422674e-02,  1.71984295e+00,\n",
       "       -1.23500749e+00,  1.39377344e+00, -1.21842226e+00, -3.21630481e-01,\n",
       "        1.26235759e+00, -1.02662858e-01, -6.12483876e-01,  1.90657566e+00,\n",
       "        6.14627139e-02, -9.07444304e-01,  3.26766086e-01, -3.59298817e-01,\n",
       "       -9.41883958e-02, -2.38817553e-01,  1.31058549e+00, -1.28349180e+00,\n",
       "        7.50286386e-01,  1.21316400e+00, -9.79947641e-02, -3.11196481e-01,\n",
       "       -1.62872502e-01, -1.04708589e+00,  1.88923227e-01,  3.80406130e-01,\n",
       "       -1.24867723e+00,  7.46533537e-01, -6.07096777e-01,  1.06746264e+00,\n",
       "       -1.15453794e+00, -7.65793513e-01,  8.33889580e-01,  7.66784199e-01,\n",
       "        4.40509149e-01, -3.44683179e-01,  2.04621224e+00, -4.13263433e-01,\n",
       "       -7.39756608e-01,  4.80370706e-01, -4.97945776e-01,  2.02753249e-01,\n",
       "       -2.13694575e-01, -1.20798691e+00,  1.80764035e+00,  3.43359441e-01,\n",
       "       -3.26702450e-01, -8.83379652e-01, -3.03850405e-01, -3.40375707e-01,\n",
       "        5.68378356e-01, -4.26138478e-02,  2.26386963e-01, -8.40316314e-01,\n",
       "        3.34486471e-01, -2.58628209e-01, -1.38665935e+00, -3.58775476e-01,\n",
       "        4.98026819e-01,  9.76277794e-01,  1.54357879e-01,  1.10447403e+00,\n",
       "        1.07801094e+00,  2.27673465e-02, -7.59467188e-01,  5.48401989e-01,\n",
       "       -1.14505563e-01,  5.12041046e-01,  2.48130544e-01,  1.76673745e+00,\n",
       "        1.05814784e-01,  2.76875004e-01, -2.38674793e-01,  1.45680483e+00,\n",
       "       -8.76762921e-01,  4.67240169e-01,  4.41936530e-01, -7.30083806e-01,\n",
       "        5.99308496e-01, -1.58178507e+00,  9.05170619e-01,  1.29773571e+00,\n",
       "        7.86976764e-01, -1.42842312e+00,  2.24071838e-01, -3.97785783e-01,\n",
       "        1.04212293e+00, -7.23064034e-02, -1.22863575e+00,  1.30178629e+00,\n",
       "        8.64546813e-01, -1.30222190e+00, -5.55050008e-01,  5.79511198e-03,\n",
       "        8.59214339e-01,  3.73133443e-01,  4.46228137e-01, -9.44908574e-01,\n",
       "       -7.54220680e-01,  6.60147881e-01,  1.12532179e-01,  8.48834605e-01,\n",
       "        1.62311704e+00, -8.01222529e-01, -1.00332245e+00, -1.06542779e+00,\n",
       "       -2.23877558e+00,  1.32962863e-01,  5.54255538e-01,  7.99611542e-01,\n",
       "        4.37531729e-01, -8.90737315e-01, -1.68261266e-01,  1.15138679e+00,\n",
       "        4.02172342e-01, -1.99424236e+00,  1.47447203e-01,  1.71513940e-01,\n",
       "       -4.60030729e-01, -1.18561855e+00,  2.82404668e-01, -4.42126884e-01,\n",
       "       -2.40663585e+00,  2.59184505e-01, -2.93335082e+00,  3.07398527e-01,\n",
       "        3.77549544e-01, -3.81284392e-01, -1.45884906e+00,  1.30145929e-01,\n",
       "       -6.62565058e-01, -1.86705257e+00, -4.22818136e-01, -6.54226489e-03,\n",
       "        1.61020738e+00, -1.63704572e+00, -4.68621354e-01,  1.74140556e-01,\n",
       "        8.38430055e-02,  1.14765331e+00, -6.46993948e-01,  1.77458867e-01,\n",
       "        1.83850517e-01, -1.07810231e+00, -4.97738695e-01,  6.87995393e-01,\n",
       "        1.05064882e+00, -1.43292836e+00, -1.26555730e+00, -9.57490515e-01,\n",
       "       -5.04004338e-01,  7.26115114e-01,  1.63098699e+00, -1.09408456e+00,\n",
       "        7.53203736e-01, -2.04708134e+00,  1.06223751e+00,  1.07454808e+00,\n",
       "        5.72047865e-01, -3.70746433e-01,  3.62778806e-01,  5.20497453e-01,\n",
       "       -1.59661039e+00, -8.69622189e-01, -5.72243181e-02,  7.61354201e-02,\n",
       "        6.86175136e-01,  2.11307501e-01,  8.40645698e-02, -1.63638543e-01,\n",
       "        1.91093229e+00, -1.65033618e-01, -3.62872422e-01, -2.02927607e+00,\n",
       "        1.18053764e+00,  9.76047528e-01,  8.60956357e-01, -8.02987106e-01,\n",
       "        7.01827074e-01,  5.85828940e-01, -6.25825929e-02, -5.70542605e-01,\n",
       "        1.34246291e+00, -2.65447246e-01,  1.04339207e+00,  6.52276282e-01,\n",
       "        7.30647819e-01,  1.32894746e-01, -4.94615875e-01,  7.47592973e-01,\n",
       "       -8.56827882e-01,  1.40921437e+00, -8.23816596e-02,  9.07081487e-01,\n",
       "        9.90282921e-01, -1.07697223e+00, -1.30929373e+00, -9.15574382e-01,\n",
       "        1.25236212e-02,  3.86729959e-01,  8.83110069e-01,  2.42900620e-01,\n",
       "        1.44418309e+00,  6.62664328e-01, -6.93920570e-01,  6.11145448e-01,\n",
       "        6.28157386e-01, -1.23637184e+00,  1.74589802e+00,  1.20851803e+00,\n",
       "        6.53691327e-01, -4.99693923e-01,  1.36284131e+00,  7.26464543e-01,\n",
       "       -2.21358523e-01, -5.79493101e-01,  3.96015940e-01,  1.39409698e+00,\n",
       "        8.53031046e-01,  4.35363035e-01,  1.79870172e+00, -1.45427001e+00,\n",
       "       -1.90473686e+00, -5.78478215e-01, -5.13118473e-02, -3.14352283e-01,\n",
       "        1.27191549e+00,  2.65333692e-01, -7.48265300e-01, -3.39043585e-01,\n",
       "       -9.79018067e-01,  4.40821667e-01,  7.51191192e-01,  8.65358102e-01,\n",
       "       -1.46001736e+00, -1.11436102e+00, -4.09594354e-01, -4.55876200e-01,\n",
       "        2.33965174e-01, -1.30189071e+00, -1.14200612e+00,  1.70566953e+00,\n",
       "        3.59137181e-01, -6.89301158e-01, -1.23290019e+00,  8.71839888e-02,\n",
       "        7.29666510e-02, -2.08628308e+00, -6.19726725e-01, -1.49712187e-01,\n",
       "        1.16207658e+00,  1.70201540e-01, -2.61320190e-01,  8.06310214e-01,\n",
       "       -1.19141615e-01,  1.17330220e+00,  2.54829855e+00,  7.78526055e-01,\n",
       "        1.50489508e+00, -3.73249758e-01,  8.40873128e-01,  9.14987044e-01,\n",
       "       -1.04264624e+00, -1.65124205e+00, -5.02354545e-02,  1.47738746e+00,\n",
       "       -5.46163494e-01, -8.09430926e-01, -5.97742398e-01, -1.34367807e+00,\n",
       "       -4.91053601e-01,  1.91215244e+00, -2.14413837e-01, -2.43997694e-01,\n",
       "        1.81364843e+00, -1.77940114e+00, -1.58998482e+00, -5.31308193e-01,\n",
       "        2.27252999e-01, -8.18829684e-02,  3.50776072e-01,  1.18397748e+00,\n",
       "       -3.53760869e-01,  2.58874923e-01, -1.06511556e+00,  1.77827479e+00,\n",
       "        2.60570518e+00, -2.50439480e+00, -6.05745149e-01,  2.86206916e-01,\n",
       "        7.07203128e-01,  1.89874645e+00,  6.32907142e-01, -4.70830872e-01,\n",
       "        7.42522494e-01,  3.16126446e-01,  9.73276111e-01,  7.96873556e-02,\n",
       "        5.04277520e-01, -1.41737346e+00, -1.05919464e+00,  8.33602747e-01,\n",
       "        1.13641825e+00, -5.37501348e-01,  1.38734545e+00,  9.77387256e-01,\n",
       "       -4.54940438e-02,  1.81153508e+00,  1.47482753e+00,  1.61339367e+00,\n",
       "        1.28183738e-01,  8.07102373e-01, -1.25476637e+00,  4.79530674e-01,\n",
       "       -7.45485915e-01, -4.44143108e-01,  8.80305444e-01,  1.41786594e-01,\n",
       "        1.04594973e+00,  1.92246014e-01,  2.46770900e-01,  1.11321608e+00,\n",
       "        4.44074840e-01, -1.37926639e+00, -3.18522949e-01, -9.76525877e-01,\n",
       "       -4.65504241e-01,  2.85855325e-01,  5.93924968e-01,  4.06984431e-01,\n",
       "       -1.09322754e+00, -1.27237059e-01, -2.23753026e+00,  1.32200283e+00,\n",
       "        1.06606485e+00,  1.12521815e-01,  8.65154726e-01,  2.32941539e+00,\n",
       "        6.64662805e-02,  4.42705489e-01,  6.74509815e-01, -1.76060072e+00,\n",
       "        6.81246791e-01,  4.79748240e-01,  1.09720481e+00,  6.04747816e-01,\n",
       "       -5.61162443e-01,  1.49786801e+00, -6.16461575e-01,  1.08873931e-01,\n",
       "       -1.15831623e+00,  1.59254547e+00,  2.03038590e-01,  5.60023295e-01,\n",
       "       -1.66160321e-01,  7.50201016e-01,  1.94901792e+00,  9.61144847e-01,\n",
       "        3.98790202e-02, -1.76023501e-01,  4.17210027e-01,  7.54475272e-01,\n",
       "        8.08272037e-02,  6.91515864e-01,  1.05336934e+00, -7.14202950e-01,\n",
       "       -9.40054221e-01,  1.39455497e-01, -2.40216994e+00,  3.16523793e-01,\n",
       "        1.01472078e+00, -7.87815941e-01,  1.56716709e+00,  1.52459371e-01,\n",
       "        4.83687712e-01,  4.72808987e-01, -1.26641026e+00,  1.64350509e+00,\n",
       "        2.65381322e+00,  2.37290411e+00,  3.58027986e-01, -4.47123171e-01,\n",
       "       -9.24358896e-01, -1.08007984e+00,  1.09355927e-01, -2.74772337e-02,\n",
       "        1.55336849e-02,  6.75020396e-01,  8.49828225e-01,  5.87147557e-01,\n",
       "        7.16096777e-02, -9.55755113e-01, -1.63279914e+00, -1.40519230e+00,\n",
       "       -1.38238226e+00,  8.52384269e-01,  4.01138246e-01,  1.10337281e+00,\n",
       "        1.78952340e+00, -1.39356470e+00,  2.71329972e-01, -4.74922383e-01,\n",
       "       -8.15029160e-01,  4.18225507e-03,  3.10947927e-01,  3.97973377e-01,\n",
       "        5.93048546e-01, -1.46183674e+00,  8.15899835e-01,  1.29384778e+00,\n",
       "       -8.16918503e-01, -1.45780962e-01,  5.19236365e-01,  8.76974766e-01,\n",
       "        1.34884771e+00,  7.82517089e-01, -1.46147980e+00, -1.56013786e-01,\n",
       "       -9.20025919e-01, -2.30111470e+00,  1.45157180e+00,  1.32175687e+00,\n",
       "        3.46042099e-01, -1.99645150e+00,  1.07770144e+00,  3.70568560e-01,\n",
       "        3.92188240e-01, -1.77692338e+00,  1.02518444e-01, -1.69400276e-01,\n",
       "       -8.24755311e-01, -6.40010361e-01, -3.23042599e-01,  1.03915147e+00,\n",
       "       -3.65166609e-01, -1.37739459e-01,  8.67512593e-01,  1.90566103e+00,\n",
       "        1.02351248e-02, -4.17006136e-01,  2.80107401e-01, -2.82934078e-01,\n",
       "        9.51289638e-01, -3.60909951e-01, -5.02791103e-02,  9.10334005e-01,\n",
       "       -1.07581595e+00, -1.85158926e+00,  4.17765084e-01,  3.99837075e-01,\n",
       "       -4.63938026e-01,  1.92969903e+00,  1.43918703e+00, -1.42874015e+00,\n",
       "        6.86071705e-01, -3.92134702e-01,  5.06733507e-01, -2.84234561e-01,\n",
       "       -3.82033802e-01,  1.18080995e+00,  8.49215379e-01, -1.23096703e+00,\n",
       "        4.73613376e-01,  1.08668410e+00,  1.31049668e+00,  1.07350769e-01,\n",
       "        4.29896613e-01,  7.87701041e-01, -2.02394574e+00, -1.55710537e+00,\n",
       "        1.48660416e+00, -9.38796018e-01,  1.80532266e+00, -3.24753053e-01,\n",
       "        4.81193953e-01, -5.32084717e-01,  1.71286530e+00, -2.40228655e+00,\n",
       "       -1.29769304e+00,  1.58975220e+00, -5.78729842e-01, -7.00419340e-01,\n",
       "        6.85456993e-01,  5.89356931e-01,  3.05100899e-01,  5.99354187e-01,\n",
       "       -1.28836399e+00,  2.36066246e-01,  1.04257119e+00, -8.94165192e-01,\n",
       "       -9.83195039e-01, -1.56716077e-01,  4.53263311e-01, -1.59487119e-01,\n",
       "        1.07188127e+00, -1.14534733e+00, -1.07885999e+00, -9.04985654e-01,\n",
       "        1.92107327e-01, -6.70465162e-01, -7.69646851e-01, -5.06789026e-01,\n",
       "        7.81184585e-01,  2.64036856e-01, -2.63870285e-01,  8.66946894e-01,\n",
       "        8.32659621e-01, -1.89869516e-01,  1.21388775e+00,  8.83206595e-01,\n",
       "        2.73341063e-01, -4.94496985e-01, -1.55095944e-01,  1.29149555e+00,\n",
       "        6.91119492e-01, -9.27735321e-01, -3.18290890e-02, -5.59440319e-01,\n",
       "        1.44535305e+00, -1.19650854e+00, -1.55046450e+00,  1.07421006e+00,\n",
       "       -7.61009440e-01, -1.70867934e-01, -5.91256205e-01, -2.71820879e-01,\n",
       "        2.93038106e-01, -1.04232078e-01, -5.36370347e-01, -7.13949470e-02,\n",
       "       -2.10978051e+00, -6.37485333e-01,  9.61774759e-02,  7.54879935e-01,\n",
       "        8.14076295e-01, -6.92227996e-02, -1.84411357e-01, -1.04056446e-02,\n",
       "       -1.60316472e+00,  5.28886499e-02, -8.60938699e-01, -1.08136601e-01,\n",
       "        1.02906854e+00, -2.59648210e-01, -1.12486377e+00,  3.96970513e-02,\n",
       "        1.24055386e-01, -1.15861427e-01,  5.52513972e-01, -5.93541489e-01,\n",
       "        1.40828698e-01,  1.66084020e+00, -5.29975703e-01,  1.52946528e+00,\n",
       "       -9.85120473e-01, -1.13529352e-01,  9.74541529e-01,  1.18860910e+00,\n",
       "        5.07225431e-01, -5.63293267e-01, -1.56858256e+00,  1.22656587e+00,\n",
       "        5.07237277e-01,  1.01747649e+00, -8.01153504e-01, -4.26055899e-01,\n",
       "        8.38545999e-01, -1.61294821e+00, -2.18316694e+00, -4.96345838e-01,\n",
       "       -7.52600612e-01, -6.77514453e-01, -7.07169574e-01,  2.43077824e-02,\n",
       "       -1.11143351e+00, -2.81868669e-01, -4.98476769e-01, -1.01887541e-01,\n",
       "        8.63199791e-01,  2.97996173e-01, -1.54987981e+00,  7.17532746e-01,\n",
       "        6.31478967e-02, -9.54593065e-02,  7.51753359e-01, -9.37646888e-02,\n",
       "       -1.17760642e-01, -7.87199554e-02, -1.20274533e+00, -3.63129277e-01,\n",
       "        8.13267217e-01, -3.66538066e-01,  4.68289269e-01,  1.08033999e+00,\n",
       "       -1.24488247e+00, -5.33117005e-01, -3.34987839e-01,  4.50688918e-01,\n",
       "        1.13362964e+00,  5.15246759e-01,  7.43301106e-01, -4.04234675e-01,\n",
       "       -1.43577015e-01,  7.88481493e-01,  1.53299271e+00, -1.79996555e+00,\n",
       "       -8.14893433e-01,  2.56693363e-01, -1.25049436e+00,  5.94235145e-01,\n",
       "        1.18791173e+00,  5.71770029e-01,  6.58613894e-01,  1.02172897e+00,\n",
       "       -5.64215338e-01,  7.08100938e-01, -6.38610169e-01,  6.85254097e-02,\n",
       "        4.38859227e-01,  2.76703107e-01,  1.39176167e+00, -7.93843323e-01,\n",
       "        9.90434608e-01,  2.96831413e-01,  6.13410024e-01, -2.39104968e+00,\n",
       "        1.42550650e+00, -1.11162054e+00,  9.05025798e-03,  4.97472757e-01,\n",
       "        8.94760370e-01, -3.19430524e-01, -1.20728549e+00, -5.02121356e-01,\n",
       "       -1.53030479e-01, -2.17855440e-01, -1.09593866e+00, -7.77445495e-01,\n",
       "       -2.37259802e+00,  1.12340827e+00, -1.15417799e+00,  1.16008640e+00,\n",
       "       -4.76815337e-01, -5.81561941e-02,  1.19227489e+00,  5.65576705e-01,\n",
       "       -7.58838273e-01, -6.91349054e-01, -2.61545989e+00, -7.51955960e-01,\n",
       "        3.57919011e-01, -6.20917408e-01, -1.61458189e-01,  5.77711348e-01,\n",
       "       -1.15491038e-01,  6.55307440e-02,  3.17734961e-01, -2.41135800e+00,\n",
       "        8.09713104e-01,  9.20268750e-01,  5.15197653e-01,  3.18595197e+00,\n",
       "       -2.69218037e-02,  1.40422390e+00,  2.98353121e-01,  1.88426226e-01,\n",
       "        1.21742378e-01,  7.08797143e-01, -7.87856619e-01,  1.03434256e+00,\n",
       "       -7.19544375e-01,  9.81429607e-02,  8.47200953e-01,  8.37495477e-01,\n",
       "       -9.56027952e-01,  6.22132233e-01,  2.02896630e+00,  5.19900370e-01,\n",
       "        1.99138466e+00, -6.77337161e-01, -6.87118756e-01,  1.24955396e+00,\n",
       "       -9.26433678e-01,  1.12918416e+00, -1.22895582e+00, -1.17705725e+00,\n",
       "       -1.77381730e-01,  3.80115582e-02,  3.48814679e-01, -1.26182996e+00,\n",
       "        1.27072740e+00, -6.63005770e-01,  1.37999128e-01,  9.34373057e-01,\n",
       "       -4.79370797e-01,  3.55905328e-01,  2.34609180e-01, -7.89224889e-01,\n",
       "       -5.12413078e-01,  6.62843005e-01, -3.43931087e-01, -6.20870120e-01,\n",
       "        1.99702740e+00,  3.11671015e-01, -7.04352359e-01, -9.54259945e-01,\n",
       "       -5.31955551e-01, -1.43886777e+00,  3.75960547e-01,  6.37694912e-01,\n",
       "        9.04282677e-01, -6.68165836e-01, -9.15086606e-01, -1.84341680e+00,\n",
       "       -7.00684431e-01,  3.21501686e-01, -8.43006240e-01, -2.01720196e+00,\n",
       "        7.85710009e-01,  1.46922499e-01,  2.48398287e+00, -3.65111081e-01,\n",
       "       -5.94949200e-01,  1.09800475e+00, -6.70818121e-01, -3.16418742e-01,\n",
       "       -1.49142702e+00, -4.81227337e-01, -3.41801103e-01, -1.32178329e+00,\n",
       "        2.84633074e-01,  4.98519493e-01,  2.12489849e+00,  5.13091657e-02])"
      ]
     },
     "execution_count": 3,
     "metadata": {},
     "output_type": "execute_result"
    }
   ],
   "source": [
    "data"
   ]
  },
  {
   "cell_type": "code",
   "execution_count": 4,
   "metadata": {},
   "outputs": [
    {
     "data": {
      "text/plain": [
       "<matplotlib.axes._subplots.AxesSubplot at 0x2c6fbd39f10>"
      ]
     },
     "execution_count": 4,
     "metadata": {},
     "output_type": "execute_result"
    },
    {
     "data": {
      "image/png": "[encoded data removed]",
      "text/plain": [
       "<Figure size 432x288 with 1 Axes>"
      ]
     },
     "metadata": {
      "needs_background": "light"
     },
     "output_type": "display_data"
    }
   ],
   "source": [
    "sns.kdeplot(data)"
   ]
  },
  {
   "cell_type": "code",
   "execution_count": 12,
   "metadata": {},
   "outputs": [
    {
     "data": {
      "text/plain": [
       "<matplotlib.axes._subplots.AxesSubplot at 0x2c6815b42b0>"
      ]
     },
     "execution_count": 12,
     "metadata": {},
     "output_type": "execute_result"
    },
    {
     "data": {
      "image/png": "[encoded data removed]",
      "text/plain": [
       "<Figure size 432x288 with 1 Axes>"
      ]
     },
     "metadata": {
      "needs_background": "light"
     },
     "output_type": "display_data"
    }
   ],
   "source": [
    "sns.kdeplot(data\n",
    "           ,shade = True\n",
    "           #,vertical = True\n",
    "           ,color = 'r'\n",
    "           #,alpha = 0.8\n",
    "           ,linewidth = 3\n",
    "           ,linestyle = '--'\n",
    "           )"
   ]
  },
  {
   "cell_type": "code",
   "execution_count": 13,
   "metadata": {},
   "outputs": [
    {
     "data": {
      "text/plain": [
       "(array([  9.,  25.,  77., 179., 226., 227., 169.,  67.,  18.,   3.]),\n",
       " array([-3.00881437, -2.38933774, -1.7698611 , -1.15038447, -0.53090783,\n",
       "         0.0885688 ,  0.70804544,  1.32752207,  1.9469987 ,  2.56647534,\n",
       "         3.18595197]),\n",
       " <a list of 10 Patch objects>)"
      ]
     },
     "execution_count": 13,
     "metadata": {},
     "output_type": "execute_result"
    },
    {
     "data": {
      "image/png": "[encoded data removed]",
      "text/plain": [
       "<Figure size 432x288 with 1 Axes>"
      ]
     },
     "metadata": {
      "needs_background": "light"
     },
     "output_type": "display_data"
    }
   ],
   "source": [
    "plt.hist(data)"
   ]
  },
  {
   "cell_type": "markdown",
   "metadata": {},
   "source": [
    "### 4.3.3 认识所用的数据集"
   ]
  },
  {
   "cell_type": "code",
   "execution_count": 19,
   "metadata": {},
   "outputs": [],
   "source": [
    "df = pd.read_csv(\"https://github.com/selva86/datasets/raw/master/mpg_ggplot2.csv\")"
   ]
  },
  {
   "cell_type": "code",
   "execution_count": 20,
   "metadata": {},
   "outputs": [
    {
     "data": {
      "text/html": [
       "<div>\n",
       "<style scoped>\n",
       "    .dataframe tbody tr th:only-of-type {\n",
       "        vertical-align: middle;\n",
       "    }\n",
       "\n",
       "    .dataframe tbody tr th {\n",
       "        vertical-align: top;\n",
       "    }\n",
       "\n",
       "    .dataframe thead th {\n",
       "        text-align: right;\n",
       "    }\n",
       "</style>\n",
       "<table border=\"1\" class=\"dataframe\">\n",
       "  <thead>\n",
       "    <tr style=\"text-align: right;\">\n",
       "      <th></th>\n",
       "      <th>manufacturer</th>\n",
       "      <th>model</th>\n",
       "      <th>displ</th>\n",
       "      <th>year</th>\n",
       "      <th>cyl</th>\n",
       "      <th>trans</th>\n",
       "      <th>drv</th>\n",
       "      <th>cty</th>\n",
       "      <th>hwy</th>\n",
       "      <th>fl</th>\n",
       "      <th>class</th>\n",
       "    </tr>\n",
       "  </thead>\n",
       "  <tbody>\n",
       "    <tr>\n",
       "      <th>0</th>\n",
       "      <td>audi</td>\n",
       "      <td>a4</td>\n",
       "      <td>1.8</td>\n",
       "      <td>1999</td>\n",
       "      <td>4</td>\n",
       "      <td>auto(l5)</td>\n",
       "      <td>f</td>\n",
       "      <td>18</td>\n",
       "      <td>29</td>\n",
       "      <td>p</td>\n",
       "      <td>compact</td>\n",
       "    </tr>\n",
       "    <tr>\n",
       "      <th>1</th>\n",
       "      <td>audi</td>\n",
       "      <td>a4</td>\n",
       "      <td>1.8</td>\n",
       "      <td>1999</td>\n",
       "      <td>4</td>\n",
       "      <td>manual(m5)</td>\n",
       "      <td>f</td>\n",
       "      <td>21</td>\n",
       "      <td>29</td>\n",
       "      <td>p</td>\n",
       "      <td>compact</td>\n",
       "    </tr>\n",
       "    <tr>\n",
       "      <th>2</th>\n",
       "      <td>audi</td>\n",
       "      <td>a4</td>\n",
       "      <td>2.0</td>\n",
       "      <td>2008</td>\n",
       "      <td>4</td>\n",
       "      <td>manual(m6)</td>\n",
       "      <td>f</td>\n",
       "      <td>20</td>\n",
       "      <td>31</td>\n",
       "      <td>p</td>\n",
       "      <td>compact</td>\n",
       "    </tr>\n",
       "    <tr>\n",
       "      <th>3</th>\n",
       "      <td>audi</td>\n",
       "      <td>a4</td>\n",
       "      <td>2.0</td>\n",
       "      <td>2008</td>\n",
       "      <td>4</td>\n",
       "      <td>auto(av)</td>\n",
       "      <td>f</td>\n",
       "      <td>21</td>\n",
       "      <td>30</td>\n",
       "      <td>p</td>\n",
       "      <td>compact</td>\n",
       "    </tr>\n",
       "    <tr>\n",
       "      <th>4</th>\n",
       "      <td>audi</td>\n",
       "      <td>a4</td>\n",
       "      <td>2.8</td>\n",
       "      <td>1999</td>\n",
       "      <td>6</td>\n",
       "      <td>auto(l5)</td>\n",
       "      <td>f</td>\n",
       "      <td>16</td>\n",
       "      <td>26</td>\n",
       "      <td>p</td>\n",
       "      <td>compact</td>\n",
       "    </tr>\n",
       "  </tbody>\n",
       "</table>\n",
       "</div>"
      ],
      "text/plain": [
       "  manufacturer model  displ  year  cyl       trans drv  cty  hwy fl    class\n",
       "0         audi    a4    1.8  1999    4    auto(l5)   f   18   29  p  compact\n",
       "1         audi    a4    1.8  1999    4  manual(m5)   f   21   29  p  compact\n",
       "2         audi    a4    2.0  2008    4  manual(m6)   f   20   31  p  compact\n",
       "3         audi    a4    2.0  2008    4    auto(av)   f   21   30  p  compact\n",
       "4         audi    a4    2.8  1999    6    auto(l5)   f   16   26  p  compact"
      ]
     },
     "execution_count": 20,
     "metadata": {},
     "output_type": "execute_result"
    }
   ],
   "source": [
    "df.head()"
   ]
  },
  {
   "cell_type": "code",
   "execution_count": 21,
   "metadata": {},
   "outputs": [
    {
     "data": {
      "text/plain": [
       "(234, 11)"
      ]
     },
     "execution_count": 21,
     "metadata": {},
     "output_type": "execute_result"
    }
   ],
   "source": [
    "df.shape"
   ]
  },
  {
   "cell_type": "code",
   "execution_count": 22,
   "metadata": {},
   "outputs": [
    {
     "data": {
      "text/plain": [
       "Index(['manufacturer', 'model', 'displ', 'year', 'cyl', 'trans', 'drv', 'cty',\n",
       "       'hwy', 'fl', 'class'],\n",
       "      dtype='object')"
      ]
     },
     "execution_count": 22,
     "metadata": {},
     "output_type": "execute_result"
    }
   ],
   "source": [
    "df.columns"
   ]
  },
  {
   "cell_type": "code",
   "execution_count": 23,
   "metadata": {},
   "outputs": [],
   "source": [
    "name = ['汽车制造商', '型号名称', '发动机排量(L)', '制造年份', '气缸数量', '手动/自动', '驱动类型', '城市里程/加仑', '公路里程/加仑', '汽油种类', '车辆类型']"
   ]
  },
  {
   "cell_type": "code",
   "execution_count": 24,
   "metadata": {},
   "outputs": [
    {
     "data": {
      "text/plain": [
       "[('manufacturer', '汽车制造商'),\n",
       " ('model', '型号名称'),\n",
       " ('displ', '发动机排量(L)'),\n",
       " ('year', '制造年份'),\n",
       " ('cyl', '气缸数量'),\n",
       " ('trans', '手动/自动'),\n",
       " ('drv', '驱动类型'),\n",
       " ('cty', '城市里程/加仑'),\n",
       " ('hwy', '公路里程/加仑'),\n",
       " ('fl', '汽油种类'),\n",
       " ('class', '车辆类型')]"
      ]
     },
     "execution_count": 24,
     "metadata": {},
     "output_type": "execute_result"
    }
   ],
   "source": [
    "[*zip(df.columns, name)]"
   ]
  },
  {
   "cell_type": "markdown",
   "metadata": {},
   "source": [
    "### 4.3.4 绘制密度图"
   ]
  },
  {
   "cell_type": "code",
   "execution_count": 25,
   "metadata": {},
   "outputs": [
    {
     "data": {
      "text/plain": [
       "array([18, 21, 20, 21, 16, 18, 18, 18, 16, 20, 19, 15, 17, 17, 15, 15, 17,\n",
       "       16, 14, 11, 14, 13, 12, 16, 15, 16, 15, 15, 14, 11, 11, 14, 19, 22,\n",
       "       18, 18, 17, 18, 17, 16, 16, 17, 17, 11, 15, 15, 16, 16, 15, 14, 13,\n",
       "       14, 14, 14,  9, 11, 11, 13, 13,  9, 13, 11, 13, 11, 12,  9, 13, 13,\n",
       "       12,  9, 11, 11, 13, 11, 11, 11, 12, 14, 15, 14, 13, 13, 13, 14, 14,\n",
       "       13, 13, 13, 11, 13, 18, 18, 17, 16, 15, 15, 15, 15, 14, 28, 24, 25,\n",
       "       23, 24, 26, 25, 24, 21, 18, 18, 21, 21, 18, 18, 19, 19, 19, 20, 20,\n",
       "       17, 16, 17, 17, 15, 15, 14,  9, 14, 13, 11, 11, 12, 12, 11, 11, 11,\n",
       "       12, 14, 13, 13, 13, 21, 19, 23, 23, 19, 19, 18, 19, 19, 14, 15, 14,\n",
       "       12, 18, 16, 17, 18, 16, 18, 18, 20, 19, 20, 18, 21, 19, 19, 19, 20,\n",
       "       20, 19, 20, 15, 16, 15, 15, 16, 14, 21, 21, 21, 21, 18, 18, 19, 21,\n",
       "       21, 21, 22, 18, 18, 18, 24, 24, 26, 28, 26, 11, 13, 15, 16, 17, 15,\n",
       "       15, 15, 16, 21, 19, 21, 22, 17, 33, 21, 19, 22, 21, 21, 21, 16, 17,\n",
       "       35, 29, 21, 19, 20, 20, 21, 18, 19, 21, 16, 18, 17], dtype=int64)"
      ]
     },
     "execution_count": 25,
     "metadata": {},
     "output_type": "execute_result"
    }
   ],
   "source": [
    "df.cty.values #城市里程"
   ]
  },
  {
   "cell_type": "code",
   "execution_count": 26,
   "metadata": {},
   "outputs": [
    {
     "data": {
      "text/plain": [
       "4    81\n",
       "6    79\n",
       "8    70\n",
       "5     4\n",
       "Name: cyl, dtype: int64"
      ]
     },
     "execution_count": 26,
     "metadata": {},
     "output_type": "execute_result"
    }
   ],
   "source": [
    "df.cyl.value_counts()"
   ]
  },
  {
   "cell_type": "code",
   "execution_count": 27,
   "metadata": {},
   "outputs": [
    {
     "data": {
      "text/plain": [
       "array([18, 21, 20, 21, 18, 16, 20, 19, 19, 22, 18, 28, 24, 25, 23, 24, 26,\n",
       "       25, 24, 21, 18, 18, 21, 21, 19, 19, 20, 20, 21, 19, 23, 23, 18, 18,\n",
       "       20, 19, 20, 18, 21, 19, 19, 19, 20, 20, 19, 20, 15, 16, 21, 21, 21,\n",
       "       21, 21, 21, 21, 22, 24, 24, 26, 28, 26, 15, 16, 17, 21, 19, 21, 22,\n",
       "       33, 21, 19, 22, 21, 35, 29, 21, 19, 21, 18, 19, 21], dtype=int64)"
      ]
     },
     "execution_count": 27,
     "metadata": {},
     "output_type": "execute_result"
    }
   ],
   "source": [
    "df.loc[df.cyl == 4, 'cty'].values"
   ]
  },
  {
   "cell_type": "code",
   "execution_count": 28,
   "metadata": {},
   "outputs": [],
   "source": [
    "c4 = df.loc[df.cyl == 4, 'cty'].values"
   ]
  },
  {
   "cell_type": "code",
   "execution_count": 30,
   "metadata": {},
   "outputs": [
    {
     "data": {
      "text/plain": [
       "<matplotlib.axes._subplots.AxesSubplot at 0x2c681686490>"
      ]
     },
     "execution_count": 30,
     "metadata": {},
     "output_type": "execute_result"
    },
    {
     "data": {
      "image/png": "[encoded data removed]",
      "text/plain": [
       "<Figure size 432x288 with 1 Axes>"
      ]
     },
     "metadata": {
      "needs_background": "light"
     },
     "output_type": "display_data"
    }
   ],
   "source": [
    "sns.kdeplot(c4\n",
    "           ,shade = True\n",
    "           ,color = 'r'\n",
    "           ,alpha = 0.3\n",
    "           ,label = 'Cyl=4'\n",
    "           )"
   ]
  },
  {
   "cell_type": "code",
   "execution_count": 32,
   "metadata": {},
   "outputs": [
    {
     "data": {
      "image/png": "[encoded data removed]",
      "text/plain": [
       "<Figure size 720x480 with 1 Axes>"
      ]
     },
     "metadata": {
      "needs_background": "light"
     },
     "output_type": "display_data"
    }
   ],
   "source": [
    "#提取绘图数据\n",
    "c4 = df.loc[df.cyl == 4, 'cty'].values\n",
    "c5 = df.loc[df.cyl == 5, 'cty'].values\n",
    "c6 = df.loc[df.cyl == 6, 'cty'].values\n",
    "c8 = df.loc[df.cyl == 8, 'cty'].values\n",
    "\n",
    "#创建画布并设定画布尺寸\n",
    "plt.figure(figsize = (12,8), dpi = 60)\n",
    "\n",
    "#绘制图形\n",
    "sns.kdeplot(c4, shade=True, color=\"deeppink\", label=\"Cyl=4\", alpha=.7)\n",
    "sns.kdeplot(c5, shade=True, color=\"green\", label=\"Cyl=5\", alpha=.7)\n",
    "sns.kdeplot(c6, shade=True, color=\"blue\", label=\"Cyl=6\", alpha=.7)\n",
    "sns.kdeplot(c8, shade=True, color=\"orange\", label=\"Cyl=8\", alpha=.7)\n",
    "\n",
    "#添加装饰\n",
    "plt.title('城市里程随气缸数量变化密度图', fontsize=22)\n",
    "plt.xlabel('城市里程(cty)', fontsize = 18)\n",
    "plt.xticks(fontsize = 15)\n",
    "plt.yticks(fontsize = 15)\n",
    "plt.legend(fontsize = 13, loc = 0, frameon = False) #loc是图例放置位置，0是最佳位置，0-10可选\n",
    "plt.show()"
   ]
  },
  {
   "cell_type": "markdown",
   "metadata": {},
   "source": [
    "### 4.3.5 图像解读"
   ]
  },
  {
   "cell_type": "markdown",
   "metadata": {},
   "source": [
    "气缸数为5的汽车，城市里程固定在20左右；气缸数为4的汽车，汽车油耗波动较大；气缸数为8的汽车，总体来说油耗最大。"
   ]
  },
  {
   "cell_type": "code",
   "execution_count": null,
   "metadata": {},
   "outputs": [],
   "source": []
  }
 ],
 "metadata": {
  "kernelspec": {
   "display_name": "Python 3",
   "language": "python",
   "name": "python3"
  },
  "language_info": {
   "codemirror_mode": {
    "name": "ipython",
    "version": 3
   },
   "file_extension": ".py",
   "mimetype": "text/x-python",
   "name": "python",
   "nbconvert_exporter": "python",
   "pygments_lexer": "ipython3",
   "version": "3.8.3"
  }
 },
 "nbformat": 4,
 "nbformat_minor": 4
}
