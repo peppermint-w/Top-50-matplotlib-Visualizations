{
 "cells": [
  {
   "cell_type": "markdown",
   "metadata": {},
   "source": [
    "# 1 关联图correlation"
   ]
  },
  {
   "cell_type": "markdown",
   "metadata": {},
   "source": [
    "## 1.6 边缘直方图"
   ]
  },
  {
   "cell_type": "markdown",
   "metadata": {},
   "source": [
    "横坐标：发动机排量(L)<br>\n",
    "纵坐标：公路里程/加仑<br>\n",
    "散点颜色：制造商"
   ]
  },
  {
   "cell_type": "markdown",
   "metadata": {},
   "source": [
    "### 1.6.1 导入需要的绘图库"
   ]
  },
  {
   "cell_type": "code",
   "execution_count": 6,
   "metadata": {},
   "outputs": [],
   "source": [
    "import numpy as np\n",
    "import pandas as pd\n",
    "import matplotlib as mpl\n",
    "import matplotlib.pyplot as plt\n",
    "import seaborn as sns\n",
    "%matplotlib inline"
   ]
  },
  {
   "cell_type": "markdown",
   "metadata": {},
   "source": [
    "### 1.6.2 准备画布与子图"
   ]
  },
  {
   "cell_type": "markdown",
   "metadata": {},
   "source": [
    "#### plt.figure：构建画布"
   ]
  },
  {
   "cell_type": "markdown",
   "metadata": {},
   "source": [
    "figsize：画布大小<br>\n",
    "dpi：图像分辨率"
   ]
  },
  {
   "cell_type": "markdown",
   "metadata": {},
   "source": [
    "#### plt.GridSpec：在画布上进行分割"
   ]
  },
  {
   "cell_type": "markdown",
   "metadata": {},
   "source": [
    "nrows：画布上存在多少行<br>\n",
    "ncols：画布上存在多少列<br>\n",
    "hspace：格子之间上下的间隔<br>\n",
    "wspace：格子之间左右的间隔"
   ]
  },
  {
   "cell_type": "code",
   "execution_count": 3,
   "metadata": {},
   "outputs": [
    {
     "data": {
      "text/plain": [
       "<Figure size 1280x800 with 0 Axes>"
      ]
     },
     "metadata": {},
     "output_type": "display_data"
    }
   ],
   "source": [
    "#创建画布与格子\n",
    "fig = plt.figure(figsize = (16,10), dpi = 80)\n",
    "grid = plt.GridSpec(4, 4, hspace = 0.5, wspace = 0.2)"
   ]
  },
  {
   "cell_type": "markdown",
   "metadata": {},
   "source": [
    "#### fig.add_subplot：在画布上建立子图"
   ]
  },
  {
   "cell_type": "markdown",
   "metadata": {},
   "source": [
    "\\*args：一个3位整数或3个独立的整数，用于描述子图的位置。如果三个整数按顺序为行、列和索引，则子图将采用行*列网格上的索引所对应的位置。索引从左上角的0开始，向右增加，最右及最下用-1表示。与Python中所有的索引一样，取前不取后。"
   ]
  },
  {
   "cell_type": "code",
   "execution_count": 4,
   "metadata": {},
   "outputs": [],
   "source": [
    "#添加子图\n",
    "ax_main = fig.add_subplot(grid[:-1, :-1])\n",
    "ax_right = fig.add_subplot(grid[:-1, -1], xticklabels = [], yticklabels = [])\n",
    "ax_bottom = fig.add_subplot(grid[-1, 0:-1], xticklabels = [], yticklabels = [])"
   ]
  },
  {
   "cell_type": "markdown",
   "metadata": {},
   "source": [
    "### 1.6.3 认识绘制直方图的函数"
   ]
  },
  {
   "cell_type": "markdown",
   "metadata": {},
   "source": [
    "#### plt.hist()"
   ]
  },
  {
   "cell_type": "markdown",
   "metadata": {},
   "source": [
    "* x：需要分析的变量<br>\n",
    "* bins：把变量分成多少段<br>\n",
    "* orientation：直方图的方向，可分为横向(horizontal)和纵向(vertical默认)<br>\n",
    "* histtype：生成的直方图的类型，可输入{'bar', 'baarstacked', 'step', 'stepfilled'}四种类型，分别代表：<br>\n",
    "'bar'是传统的条形直方图。如果给出多个数据，则条并排排列；<br>\n",
    "'barstacked'是条形直方图，其中多个数据堆叠在一起；<br>\n",
    "'step'生成一个默认未填充的线条轮廓；<br>\n",
    "'stepfilled'生成一个默认填充的线条轮廓"
   ]
  },
  {
   "cell_type": "code",
   "execution_count": 7,
   "metadata": {},
   "outputs": [],
   "source": [
    "#构建数据\n",
    "X = np.random.randn(10000) #标准正态分布"
   ]
  },
  {
   "cell_type": "code",
   "execution_count": 16,
   "metadata": {},
   "outputs": [
    {
     "data": {
      "image/png": "[encoded data removed]",
      "text/plain": [
       "<Figure size 432x288 with 1 Axes>"
      ]
     },
     "metadata": {
      "needs_background": "light"
     },
     "output_type": "display_data"
    }
   ],
   "source": [
    "n, bins, patches = plt.hist(x = X #需要分析的变量\n",
    "                           ,bins = 100 #需要把变量分成多少段，即形成多少个柱子的分布\n",
    "                           #,orientation = 'horizontal'\n",
    "                           ,histtype = 'step'\n",
    "                           ,color = 'deeppink'\n",
    "                           )\n",
    "#自动返回三项内容：每个箱子中含有多少个样本，在变量中划分出的箱子的宽度，用于创建直方图的补丁列表"
   ]
  },
  {
   "cell_type": "code",
   "execution_count": 17,
   "metadata": {},
   "outputs": [
    {
     "data": {
      "text/plain": [
       "array([  1.,   0.,   0.,   0.,   0.,   0.,   0.,   0.,   0.,   0.,   0.,\n",
       "         0.,   0.,   0.,   1.,   1.,   1.,   3.,   1.,   3.,   8.,   3.,\n",
       "        10.,  14.,  14.,  10.,  10.,  18.,  19.,  30.,  32.,  35.,  53.,\n",
       "        51.,  72.,  73., 101., 117., 114., 130., 157., 138., 186., 188.,\n",
       "       211., 261., 268., 268., 313., 336., 313., 308., 341., 349., 344.,\n",
       "       329., 324., 354., 314., 327., 335., 276., 293., 241., 256., 196.,\n",
       "       214., 212., 172., 181., 154., 129., 115., 101.,  82.,  91.,  64.,\n",
       "        56.,  56.,  37.,  33.,  23.,  19.,  24.,  22.,  16.,  10.,   8.,\n",
       "        14.,   4.,   3.,   2.,   1.,   3.,   1.,   0.,   1.,   0.,   0.,\n",
       "         1.])"
      ]
     },
     "execution_count": 17,
     "metadata": {},
     "output_type": "execute_result"
    }
   ],
   "source": [
    "n"
   ]
  },
  {
   "cell_type": "code",
   "execution_count": 18,
   "metadata": {},
   "outputs": [
    {
     "data": {
      "text/plain": [
       "(100,)"
      ]
     },
     "execution_count": 18,
     "metadata": {},
     "output_type": "execute_result"
    }
   ],
   "source": [
    "n.shape"
   ]
  },
  {
   "cell_type": "code",
   "execution_count": 19,
   "metadata": {},
   "outputs": [
    {
     "data": {
      "text/plain": [
       "array([-4.75643909, -4.67048171, -4.58452433, -4.49856695, -4.41260958,\n",
       "       -4.3266522 , -4.24069482, -4.15473744, -4.06878006, -3.98282268,\n",
       "       -3.8968653 , -3.81090792, -3.72495055, -3.63899317, -3.55303579,\n",
       "       -3.46707841, -3.38112103, -3.29516365, -3.20920627, -3.1232489 ,\n",
       "       -3.03729152, -2.95133414, -2.86537676, -2.77941938, -2.693462  ,\n",
       "       -2.60750462, -2.52154725, -2.43558987, -2.34963249, -2.26367511,\n",
       "       -2.17771773, -2.09176035, -2.00580297, -1.9198456 , -1.83388822,\n",
       "       -1.74793084, -1.66197346, -1.57601608, -1.4900587 , -1.40410132,\n",
       "       -1.31814395, -1.23218657, -1.14622919, -1.06027181, -0.97431443,\n",
       "       -0.88835705, -0.80239967, -0.71644229, -0.63048492, -0.54452754,\n",
       "       -0.45857016, -0.37261278, -0.2866554 , -0.20069802, -0.11474064,\n",
       "       -0.02878327,  0.05717411,  0.14313149,  0.22908887,  0.31504625,\n",
       "        0.40100363,  0.48696101,  0.57291838,  0.65887576,  0.74483314,\n",
       "        0.83079052,  0.9167479 ,  1.00270528,  1.08866266,  1.17462003,\n",
       "        1.26057741,  1.34653479,  1.43249217,  1.51844955,  1.60440693,\n",
       "        1.69036431,  1.77632168,  1.86227906,  1.94823644,  2.03419382,\n",
       "        2.1201512 ,  2.20610858,  2.29206596,  2.37802334,  2.46398071,\n",
       "        2.54993809,  2.63589547,  2.72185285,  2.80781023,  2.89376761,\n",
       "        2.97972499,  3.06568236,  3.15163974,  3.23759712,  3.3235545 ,\n",
       "        3.40951188,  3.49546926,  3.58142664,  3.66738401,  3.75334139,\n",
       "        3.83929877])"
      ]
     },
     "execution_count": 19,
     "metadata": {},
     "output_type": "execute_result"
    }
   ],
   "source": [
    "bins #横坐标的值，101个点"
   ]
  },
  {
   "cell_type": "code",
   "execution_count": 20,
   "metadata": {},
   "outputs": [
    {
     "data": {
      "text/plain": [
       "(101,)"
      ]
     },
     "execution_count": 20,
     "metadata": {},
     "output_type": "execute_result"
    }
   ],
   "source": [
    "bins.shape"
   ]
  },
  {
   "cell_type": "code",
   "execution_count": 21,
   "metadata": {},
   "outputs": [
    {
     "data": {
      "text/plain": [
       "<a list of 1 Patch objects>"
      ]
     },
     "execution_count": 21,
     "metadata": {},
     "output_type": "execute_result"
    }
   ],
   "source": [
    "patches"
   ]
  },
  {
   "cell_type": "code",
   "execution_count": 22,
   "metadata": {},
   "outputs": [
    {
     "data": {
      "text/plain": [
       "[<matplotlib.patches.Polygon at 0x1e18d98a220>]"
      ]
     },
     "execution_count": 22,
     "metadata": {},
     "output_type": "execute_result"
    }
   ],
   "source": [
    "[*patches]"
   ]
  },
  {
   "cell_type": "markdown",
   "metadata": {},
   "source": [
    "### 1.6.4 认识数据"
   ]
  },
  {
   "cell_type": "code",
   "execution_count": 24,
   "metadata": {},
   "outputs": [],
   "source": [
    "df = pd.read_csv('http://raw.githubusercontent.com/selva86/datasets/master/mpg_ggplot2.csv')"
   ]
  },
  {
   "cell_type": "code",
   "execution_count": 25,
   "metadata": {},
   "outputs": [
    {
     "data": {
      "text/html": [
       "<div>\n",
       "<style scoped>\n",
       "    .dataframe tbody tr th:only-of-type {\n",
       "        vertical-align: middle;\n",
       "    }\n",
       "\n",
       "    .dataframe tbody tr th {\n",
       "        vertical-align: top;\n",
       "    }\n",
       "\n",
       "    .dataframe thead th {\n",
       "        text-align: right;\n",
       "    }\n",
       "</style>\n",
       "<table border=\"1\" class=\"dataframe\">\n",
       "  <thead>\n",
       "    <tr style=\"text-align: right;\">\n",
       "      <th></th>\n",
       "      <th>manufacturer</th>\n",
       "      <th>model</th>\n",
       "      <th>displ</th>\n",
       "      <th>year</th>\n",
       "      <th>cyl</th>\n",
       "      <th>trans</th>\n",
       "      <th>drv</th>\n",
       "      <th>cty</th>\n",
       "      <th>hwy</th>\n",
       "      <th>fl</th>\n",
       "      <th>class</th>\n",
       "    </tr>\n",
       "  </thead>\n",
       "  <tbody>\n",
       "    <tr>\n",
       "      <th>0</th>\n",
       "      <td>audi</td>\n",
       "      <td>a4</td>\n",
       "      <td>1.8</td>\n",
       "      <td>1999</td>\n",
       "      <td>4</td>\n",
       "      <td>auto(l5)</td>\n",
       "      <td>f</td>\n",
       "      <td>18</td>\n",
       "      <td>29</td>\n",
       "      <td>p</td>\n",
       "      <td>compact</td>\n",
       "    </tr>\n",
       "    <tr>\n",
       "      <th>1</th>\n",
       "      <td>audi</td>\n",
       "      <td>a4</td>\n",
       "      <td>1.8</td>\n",
       "      <td>1999</td>\n",
       "      <td>4</td>\n",
       "      <td>manual(m5)</td>\n",
       "      <td>f</td>\n",
       "      <td>21</td>\n",
       "      <td>29</td>\n",
       "      <td>p</td>\n",
       "      <td>compact</td>\n",
       "    </tr>\n",
       "    <tr>\n",
       "      <th>2</th>\n",
       "      <td>audi</td>\n",
       "      <td>a4</td>\n",
       "      <td>2.0</td>\n",
       "      <td>2008</td>\n",
       "      <td>4</td>\n",
       "      <td>manual(m6)</td>\n",
       "      <td>f</td>\n",
       "      <td>20</td>\n",
       "      <td>31</td>\n",
       "      <td>p</td>\n",
       "      <td>compact</td>\n",
       "    </tr>\n",
       "    <tr>\n",
       "      <th>3</th>\n",
       "      <td>audi</td>\n",
       "      <td>a4</td>\n",
       "      <td>2.0</td>\n",
       "      <td>2008</td>\n",
       "      <td>4</td>\n",
       "      <td>auto(av)</td>\n",
       "      <td>f</td>\n",
       "      <td>21</td>\n",
       "      <td>30</td>\n",
       "      <td>p</td>\n",
       "      <td>compact</td>\n",
       "    </tr>\n",
       "    <tr>\n",
       "      <th>4</th>\n",
       "      <td>audi</td>\n",
       "      <td>a4</td>\n",
       "      <td>2.8</td>\n",
       "      <td>1999</td>\n",
       "      <td>6</td>\n",
       "      <td>auto(l5)</td>\n",
       "      <td>f</td>\n",
       "      <td>16</td>\n",
       "      <td>26</td>\n",
       "      <td>p</td>\n",
       "      <td>compact</td>\n",
       "    </tr>\n",
       "  </tbody>\n",
       "</table>\n",
       "</div>"
      ],
      "text/plain": [
       "  manufacturer model  displ  year  cyl       trans drv  cty  hwy fl    class\n",
       "0         audi    a4    1.8  1999    4    auto(l5)   f   18   29  p  compact\n",
       "1         audi    a4    1.8  1999    4  manual(m5)   f   21   29  p  compact\n",
       "2         audi    a4    2.0  2008    4  manual(m6)   f   20   31  p  compact\n",
       "3         audi    a4    2.0  2008    4    auto(av)   f   21   30  p  compact\n",
       "4         audi    a4    2.8  1999    6    auto(l5)   f   16   26  p  compact"
      ]
     },
     "execution_count": 25,
     "metadata": {},
     "output_type": "execute_result"
    }
   ],
   "source": [
    "df.head()"
   ]
  },
  {
   "cell_type": "code",
   "execution_count": 26,
   "metadata": {},
   "outputs": [
    {
     "data": {
      "text/plain": [
       "Index(['manufacturer', 'model', 'displ', 'year', 'cyl', 'trans', 'drv', 'cty',\n",
       "       'hwy', 'fl', 'class'],\n",
       "      dtype='object')"
      ]
     },
     "execution_count": 26,
     "metadata": {},
     "output_type": "execute_result"
    }
   ],
   "source": [
    "df.columns"
   ]
  },
  {
   "cell_type": "code",
   "execution_count": 27,
   "metadata": {},
   "outputs": [],
   "source": [
    "name = ['汽车制造商','型号名称','发动机排量(L)','制造年份','气缸数量','手动/自动','驱动类型','城市里程/加仑','公路里程/加仑','汽油种类','车辆种类']\n",
    "#驱动类型：四轮，前轮，后轮\n",
    "#能源种类：汽油，柴油，用电等等\n",
    "#车辆种类：皮卡，SUV，小型，中型等等\n",
    "#城市里程/加仑，公路里程/加仑：表示使用每加仑汽油能够跑的英里数，数值越大代表汽车越节能"
   ]
  },
  {
   "cell_type": "code",
   "execution_count": 28,
   "metadata": {},
   "outputs": [
    {
     "data": {
      "text/plain": [
       "[('manufacturer', '汽车制造商'),\n",
       " ('model', '型号名称'),\n",
       " ('displ', '发动机排量(L)'),\n",
       " ('year', '制造年份'),\n",
       " ('cyl', '气缸数量'),\n",
       " ('trans', '手动/自动'),\n",
       " ('drv', '驱动类型'),\n",
       " ('cty', '城市里程/加仑'),\n",
       " ('hwy', '公路里程/加仑'),\n",
       " ('fl', '汽油种类'),\n",
       " ('class', '车辆种类')]"
      ]
     },
     "execution_count": 28,
     "metadata": {},
     "output_type": "execute_result"
    }
   ],
   "source": [
    "[*zip(df.columns.values, np.array(name))]"
   ]
  },
  {
   "cell_type": "markdown",
   "metadata": {},
   "source": [
    "### 1.6.5 绘制图像，代码详解"
   ]
  },
  {
   "cell_type": "code",
   "execution_count": 30,
   "metadata": {},
   "outputs": [
    {
     "data": {
      "text/plain": [
       "0            audi\n",
       "1            audi\n",
       "2            audi\n",
       "3            audi\n",
       "4            audi\n",
       "          ...    \n",
       "229    volkswagen\n",
       "230    volkswagen\n",
       "231    volkswagen\n",
       "232    volkswagen\n",
       "233    volkswagen\n",
       "Name: manufacturer, Length: 234, dtype: object"
      ]
     },
     "execution_count": 30,
     "metadata": {},
     "output_type": "execute_result"
    }
   ],
   "source": [
    "df.manufacturer #提取manufacturer这一列"
   ]
  },
  {
   "cell_type": "code",
   "execution_count": 31,
   "metadata": {},
   "outputs": [
    {
     "data": {
      "text/plain": [
       "0            audi\n",
       "1            audi\n",
       "2            audi\n",
       "3            audi\n",
       "4            audi\n",
       "          ...    \n",
       "229    volkswagen\n",
       "230    volkswagen\n",
       "231    volkswagen\n",
       "232    volkswagen\n",
       "233    volkswagen\n",
       "Name: manufacturer, Length: 234, dtype: category\n",
       "Categories (15, object): [audi, chevrolet, dodge, ford, ..., pontiac, subaru, toyota, volkswagen]"
      ]
     },
     "execution_count": 31,
     "metadata": {},
     "output_type": "execute_result"
    }
   ],
   "source": [
    "df.manufacturer.astype('category') #变成分类型变量，dtype变成category"
   ]
  },
  {
   "cell_type": "code",
   "execution_count": 32,
   "metadata": {},
   "outputs": [
    {
     "data": {
      "text/plain": [
       "<pandas.core.arrays.categorical.CategoricalAccessor object at 0x000001E18DB0FEB0>"
      ]
     },
     "execution_count": 32,
     "metadata": {},
     "output_type": "execute_result"
    }
   ],
   "source": [
    "df.manufacturer.astype('category').cat #取出分类型变量的类别"
   ]
  },
  {
   "cell_type": "code",
   "execution_count": 33,
   "metadata": {},
   "outputs": [
    {
     "data": {
      "text/plain": [
       "0       0\n",
       "1       0\n",
       "2       0\n",
       "3       0\n",
       "4       0\n",
       "       ..\n",
       "229    14\n",
       "230    14\n",
       "231    14\n",
       "232    14\n",
       "233    14\n",
       "Length: 234, dtype: int8"
      ]
     },
     "execution_count": 33,
     "metadata": {},
     "output_type": "execute_result"
    }
   ],
   "source": [
    "df.manufacturer.astype('category').cat.codes #按照类别进行编码，常用的编码方式"
   ]
  },
  {
   "cell_type": "code",
   "execution_count": 51,
   "metadata": {},
   "outputs": [
    {
     "data": {
      "image/png": "[encoded data removed]",
      "text/plain": [
       "<Figure size 1280x800 with 3 Axes>"
      ]
     },
     "metadata": {},
     "output_type": "display_data"
    }
   ],
   "source": [
    "#分割画布\n",
    "fig = plt.figure(figsize = (16,10), dpi = 80, facecolor = 'white')\n",
    "grid = plt.GridSpec(4, 4, hspace = 0.5, wspace = 0.2)\n",
    "\n",
    "#在分割完毕的画布上确认子图的位置\n",
    "ax_main = fig.add_subplot(grid[:-1, :-1])\n",
    "ax_right = fig.add_subplot(grid[:-1, -1], xticklabels = [], yticklabels = [])\n",
    "ax_bottom = fig.add_subplot(grid[-1, 0:-1], xticklabels = [], yticklabels = [])\n",
    "\n",
    "#在中心绘制气泡图\n",
    "ax_main.scatter('displ', 'hwy' #横纵坐标\n",
    "               ,data = df\n",
    "               ,s = df.cty*4 #气泡图\n",
    "               ,c = df.manufacturer.astype('category').cat.codes #制造商的类别\n",
    "               ,cmap = 'tab20' #可以根据自己喜欢的颜色随意修改\n",
    "               ,edgecolors = 'gray'\n",
    "               ,linewidths = 0.5\n",
    "               ,alpha = 0.9)\n",
    "\n",
    "#绘制底部的直方图\n",
    "ax_bottom.hist(df.displ\n",
    "              ,40 #40段\n",
    "              ,histtype = 'stepfilled'\n",
    "              ,orientation = 'vertical'\n",
    "              ,color = 'deeppink')\n",
    "ax_bottom.invert_yaxis() #让y轴反向，为了美观所以让分布形成朝下的分布\n",
    "\n",
    "#绘制右侧的直方图\n",
    "ax_right.hist(df.hwy\n",
    "             ,40\n",
    "             ,histtype = 'stepfilled'\n",
    "             ,orientation = 'horizontal'\n",
    "             ,color = 'deeppink'\n",
    "             )\n",
    "\n",
    "#装饰图像\n",
    "plt.rcParams['font.sans-serif'] = ['Microsoft Yahei'] #显示中文微软雅黑\n",
    "##主图\n",
    "ax_main.set(title = '边缘直方图 \\n 发动机排量 vs 公路里程/加仑' #主图标题\n",
    "           ,xlabel = '发动机排量(L)' #主图横坐标轴名称\n",
    "           ,ylabel = '公里路程/加仑' #主图纵坐标轴名称\n",
    "           )\n",
    "ax_main.title.set_fontsize(20) #标题字体大小\n",
    "\n",
    "for item in ([ax_main.xaxis.label, ax_main.yaxis.label] + ax_main.get_xticklabels() + ax_main.get_yticklabels()):\n",
    "    item.set_fontsize(14) #对所有横坐标纵坐标上的标题和刻度都设置字体大小为14\n",
    "\n",
    "for item in [ax_bottom, ax_right]:\n",
    "    item.set_xticks([])\n",
    "    item.set_yticks([]) #去掉两个直方图上的标尺，设为空\n",
    "\n",
    "xlabels = ax_main.get_xticks().tolist() #将现有的标尺取出来，tolist转化为带一位小数的浮点数\n",
    "ax_main.set_xticklabels(xlabels) #再将带一位小数的浮点数变成标尺\n",
    "plt.show()"
   ]
  },
  {
   "cell_type": "code",
   "execution_count": 36,
   "metadata": {},
   "outputs": [
    {
     "data": {
      "text/plain": [
       "Text(0.5, 1.0, '边缘直方图 \\n 发动机排量 vs 公路里程/加仑')"
      ]
     },
     "execution_count": 36,
     "metadata": {},
     "output_type": "execute_result"
    }
   ],
   "source": [
    "ax_main.title #标题的位置和内容，0.5表示x轴正中间"
   ]
  },
  {
   "cell_type": "code",
   "execution_count": 37,
   "metadata": {},
   "outputs": [
    {
     "data": {
      "text/plain": [
       "Text(0.5, 152.39393939393932, '发动机排量(L)')"
      ]
     },
     "execution_count": 37,
     "metadata": {},
     "output_type": "execute_result"
    }
   ],
   "source": [
    "ax_main.xaxis.label #x轴标签的位置和名字"
   ]
  },
  {
   "cell_type": "code",
   "execution_count": 39,
   "metadata": {},
   "outputs": [
    {
     "data": {
      "text/plain": [
       "Text(20.000000000000007, 0.5, '公里路程/加仑')"
      ]
     },
     "execution_count": 39,
     "metadata": {},
     "output_type": "execute_result"
    }
   ],
   "source": [
    "ax_main.yaxis.label"
   ]
  },
  {
   "cell_type": "code",
   "execution_count": 38,
   "metadata": {},
   "outputs": [
    {
     "data": {
      "text/plain": [
       "[Text(0.5, 152.39393939393932, '发动机排量(L)'),\n",
       " Text(20.000000000000007, 0.5, '公里路程/加仑')]"
      ]
     },
     "execution_count": 38,
     "metadata": {},
     "output_type": "execute_result"
    }
   ],
   "source": [
    "[ax_main.xaxis.label, ax_main.yaxis.label]"
   ]
  },
  {
   "cell_type": "code",
   "execution_count": 41,
   "metadata": {},
   "outputs": [
    {
     "data": {
      "text/plain": [
       "<a list of 8 Text major ticklabel objects>"
      ]
     },
     "execution_count": 41,
     "metadata": {},
     "output_type": "execute_result"
    }
   ],
   "source": [
    "ax_main.get_xticklabels()"
   ]
  },
  {
   "cell_type": "code",
   "execution_count": 45,
   "metadata": {},
   "outputs": [
    {
     "data": {
      "text/plain": [
       "[1.0, 2.0, 3.0, 4.0, 5.0, 6.0, 7.0, 8.0]"
      ]
     },
     "execution_count": 45,
     "metadata": {},
     "output_type": "execute_result"
    }
   ],
   "source": [
    "ax_main.get_xticks().tolist()"
   ]
  },
  {
   "cell_type": "code",
   "execution_count": 42,
   "metadata": {},
   "outputs": [
    {
     "data": {
      "text/plain": [
       "<a list of 9 Text major ticklabel objects>"
      ]
     },
     "execution_count": 42,
     "metadata": {},
     "output_type": "execute_result"
    }
   ],
   "source": [
    "ax_main.get_yticklabels()"
   ]
  },
  {
   "cell_type": "code",
   "execution_count": 46,
   "metadata": {},
   "outputs": [
    {
     "data": {
      "text/plain": [
       "[Text(1.0, 0, '1'),\n",
       " Text(2.0, 0, '2'),\n",
       " Text(3.0, 0, '3'),\n",
       " Text(4.0, 0, '4'),\n",
       " Text(5.0, 0, '5'),\n",
       " Text(6.0, 0, '6'),\n",
       " Text(7.0, 0, '7'),\n",
       " Text(8.0, 0, '8'),\n",
       " Text(0, 10.0, '10'),\n",
       " Text(0, 15.0, '15'),\n",
       " Text(0, 20.0, '20'),\n",
       " Text(0, 25.0, '25'),\n",
       " Text(0, 30.0, '30'),\n",
       " Text(0, 35.0, '35'),\n",
       " Text(0, 40.0, '40'),\n",
       " Text(0, 45.0, '45'),\n",
       " Text(0, 50.0, '50')]"
      ]
     },
     "execution_count": 46,
     "metadata": {},
     "output_type": "execute_result"
    }
   ],
   "source": [
    "ax_main.get_xticklabels() + ax_main.get_yticklabels() #前两个数字表示刻度的位置，第三个数字（字符串）表示刻度内容"
   ]
  },
  {
   "cell_type": "code",
   "execution_count": 47,
   "metadata": {},
   "outputs": [
    {
     "data": {
      "text/plain": [
       "[Text(0.5, 152.39393939393932, '发动机排量(L)'),\n",
       " Text(20.000000000000007, 0.5, '公里路程/加仑'),\n",
       " Text(1.0, 0, '1'),\n",
       " Text(2.0, 0, '2'),\n",
       " Text(3.0, 0, '3'),\n",
       " Text(4.0, 0, '4'),\n",
       " Text(5.0, 0, '5'),\n",
       " Text(6.0, 0, '6'),\n",
       " Text(7.0, 0, '7'),\n",
       " Text(8.0, 0, '8'),\n",
       " Text(0, 10.0, '10'),\n",
       " Text(0, 15.0, '15'),\n",
       " Text(0, 20.0, '20'),\n",
       " Text(0, 25.0, '25'),\n",
       " Text(0, 30.0, '30'),\n",
       " Text(0, 35.0, '35'),\n",
       " Text(0, 40.0, '40'),\n",
       " Text(0, 45.0, '45'),\n",
       " Text(0, 50.0, '50')]"
      ]
     },
     "execution_count": 47,
     "metadata": {},
     "output_type": "execute_result"
    }
   ],
   "source": [
    "[ax_main.xaxis.label, ax_main.yaxis.label] + ax_main.get_xticklabels() + ax_main.get_yticklabels()"
   ]
  },
  {
   "cell_type": "code",
   "execution_count": 49,
   "metadata": {},
   "outputs": [
    {
     "data": {
      "text/plain": [
       "array([1., 2., 3., 4., 5., 6., 7., 8.])"
      ]
     },
     "execution_count": 49,
     "metadata": {},
     "output_type": "execute_result"
    }
   ],
   "source": [
    "ax_main.get_xticks()"
   ]
  },
  {
   "cell_type": "code",
   "execution_count": null,
   "metadata": {},
   "outputs": [],
   "source": []
  }
 ],
 "metadata": {
  "kernelspec": {
   "display_name": "Python 3",
   "language": "python",
   "name": "python3"
  },
  "language_info": {
   "codemirror_mode": {
    "name": "ipython",
    "version": 3
   },
   "file_extension": ".py",
   "mimetype": "text/x-python",
   "name": "python",
   "nbconvert_exporter": "python",
   "pygments_lexer": "ipython3",
   "version": "3.8.3"
  }
 },
 "nbformat": 4,
 "nbformat_minor": 4
}
