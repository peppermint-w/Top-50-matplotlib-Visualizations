{
 "cells": [
  {
   "cell_type": "markdown",
   "metadata": {},
   "source": [
    "# 1 关联图correlation"
   ]
  },
  {
   "cell_type": "markdown",
   "metadata": {},
   "source": [
    "## 1.1 散点图"
   ]
  },
  {
   "cell_type": "markdown",
   "metadata": {},
   "source": [
    "横坐标：面积大小<br />\n",
    "纵坐标：总人口<br />\n",
    "图例：一种类型一个颜色"
   ]
  },
  {
   "cell_type": "markdown",
   "metadata": {},
   "source": [
    "### 1.1.1 导入需要的绘图库"
   ]
  },
  {
   "cell_type": "code",
   "execution_count": 1,
   "metadata": {},
   "outputs": [],
   "source": [
    "import numpy as np\n",
    "import pandas as pd\n",
    "import matplotlib as mpl\n",
    "import matplotlib.pyplot as plt\n",
    "import seaborn as sns\n",
    "%matplotlib inline"
   ]
  },
  {
   "cell_type": "markdown",
   "metadata": {},
   "source": [
    "### 1.1.2 绘制散点图的函数：plt.scatter()"
   ]
  },
  {
   "cell_type": "code",
   "execution_count": 2,
   "metadata": {},
   "outputs": [
    {
     "data": {
      "image/png": "[encoded data removed]",
      "text/plain": [
       "<Figure size 576x288 with 1 Axes>"
      ]
     },
     "metadata": {
      "needs_background": "light"
     },
     "output_type": "display_data"
    }
   ],
   "source": [
    "#绘制超简单的散点图：变量x1与x2的关系\n",
    "\n",
    "#定义数据\n",
    "x1 = np.random.randn(10) #取出符合正态分布(randn)的10个随机数\n",
    "x2 = x1 + x1**2 - 10\n",
    "\n",
    "#确定画布：当只有一个图的时候，不是必须存在\n",
    "plt.figure(figsize = (8,4)) #长8，高4\n",
    "\n",
    "#绘图\n",
    "plt.scatter(x1, x2 #横坐标和纵坐标\n",
    "            ,s = 50 #点的大小\n",
    "            ,c = 'blue' #点的颜色\n",
    "            ,label = 'Positive' #图例\n",
    "           )\n",
    "\n",
    "#显示图例\n",
    "plt.legend()\n",
    "\n",
    "#显示图形\n",
    "plt.show()"
   ]
  },
  {
   "cell_type": "code",
   "execution_count": 3,
   "metadata": {},
   "outputs": [
    {
     "data": {
      "text/plain": [
       "array([-1.37147633, -2.25162663,  1.60539862,  1.77064702,  1.11476429,\n",
       "        0.5402463 , -0.12174481, -0.7158139 ,  1.43192044,  0.3027481 ])"
      ]
     },
     "execution_count": 3,
     "metadata": {},
     "output_type": "execute_result"
    }
   ],
   "source": [
    "x1"
   ]
  },
  {
   "cell_type": "code",
   "execution_count": 4,
   "metadata": {},
   "outputs": [
    {
     "data": {
      "text/plain": [
       "array([ -9.49052901,  -7.18180415,  -5.81729666,  -5.0941621 ,\n",
       "        -7.64253629,  -9.16788764, -10.10692301, -10.20342436,\n",
       "        -6.5176834 ,  -9.60559549])"
      ]
     },
     "execution_count": 4,
     "metadata": {},
     "output_type": "execute_result"
    }
   ],
   "source": [
    "x2"
   ]
  },
  {
   "cell_type": "code",
   "execution_count": 5,
   "metadata": {},
   "outputs": [
    {
     "data": {
      "image/png": "[encoded data removed]",
      "text/plain": [
       "<Figure size 576x288 with 1 Axes>"
      ]
     },
     "metadata": {
      "needs_background": "light"
     },
     "output_type": "display_data"
    }
   ],
   "source": [
    "#再试一试一个稍微难一些的：除了两列x之外，还有标签y的存在\n",
    "#在机器学习中，经常使用标签y作为颜色来观察两种类别的分布需求\n",
    "\n",
    "X = np.random.randn(10, 2) #10行2列数据集\n",
    "y = np.array([0,0,1,1,0,1,0,1,0,0]) #标签有两类\n",
    "\n",
    "plt.figure(figsize = (8,4))\n",
    "\n",
    "plt.scatter(X[:,0],X[:,1] #横坐标和纵坐标\n",
    "            ,s = 50 #点的大小\n",
    "            ,c = y #分类能够被可视化\n",
    "            ,label = ['Zero','Zero','One','One','Zero','One','Zero','One','Zero','Zero',]\n",
    "           )\n",
    "\n",
    "plt.legend()\n",
    "plt.show()"
   ]
  },
  {
   "cell_type": "code",
   "execution_count": 6,
   "metadata": {},
   "outputs": [
    {
     "data": {
      "text/plain": [
       "array([[-1.04776255,  1.26409758],\n",
       "       [-0.30058045, -0.85693055],\n",
       "       [ 0.33462724,  1.41368095],\n",
       "       [ 1.74455418, -1.45601119],\n",
       "       [-1.29000096, -0.24338027],\n",
       "       [-0.57181882, -1.70286013],\n",
       "       [-0.38930519,  0.7998763 ],\n",
       "       [ 0.77852168,  0.82187559],\n",
       "       [-1.17444607, -2.27321893],\n",
       "       [-0.15697121,  0.79941387]])"
      ]
     },
     "execution_count": 6,
     "metadata": {},
     "output_type": "execute_result"
    }
   ],
   "source": [
    "X"
   ]
  },
  {
   "cell_type": "code",
   "execution_count": 7,
   "metadata": {},
   "outputs": [
    {
     "data": {
      "text/plain": [
       "array([-1.04776255, -0.30058045,  0.33462724,  1.74455418, -1.29000096,\n",
       "       -0.57181882, -0.38930519,  0.77852168, -1.17444607, -0.15697121])"
      ]
     },
     "execution_count": 7,
     "metadata": {},
     "output_type": "execute_result"
    }
   ],
   "source": [
    "X[:,0]"
   ]
  },
  {
   "cell_type": "code",
   "execution_count": 8,
   "metadata": {},
   "outputs": [
    {
     "data": {
      "text/plain": [
       "array([ 1.26409758, -0.85693055,  1.41368095, -1.45601119, -0.24338027,\n",
       "       -1.70286013,  0.7998763 ,  0.82187559, -2.27321893,  0.79941387])"
      ]
     },
     "execution_count": 8,
     "metadata": {},
     "output_type": "execute_result"
    }
   ],
   "source": [
    "X[:,1]"
   ]
  },
  {
   "cell_type": "code",
   "execution_count": 9,
   "metadata": {},
   "outputs": [
    {
     "data": {
      "text/plain": [
       "array([0, 0, 1, 1, 0, 1, 0, 1, 0, 0])"
      ]
     },
     "execution_count": 9,
     "metadata": {},
     "output_type": "execute_result"
    }
   ],
   "source": [
    "y"
   ]
  },
  {
   "cell_type": "code",
   "execution_count": 10,
   "metadata": {},
   "outputs": [
    {
     "data": {
      "image/png": "[encoded data removed]",
      "text/plain": [
       "<Figure size 432x288 with 1 Axes>"
      ]
     },
     "metadata": {
      "needs_background": "light"
     },
     "output_type": "display_data"
    }
   ],
   "source": [
    "colors = ['red', 'black'] #确立颜色列表\n",
    "labels = ['Zero', 'One'] #确立标签的类别列表\n",
    "\n",
    "for i in range(X.shape[1]):\n",
    "    plt.scatter(X[y==i,0],X[y==i,1]\n",
    "                ,c = colors[i]\n",
    "                ,label = labels[i]\n",
    "                )\n",
    "#在标签中存在几种类别，就需要循环几次，一次画一个颜色的点\n",
    "plt.legend()\n",
    "plt.show()"
   ]
  },
  {
   "cell_type": "code",
   "execution_count": 11,
   "metadata": {},
   "outputs": [
    {
     "data": {
      "text/plain": [
       "array([ 0.33462724,  1.74455418, -0.57181882,  0.77852168])"
      ]
     },
     "execution_count": 11,
     "metadata": {},
     "output_type": "execute_result"
    }
   ],
   "source": [
    "X[y==i,0]"
   ]
  },
  {
   "cell_type": "code",
   "execution_count": 12,
   "metadata": {},
   "outputs": [
    {
     "data": {
      "text/plain": [
       "array([ 1.41368095, -1.45601119, -1.70286013,  0.82187559])"
      ]
     },
     "execution_count": 12,
     "metadata": {},
     "output_type": "execute_result"
    }
   ],
   "source": [
    "X[y==i,1]"
   ]
  },
  {
   "cell_type": "markdown",
   "metadata": {},
   "source": [
    "### 1.1.3 开始认识绘图所需要的数据"
   ]
  },
  {
   "cell_type": "code",
   "execution_count": 13,
   "metadata": {},
   "outputs": [],
   "source": [
    "#导入数据\n",
    "midwest = pd.read_csv('https://raw.githubusercontent.com/selva86/datasets/master/midwest_filter.csv')"
   ]
  },
  {
   "cell_type": "code",
   "execution_count": 14,
   "metadata": {},
   "outputs": [],
   "source": [
    "#探索数据"
   ]
  },
  {
   "cell_type": "code",
   "execution_count": 15,
   "metadata": {},
   "outputs": [
    {
     "data": {
      "text/html": [
       "<div>\n",
       "<style scoped>\n",
       "    .dataframe tbody tr th:only-of-type {\n",
       "        vertical-align: middle;\n",
       "    }\n",
       "\n",
       "    .dataframe tbody tr th {\n",
       "        vertical-align: top;\n",
       "    }\n",
       "\n",
       "    .dataframe thead th {\n",
       "        text-align: right;\n",
       "    }\n",
       "</style>\n",
       "<table border=\"1\" class=\"dataframe\">\n",
       "  <thead>\n",
       "    <tr style=\"text-align: right;\">\n",
       "      <th></th>\n",
       "      <th>PID</th>\n",
       "      <th>county</th>\n",
       "      <th>state</th>\n",
       "      <th>area</th>\n",
       "      <th>poptotal</th>\n",
       "      <th>popdensity</th>\n",
       "      <th>popwhite</th>\n",
       "      <th>popblack</th>\n",
       "      <th>popamerindian</th>\n",
       "      <th>popasian</th>\n",
       "      <th>...</th>\n",
       "      <th>percprof</th>\n",
       "      <th>poppovertyknown</th>\n",
       "      <th>percpovertyknown</th>\n",
       "      <th>percbelowpoverty</th>\n",
       "      <th>percchildbelowpovert</th>\n",
       "      <th>percadultpoverty</th>\n",
       "      <th>percelderlypoverty</th>\n",
       "      <th>inmetro</th>\n",
       "      <th>category</th>\n",
       "      <th>dot_size</th>\n",
       "    </tr>\n",
       "  </thead>\n",
       "  <tbody>\n",
       "    <tr>\n",
       "      <th>0</th>\n",
       "      <td>561</td>\n",
       "      <td>ADAMS</td>\n",
       "      <td>IL</td>\n",
       "      <td>0.052</td>\n",
       "      <td>66090</td>\n",
       "      <td>1270.961540</td>\n",
       "      <td>63917</td>\n",
       "      <td>1702</td>\n",
       "      <td>98</td>\n",
       "      <td>249</td>\n",
       "      <td>...</td>\n",
       "      <td>4.355859</td>\n",
       "      <td>63628</td>\n",
       "      <td>96.274777</td>\n",
       "      <td>13.151443</td>\n",
       "      <td>18.011717</td>\n",
       "      <td>11.009776</td>\n",
       "      <td>12.443812</td>\n",
       "      <td>0</td>\n",
       "      <td>AAR</td>\n",
       "      <td>250.944411</td>\n",
       "    </tr>\n",
       "    <tr>\n",
       "      <th>1</th>\n",
       "      <td>562</td>\n",
       "      <td>ALEXANDER</td>\n",
       "      <td>IL</td>\n",
       "      <td>0.014</td>\n",
       "      <td>10626</td>\n",
       "      <td>759.000000</td>\n",
       "      <td>7054</td>\n",
       "      <td>3496</td>\n",
       "      <td>19</td>\n",
       "      <td>48</td>\n",
       "      <td>...</td>\n",
       "      <td>2.870315</td>\n",
       "      <td>10529</td>\n",
       "      <td>99.087145</td>\n",
       "      <td>32.244278</td>\n",
       "      <td>45.826514</td>\n",
       "      <td>27.385647</td>\n",
       "      <td>25.228976</td>\n",
       "      <td>0</td>\n",
       "      <td>LHR</td>\n",
       "      <td>185.781260</td>\n",
       "    </tr>\n",
       "    <tr>\n",
       "      <th>2</th>\n",
       "      <td>563</td>\n",
       "      <td>BOND</td>\n",
       "      <td>IL</td>\n",
       "      <td>0.022</td>\n",
       "      <td>14991</td>\n",
       "      <td>681.409091</td>\n",
       "      <td>14477</td>\n",
       "      <td>429</td>\n",
       "      <td>35</td>\n",
       "      <td>16</td>\n",
       "      <td>...</td>\n",
       "      <td>4.488572</td>\n",
       "      <td>14235</td>\n",
       "      <td>94.956974</td>\n",
       "      <td>12.068844</td>\n",
       "      <td>14.036061</td>\n",
       "      <td>10.852090</td>\n",
       "      <td>12.697410</td>\n",
       "      <td>0</td>\n",
       "      <td>AAR</td>\n",
       "      <td>175.905385</td>\n",
       "    </tr>\n",
       "    <tr>\n",
       "      <th>3</th>\n",
       "      <td>564</td>\n",
       "      <td>BOONE</td>\n",
       "      <td>IL</td>\n",
       "      <td>0.017</td>\n",
       "      <td>30806</td>\n",
       "      <td>1812.117650</td>\n",
       "      <td>29344</td>\n",
       "      <td>127</td>\n",
       "      <td>46</td>\n",
       "      <td>150</td>\n",
       "      <td>...</td>\n",
       "      <td>4.197800</td>\n",
       "      <td>30337</td>\n",
       "      <td>98.477569</td>\n",
       "      <td>7.209019</td>\n",
       "      <td>11.179536</td>\n",
       "      <td>5.536013</td>\n",
       "      <td>6.217047</td>\n",
       "      <td>1</td>\n",
       "      <td>ALU</td>\n",
       "      <td>319.823487</td>\n",
       "    </tr>\n",
       "    <tr>\n",
       "      <th>4</th>\n",
       "      <td>565</td>\n",
       "      <td>BROWN</td>\n",
       "      <td>IL</td>\n",
       "      <td>0.018</td>\n",
       "      <td>5836</td>\n",
       "      <td>324.222222</td>\n",
       "      <td>5264</td>\n",
       "      <td>547</td>\n",
       "      <td>14</td>\n",
       "      <td>5</td>\n",
       "      <td>...</td>\n",
       "      <td>3.367680</td>\n",
       "      <td>4815</td>\n",
       "      <td>82.505140</td>\n",
       "      <td>13.520249</td>\n",
       "      <td>13.022889</td>\n",
       "      <td>11.143211</td>\n",
       "      <td>19.200000</td>\n",
       "      <td>0</td>\n",
       "      <td>AAR</td>\n",
       "      <td>130.442161</td>\n",
       "    </tr>\n",
       "  </tbody>\n",
       "</table>\n",
       "<p>5 rows × 29 columns</p>\n",
       "</div>"
      ],
      "text/plain": [
       "   PID     county state   area  poptotal   popdensity  popwhite  popblack  \\\n",
       "0  561      ADAMS    IL  0.052     66090  1270.961540     63917      1702   \n",
       "1  562  ALEXANDER    IL  0.014     10626   759.000000      7054      3496   \n",
       "2  563       BOND    IL  0.022     14991   681.409091     14477       429   \n",
       "3  564      BOONE    IL  0.017     30806  1812.117650     29344       127   \n",
       "4  565      BROWN    IL  0.018      5836   324.222222      5264       547   \n",
       "\n",
       "   popamerindian  popasian  ...  percprof  poppovertyknown  percpovertyknown  \\\n",
       "0             98       249  ...  4.355859            63628         96.274777   \n",
       "1             19        48  ...  2.870315            10529         99.087145   \n",
       "2             35        16  ...  4.488572            14235         94.956974   \n",
       "3             46       150  ...  4.197800            30337         98.477569   \n",
       "4             14         5  ...  3.367680             4815         82.505140   \n",
       "\n",
       "   percbelowpoverty  percchildbelowpovert  percadultpoverty  \\\n",
       "0         13.151443             18.011717         11.009776   \n",
       "1         32.244278             45.826514         27.385647   \n",
       "2         12.068844             14.036061         10.852090   \n",
       "3          7.209019             11.179536          5.536013   \n",
       "4         13.520249             13.022889         11.143211   \n",
       "\n",
       "   percelderlypoverty  inmetro  category    dot_size  \n",
       "0           12.443812        0       AAR  250.944411  \n",
       "1           25.228976        0       LHR  185.781260  \n",
       "2           12.697410        0       AAR  175.905385  \n",
       "3            6.217047        1       ALU  319.823487  \n",
       "4           19.200000        0       AAR  130.442161  \n",
       "\n",
       "[5 rows x 29 columns]"
      ]
     },
     "execution_count": 15,
     "metadata": {},
     "output_type": "execute_result"
    }
   ],
   "source": [
    "midwest.head()"
   ]
  },
  {
   "cell_type": "code",
   "execution_count": 16,
   "metadata": {},
   "outputs": [
    {
     "data": {
      "text/plain": [
       "(332, 29)"
      ]
     },
     "execution_count": 16,
     "metadata": {},
     "output_type": "execute_result"
    }
   ],
   "source": [
    "midwest.shape"
   ]
  },
  {
   "cell_type": "code",
   "execution_count": 17,
   "metadata": {},
   "outputs": [
    {
     "data": {
      "text/plain": [
       "Index(['PID', 'county', 'state', 'area', 'poptotal', 'popdensity', 'popwhite',\n",
       "       'popblack', 'popamerindian', 'popasian', 'popother', 'percwhite',\n",
       "       'percblack', 'percamerindan', 'percasian', 'percother', 'popadults',\n",
       "       'perchsd', 'percollege', 'percprof', 'poppovertyknown',\n",
       "       'percpovertyknown', 'percbelowpoverty', 'percchildbelowpovert',\n",
       "       'percadultpoverty', 'percelderlypoverty', 'inmetro', 'category',\n",
       "       'dot_size'],\n",
       "      dtype='object')"
      ]
     },
     "execution_count": 17,
     "metadata": {},
     "output_type": "execute_result"
    }
   ],
   "source": [
    "midwest.columns"
   ]
  },
  {
   "cell_type": "code",
   "execution_count": 18,
   "metadata": {},
   "outputs": [
    {
     "data": {
      "text/plain": [
       "['城市ID',\n",
       " '郡',\n",
       " '州',\n",
       " '面积',\n",
       " '总人口',\n",
       " '人口密度',\n",
       " '白人人口',\n",
       " '非裔人口',\n",
       " '美洲印第安人人口',\n",
       " '亚洲人口',\n",
       " '其他人种人口',\n",
       " '白人所占比例',\n",
       " '非裔所占比例',\n",
       " '美洲印第安人所占比例',\n",
       " '亚洲人所占比例',\n",
       " '其他人种比例',\n",
       " '成年人口',\n",
       " '具有高中文凭的比例',\n",
       " '大学文凭比例',\n",
       " '有工作的人群比例',\n",
       " '已知贫困人口',\n",
       " '已知贫困人口的比例',\n",
       " '贫困线以下的人的比例',\n",
       " '贫困线以下的儿童所占比例',\n",
       " '贫困的成年人所占的比例',\n",
       " '贫困的老年人所占的比例',\n",
       " '是否拥有地铁',\n",
       " '标签',\n",
       " '点的尺寸']"
      ]
     },
     "execution_count": 18,
     "metadata": {},
     "output_type": "execute_result"
    }
   ],
   "source": [
    "['城市ID','郡','州','面积','总人口','人口密度','白人人口','非裔人口','美洲印第安人人口','亚洲人口','其他人种人口','白人所占比例','非裔所占比例','美洲印第安人所占比例','亚洲人所占比例','其他人种比例','成年人口','具有高中文凭的比例','大学文凭比例','有工作的人群比例','已知贫困人口','已知贫困人口的比例','贫困线以下的人的比例','贫困线以下的儿童所占比例','贫困的成年人所占的比例','贫困的老年人所占的比例','是否拥有地铁','标签','点的尺寸']"
   ]
  },
  {
   "cell_type": "markdown",
   "metadata": {},
   "source": [
    "### 1.1.4 准备标签的列表和颜色"
   ]
  },
  {
   "cell_type": "markdown",
   "metadata": {},
   "source": [
    "标签"
   ]
  },
  {
   "cell_type": "code",
   "execution_count": 19,
   "metadata": {
    "scrolled": true
   },
   "outputs": [
    {
     "data": {
      "text/plain": [
       "0      AAR\n",
       "1      LHR\n",
       "2      AAR\n",
       "3      ALU\n",
       "4      AAR\n",
       "      ... \n",
       "327    AAR\n",
       "328    AAR\n",
       "329    AAR\n",
       "330    AAR\n",
       "331    AAR\n",
       "Name: category, Length: 332, dtype: object"
      ]
     },
     "execution_count": 19,
     "metadata": {},
     "output_type": "execute_result"
    }
   ],
   "source": [
    "midwest['category']"
   ]
  },
  {
   "cell_type": "code",
   "execution_count": 20,
   "metadata": {},
   "outputs": [],
   "source": [
    "#提取标签中的类别\n",
    "categories = np.unique([midwest['category']]) #去掉所有重复的项"
   ]
  },
  {
   "cell_type": "code",
   "execution_count": 21,
   "metadata": {},
   "outputs": [
    {
     "data": {
      "text/plain": [
       "array(['AAR', 'AAU', 'AHR', 'ALR', 'ALU', 'HAR', 'HAU', 'HHR', 'HLR',\n",
       "       'HLU', 'LAR', 'LAU', 'LHR', 'LHU'], dtype=object)"
      ]
     },
     "execution_count": 21,
     "metadata": {},
     "output_type": "execute_result"
    }
   ],
   "source": [
    "categories"
   ]
  },
  {
   "cell_type": "code",
   "execution_count": 22,
   "metadata": {},
   "outputs": [
    {
     "data": {
      "text/plain": [
       "14"
      ]
     },
     "execution_count": 22,
     "metadata": {},
     "output_type": "execute_result"
    }
   ],
   "source": [
    "len(categories)"
   ]
  },
  {
   "cell_type": "markdown",
   "metadata": {},
   "source": [
    "颜色：接下来要创造和标签的类别一样多的颜色。如果只有三四个类别，或许我们还可以自己写，然而面对十几个或者二十几个分类，我们需要让matplotlib帮助我们自动生成颜色。"
   ]
  },
  {
   "cell_type": "code",
   "execution_count": 23,
   "metadata": {},
   "outputs": [
    {
     "data": {
      "text/plain": [
       "(0.09019607843137255, 0.7450980392156863, 0.8117647058823529, 1.0)"
      ]
     },
     "execution_count": 23,
     "metadata": {},
     "output_type": "execute_result"
    }
   ],
   "source": [
    "color1 = plt.cm.tab10(5.2)\n",
    "color1 #四个浮点数组成的一个颜色RGBA(红绿蓝透)"
   ]
  },
  {
   "cell_type": "code",
   "execution_count": 24,
   "metadata": {},
   "outputs": [
    {
     "name": "stderr",
     "output_type": "stream",
     "text": [
      "*c* argument looks like a single numeric RGB or RGBA sequence, which should be avoided as value-mapping will have precedence in case its length matches with *x* & *y*.  Please use the *color* keyword-argument or provide a 2-D array with a single row if you intend to specify the same RGB or RGBA value for all points.\n"
     ]
    },
    {
     "data": {
      "image/png": "[encoded data removed]",
      "text/plain": [
       "<Figure size 432x288 with 1 Axes>"
      ]
     },
     "metadata": {
      "needs_background": "light"
     },
     "output_type": "display_data"
    }
   ],
   "source": [
    "#这个颜色是什么颜色呢？\n",
    "x1 = np.random.randn(10)\n",
    "x2 = x1 + x1**2 - 10\n",
    "plt.scatter(x1,x2\n",
    "            ,s = 50\n",
    "            ,c = color1)\n",
    "plt.show()"
   ]
  },
  {
   "cell_type": "code",
   "execution_count": 25,
   "metadata": {},
   "outputs": [
    {
     "data": {
      "text/plain": [
       "array([0.09019608, 0.74509804, 0.81176471, 1.        ])"
      ]
     },
     "execution_count": 25,
     "metadata": {},
     "output_type": "execute_result"
    }
   ],
   "source": [
    "np.array(color1)"
   ]
  },
  {
   "cell_type": "code",
   "execution_count": 26,
   "metadata": {},
   "outputs": [
    {
     "data": {
      "text/plain": [
       "(4,)"
      ]
     },
     "execution_count": 26,
     "metadata": {},
     "output_type": "execute_result"
    }
   ],
   "source": [
    "np.array(color1).shape"
   ]
  },
  {
   "cell_type": "code",
   "execution_count": 27,
   "metadata": {},
   "outputs": [
    {
     "data": {
      "text/plain": [
       "array([[0.09019608, 0.74509804, 0.81176471, 1.        ]])"
      ]
     },
     "execution_count": 27,
     "metadata": {},
     "output_type": "execute_result"
    }
   ],
   "source": [
    "#增维，输入(1,-1)是让行上的维度为1，(-1,1)是让列上的维度为1\n",
    "np.array(color1).reshape(1,-1)"
   ]
  },
  {
   "cell_type": "code",
   "execution_count": 28,
   "metadata": {},
   "outputs": [
    {
     "data": {
      "text/plain": [
       "array([[0.09019608],\n",
       "       [0.74509804],\n",
       "       [0.81176471],\n",
       "       [1.        ]])"
      ]
     },
     "execution_count": 28,
     "metadata": {},
     "output_type": "execute_result"
    }
   ],
   "source": [
    "np.array(color1).reshape(-1,1)"
   ]
  },
  {
   "cell_type": "code",
   "execution_count": 29,
   "metadata": {},
   "outputs": [
    {
     "data": {
      "text/plain": [
       "(1, 4)"
      ]
     },
     "execution_count": 29,
     "metadata": {},
     "output_type": "execute_result"
    }
   ],
   "source": [
    "np.array(color1).reshape(1,-1).shape"
   ]
  },
  {
   "cell_type": "code",
   "execution_count": 30,
   "metadata": {},
   "outputs": [
    {
     "data": {
      "image/png": "[encoded data removed]",
      "text/plain": [
       "<Figure size 432x288 with 1 Axes>"
      ]
     },
     "metadata": {
      "needs_background": "light"
     },
     "output_type": "display_data"
    }
   ],
   "source": [
    "x1 = np.random.randn(10)\n",
    "x2 = x1 + x1**2 - 10\n",
    "plt.scatter(x1,x2\n",
    "            ,s = 50\n",
    "            ,c = np.array(color1).reshape(1,-1))\n",
    "plt.show()"
   ]
  },
  {
   "cell_type": "markdown",
   "metadata": {},
   "source": [
    "### 1.1.5 生成基础的图像"
   ]
  },
  {
   "cell_type": "code",
   "execution_count": 31,
   "metadata": {},
   "outputs": [
    {
     "data": {
      "text/plain": [
       "array(['AAR', 'AAU', 'AHR', 'ALR', 'ALU', 'HAR', 'HAU', 'HHR', 'HLR',\n",
       "       'HLU', 'LAR', 'LAU', 'LHR', 'LHU'], dtype=object)"
      ]
     },
     "execution_count": 31,
     "metadata": {},
     "output_type": "execute_result"
    }
   ],
   "source": [
    "categories"
   ]
  },
  {
   "cell_type": "code",
   "execution_count": 32,
   "metadata": {},
   "outputs": [
    {
     "data": {
      "text/plain": [
       "'AAR'"
      ]
     },
     "execution_count": 32,
     "metadata": {},
     "output_type": "execute_result"
    }
   ],
   "source": [
    "categories[0]"
   ]
  },
  {
   "cell_type": "code",
   "execution_count": 33,
   "metadata": {},
   "outputs": [
    {
     "data": {
      "text/plain": [
       "0       True\n",
       "1      False\n",
       "2       True\n",
       "3      False\n",
       "4       True\n",
       "       ...  \n",
       "327     True\n",
       "328     True\n",
       "329     True\n",
       "330     True\n",
       "331     True\n",
       "Name: category, Length: 332, dtype: bool"
      ]
     },
     "execution_count": 33,
     "metadata": {},
     "output_type": "execute_result"
    }
   ],
   "source": [
    "midwest['category'] == categories[0]"
   ]
  },
  {
   "cell_type": "code",
   "execution_count": 34,
   "metadata": {},
   "outputs": [
    {
     "data": {
      "text/plain": [
       "0    66090\n",
       "2    14991\n",
       "4     5836\n",
       "5    35688\n",
       "7    16805\n",
       "Name: poptotal, dtype: int64"
      ]
     },
     "execution_count": 34,
     "metadata": {},
     "output_type": "execute_result"
    }
   ],
   "source": [
    "midwest.loc[midwest['category'] == categories[0], 'poptotal'].head()"
   ]
  },
  {
   "cell_type": "code",
   "execution_count": 35,
   "metadata": {},
   "outputs": [
    {
     "data": {
      "image/png": "[encoded data removed]",
      "text/plain": [
       "<Figure size 1152x720 with 1 Axes>"
      ]
     },
     "metadata": {
      "needs_background": "light"
     },
     "output_type": "display_data"
    }
   ],
   "source": [
    "plt.figure(figsize = (16,10))\n",
    "for i in range(len(categories)):\n",
    "    plt.scatter(midwest.loc[midwest['category'] == categories[i], 'area']\n",
    "                ,midwest.loc[midwest['category'] == categories[i], 'poptotal']\n",
    "                ,s = 20\n",
    "                ,c = np.array(plt.cm.tab10(i/len(categories))).reshape(1,-1)\n",
    "                ,label = categories[i]\n",
    "               )\n",
    "plt.legend()\n",
    "plt.show()"
   ]
  },
  {
   "cell_type": "code",
   "execution_count": 36,
   "metadata": {},
   "outputs": [],
   "source": [
    "#可以先创建好一个颜色的列表，然后使用索引来不断将颜色提取出来\n",
    "colors = [plt.cm.tab10(i/float(len(categories)-1)) for i in range(len(categories))]\n",
    "#以上是一个列表推导式，它表达的内容和循环非常类似：\n",
    "colors = []\n",
    "for i in range(len(categories)):\n",
    "    colors.append(plt.cm.tab10(i/float(len(categories)-1)))"
   ]
  },
  {
   "cell_type": "code",
   "execution_count": 37,
   "metadata": {},
   "outputs": [
    {
     "data": {
      "text/plain": [
       "[(0.12156862745098039, 0.4666666666666667, 0.7058823529411765, 1.0),\n",
       " (0.12156862745098039, 0.4666666666666667, 0.7058823529411765, 1.0),\n",
       " (1.0, 0.4980392156862745, 0.054901960784313725, 1.0),\n",
       " (0.17254901960784313, 0.6274509803921569, 0.17254901960784313, 1.0),\n",
       " (0.8392156862745098, 0.15294117647058825, 0.1568627450980392, 1.0),\n",
       " (0.8392156862745098, 0.15294117647058825, 0.1568627450980392, 1.0),\n",
       " (0.5803921568627451, 0.403921568627451, 0.7411764705882353, 1.0),\n",
       " (0.5490196078431373, 0.33725490196078434, 0.29411764705882354, 1.0),\n",
       " (0.8901960784313725, 0.4666666666666667, 0.7607843137254902, 1.0),\n",
       " (0.8901960784313725, 0.4666666666666667, 0.7607843137254902, 1.0),\n",
       " (0.4980392156862745, 0.4980392156862745, 0.4980392156862745, 1.0),\n",
       " (0.7372549019607844, 0.7411764705882353, 0.13333333333333333, 1.0),\n",
       " (0.09019607843137255, 0.7450980392156863, 0.8117647058823529, 1.0),\n",
       " (0.09019607843137255, 0.7450980392156863, 0.8117647058823529, 1.0)]"
      ]
     },
     "execution_count": 37,
     "metadata": {},
     "output_type": "execute_result"
    }
   ],
   "source": [
    "colors"
   ]
  },
  {
   "cell_type": "code",
   "execution_count": 38,
   "metadata": {},
   "outputs": [
    {
     "data": {
      "text/plain": [
       "<enumerate at 0x1f9b3e6f340>"
      ]
     },
     "execution_count": 38,
     "metadata": {},
     "output_type": "execute_result"
    }
   ],
   "source": [
    "enumerate(categories)"
   ]
  },
  {
   "cell_type": "code",
   "execution_count": 39,
   "metadata": {},
   "outputs": [
    {
     "data": {
      "text/plain": [
       "[(0, 'AAR'),\n",
       " (1, 'AAU'),\n",
       " (2, 'AHR'),\n",
       " (3, 'ALR'),\n",
       " (4, 'ALU'),\n",
       " (5, 'HAR'),\n",
       " (6, 'HAU'),\n",
       " (7, 'HHR'),\n",
       " (8, 'HLR'),\n",
       " (9, 'HLU'),\n",
       " (10, 'LAR'),\n",
       " (11, 'LAU'),\n",
       " (12, 'LHR'),\n",
       " (13, 'LHU')]"
      ]
     },
     "execution_count": 39,
     "metadata": {},
     "output_type": "execute_result"
    }
   ],
   "source": [
    "[*enumerate(categories)] #标签的索引和类别"
   ]
  },
  {
   "cell_type": "code",
   "execution_count": 40,
   "metadata": {
    "scrolled": true
   },
   "outputs": [
    {
     "data": {
      "image/png": "[encoded data removed]",
      "text/plain": [
       "<Figure size 1280x800 with 1 Axes>"
      ]
     },
     "metadata": {},
     "output_type": "display_data"
    }
   ],
   "source": [
    "plt.figure(figsize = (16, 10)\n",
    "           ,dpi= 80\n",
    "           ,facecolor = 'w'\n",
    "           ,edgecolor = 'k' #图像的边框颜色，设置为黑色，默认也是黑色\n",
    "          )\n",
    "for i, category in enumerate(categories):\n",
    "    plt.scatter('area','poptotal' #横坐标和纵坐标的列名称\n",
    "                ,data = midwest.loc[midwest.category == category, :] #取出了所有数据\n",
    "                ,s = 20\n",
    "                ,c = np.array(colors[i]).reshape(1,-1)\n",
    "                ,label = str(category))\n",
    "plt.gca().set(xlim=(0,0.12), ylim=(0,80000)) #控制横纵坐标的范围\n",
    "plt.xticks(fontsize = 12) #坐标轴上的标尺的字的大小\n",
    "plt.yticks(fontsize = 12)\n",
    "plt.ylabel('Population', fontsize = 22)\n",
    "plt.xlabel('Area', fontsize = 22)\n",
    "plt.title('Scatterplot of Midwest Area vs Population', fontsize = 22) #整个图像的标题和字体的大小\n",
    "plt.legend(fontsize = 12) #图例的字体大小\n",
    "plt.show()"
   ]
  },
  {
   "cell_type": "markdown",
   "metadata": {},
   "source": [
    "### 1.1.6 解读图像"
   ]
  },
  {
   "cell_type": "code",
   "execution_count": 41,
   "metadata": {},
   "outputs": [
    {
     "data": {
      "text/html": [
       "<div>\n",
       "<style scoped>\n",
       "    .dataframe tbody tr th:only-of-type {\n",
       "        vertical-align: middle;\n",
       "    }\n",
       "\n",
       "    .dataframe tbody tr th {\n",
       "        vertical-align: top;\n",
       "    }\n",
       "\n",
       "    .dataframe thead th {\n",
       "        text-align: right;\n",
       "    }\n",
       "</style>\n",
       "<table border=\"1\" class=\"dataframe\">\n",
       "  <thead>\n",
       "    <tr style=\"text-align: right;\">\n",
       "      <th></th>\n",
       "      <th>PID</th>\n",
       "      <th>county</th>\n",
       "      <th>state</th>\n",
       "      <th>area</th>\n",
       "      <th>poptotal</th>\n",
       "      <th>popdensity</th>\n",
       "      <th>popwhite</th>\n",
       "      <th>popblack</th>\n",
       "      <th>popamerindian</th>\n",
       "      <th>popasian</th>\n",
       "      <th>...</th>\n",
       "      <th>percprof</th>\n",
       "      <th>poppovertyknown</th>\n",
       "      <th>percpovertyknown</th>\n",
       "      <th>percbelowpoverty</th>\n",
       "      <th>percchildbelowpovert</th>\n",
       "      <th>percadultpoverty</th>\n",
       "      <th>percelderlypoverty</th>\n",
       "      <th>inmetro</th>\n",
       "      <th>category</th>\n",
       "      <th>dot_size</th>\n",
       "    </tr>\n",
       "  </thead>\n",
       "  <tbody>\n",
       "    <tr>\n",
       "      <th>196</th>\n",
       "      <td>1248</td>\n",
       "      <td>MARQUETTE</td>\n",
       "      <td>MI</td>\n",
       "      <td>0.11</td>\n",
       "      <td>70887</td>\n",
       "      <td>644.427273</td>\n",
       "      <td>68027</td>\n",
       "      <td>1170</td>\n",
       "      <td>943</td>\n",
       "      <td>538</td>\n",
       "      <td>...</td>\n",
       "      <td>6.799415</td>\n",
       "      <td>66398</td>\n",
       "      <td>93.667386</td>\n",
       "      <td>12.608814</td>\n",
       "      <td>14.26216</td>\n",
       "      <td>11.84465</td>\n",
       "      <td>12.523891</td>\n",
       "      <td>0</td>\n",
       "      <td>HAR</td>\n",
       "      <td>171.19829</td>\n",
       "    </tr>\n",
       "  </tbody>\n",
       "</table>\n",
       "<p>1 rows × 29 columns</p>\n",
       "</div>"
      ],
      "text/plain": [
       "      PID     county state  area  poptotal  popdensity  popwhite  popblack  \\\n",
       "196  1248  MARQUETTE    MI  0.11     70887  644.427273     68027      1170   \n",
       "\n",
       "     popamerindian  popasian  ...  percprof  poppovertyknown  \\\n",
       "196            943       538  ...  6.799415            66398   \n",
       "\n",
       "     percpovertyknown  percbelowpoverty  percchildbelowpovert  \\\n",
       "196         93.667386         12.608814              14.26216   \n",
       "\n",
       "     percadultpoverty  percelderlypoverty  inmetro  category   dot_size  \n",
       "196          11.84465           12.523891        0       HAR  171.19829  \n",
       "\n",
       "[1 rows x 29 columns]"
      ]
     },
     "execution_count": 41,
     "metadata": {},
     "output_type": "execute_result"
    }
   ],
   "source": [
    "midwest[midwest['area'] > 0.1]"
   ]
  },
  {
   "cell_type": "code",
   "execution_count": 42,
   "metadata": {},
   "outputs": [
    {
     "data": {
      "text/plain": [
       "AAR    186\n",
       "LAR     30\n",
       "LHR     27\n",
       "AAU     21\n",
       "AHR     16\n",
       "ALU     14\n",
       "ALR     11\n",
       "HLU     10\n",
       "HAR      6\n",
       "LAU      3\n",
       "HAU      3\n",
       "LHU      2\n",
       "HLR      2\n",
       "HHR      1\n",
       "Name: category, dtype: int64"
      ]
     },
     "execution_count": 42,
     "metadata": {},
     "output_type": "execute_result"
    }
   ],
   "source": [
    "midwest['category'].value_counts()"
   ]
  },
  {
   "cell_type": "code",
   "execution_count": null,
   "metadata": {},
   "outputs": [],
   "source": []
  },
  {
   "cell_type": "code",
   "execution_count": 43,
   "metadata": {},
   "outputs": [],
   "source": [
    "midwest['c1'] = midwest['category'].apply(lambda x:x[0])\n",
    "midwest['c2'] = midwest['category'].apply(lambda x:x[1])\n",
    "midwest['c3'] = midwest['category'].apply(lambda x:x[2])"
   ]
  },
  {
   "cell_type": "code",
   "execution_count": 44,
   "metadata": {},
   "outputs": [
    {
     "data": {
      "text/html": [
       "<div>\n",
       "<style scoped>\n",
       "    .dataframe tbody tr th:only-of-type {\n",
       "        vertical-align: middle;\n",
       "    }\n",
       "\n",
       "    .dataframe tbody tr th {\n",
       "        vertical-align: top;\n",
       "    }\n",
       "\n",
       "    .dataframe thead th {\n",
       "        text-align: right;\n",
       "    }\n",
       "</style>\n",
       "<table border=\"1\" class=\"dataframe\">\n",
       "  <thead>\n",
       "    <tr style=\"text-align: right;\">\n",
       "      <th></th>\n",
       "      <th>PID</th>\n",
       "      <th>county</th>\n",
       "      <th>state</th>\n",
       "      <th>area</th>\n",
       "      <th>poptotal</th>\n",
       "      <th>popdensity</th>\n",
       "      <th>popwhite</th>\n",
       "      <th>popblack</th>\n",
       "      <th>popamerindian</th>\n",
       "      <th>popasian</th>\n",
       "      <th>...</th>\n",
       "      <th>percbelowpoverty</th>\n",
       "      <th>percchildbelowpovert</th>\n",
       "      <th>percadultpoverty</th>\n",
       "      <th>percelderlypoverty</th>\n",
       "      <th>inmetro</th>\n",
       "      <th>category</th>\n",
       "      <th>dot_size</th>\n",
       "      <th>c1</th>\n",
       "      <th>c2</th>\n",
       "      <th>c3</th>\n",
       "    </tr>\n",
       "  </thead>\n",
       "  <tbody>\n",
       "    <tr>\n",
       "      <th>0</th>\n",
       "      <td>561</td>\n",
       "      <td>ADAMS</td>\n",
       "      <td>IL</td>\n",
       "      <td>0.052</td>\n",
       "      <td>66090</td>\n",
       "      <td>1270.961540</td>\n",
       "      <td>63917</td>\n",
       "      <td>1702</td>\n",
       "      <td>98</td>\n",
       "      <td>249</td>\n",
       "      <td>...</td>\n",
       "      <td>13.151443</td>\n",
       "      <td>18.011717</td>\n",
       "      <td>11.009776</td>\n",
       "      <td>12.443812</td>\n",
       "      <td>0</td>\n",
       "      <td>AAR</td>\n",
       "      <td>250.944411</td>\n",
       "      <td>A</td>\n",
       "      <td>A</td>\n",
       "      <td>R</td>\n",
       "    </tr>\n",
       "    <tr>\n",
       "      <th>1</th>\n",
       "      <td>562</td>\n",
       "      <td>ALEXANDER</td>\n",
       "      <td>IL</td>\n",
       "      <td>0.014</td>\n",
       "      <td>10626</td>\n",
       "      <td>759.000000</td>\n",
       "      <td>7054</td>\n",
       "      <td>3496</td>\n",
       "      <td>19</td>\n",
       "      <td>48</td>\n",
       "      <td>...</td>\n",
       "      <td>32.244278</td>\n",
       "      <td>45.826514</td>\n",
       "      <td>27.385647</td>\n",
       "      <td>25.228976</td>\n",
       "      <td>0</td>\n",
       "      <td>LHR</td>\n",
       "      <td>185.781260</td>\n",
       "      <td>L</td>\n",
       "      <td>H</td>\n",
       "      <td>R</td>\n",
       "    </tr>\n",
       "    <tr>\n",
       "      <th>2</th>\n",
       "      <td>563</td>\n",
       "      <td>BOND</td>\n",
       "      <td>IL</td>\n",
       "      <td>0.022</td>\n",
       "      <td>14991</td>\n",
       "      <td>681.409091</td>\n",
       "      <td>14477</td>\n",
       "      <td>429</td>\n",
       "      <td>35</td>\n",
       "      <td>16</td>\n",
       "      <td>...</td>\n",
       "      <td>12.068844</td>\n",
       "      <td>14.036061</td>\n",
       "      <td>10.852090</td>\n",
       "      <td>12.697410</td>\n",
       "      <td>0</td>\n",
       "      <td>AAR</td>\n",
       "      <td>175.905385</td>\n",
       "      <td>A</td>\n",
       "      <td>A</td>\n",
       "      <td>R</td>\n",
       "    </tr>\n",
       "    <tr>\n",
       "      <th>3</th>\n",
       "      <td>564</td>\n",
       "      <td>BOONE</td>\n",
       "      <td>IL</td>\n",
       "      <td>0.017</td>\n",
       "      <td>30806</td>\n",
       "      <td>1812.117650</td>\n",
       "      <td>29344</td>\n",
       "      <td>127</td>\n",
       "      <td>46</td>\n",
       "      <td>150</td>\n",
       "      <td>...</td>\n",
       "      <td>7.209019</td>\n",
       "      <td>11.179536</td>\n",
       "      <td>5.536013</td>\n",
       "      <td>6.217047</td>\n",
       "      <td>1</td>\n",
       "      <td>ALU</td>\n",
       "      <td>319.823487</td>\n",
       "      <td>A</td>\n",
       "      <td>L</td>\n",
       "      <td>U</td>\n",
       "    </tr>\n",
       "    <tr>\n",
       "      <th>4</th>\n",
       "      <td>565</td>\n",
       "      <td>BROWN</td>\n",
       "      <td>IL</td>\n",
       "      <td>0.018</td>\n",
       "      <td>5836</td>\n",
       "      <td>324.222222</td>\n",
       "      <td>5264</td>\n",
       "      <td>547</td>\n",
       "      <td>14</td>\n",
       "      <td>5</td>\n",
       "      <td>...</td>\n",
       "      <td>13.520249</td>\n",
       "      <td>13.022889</td>\n",
       "      <td>11.143211</td>\n",
       "      <td>19.200000</td>\n",
       "      <td>0</td>\n",
       "      <td>AAR</td>\n",
       "      <td>130.442161</td>\n",
       "      <td>A</td>\n",
       "      <td>A</td>\n",
       "      <td>R</td>\n",
       "    </tr>\n",
       "  </tbody>\n",
       "</table>\n",
       "<p>5 rows × 32 columns</p>\n",
       "</div>"
      ],
      "text/plain": [
       "   PID     county state   area  poptotal   popdensity  popwhite  popblack  \\\n",
       "0  561      ADAMS    IL  0.052     66090  1270.961540     63917      1702   \n",
       "1  562  ALEXANDER    IL  0.014     10626   759.000000      7054      3496   \n",
       "2  563       BOND    IL  0.022     14991   681.409091     14477       429   \n",
       "3  564      BOONE    IL  0.017     30806  1812.117650     29344       127   \n",
       "4  565      BROWN    IL  0.018      5836   324.222222      5264       547   \n",
       "\n",
       "   popamerindian  popasian  ...  percbelowpoverty  percchildbelowpovert  \\\n",
       "0             98       249  ...         13.151443             18.011717   \n",
       "1             19        48  ...         32.244278             45.826514   \n",
       "2             35        16  ...         12.068844             14.036061   \n",
       "3             46       150  ...          7.209019             11.179536   \n",
       "4             14         5  ...         13.520249             13.022889   \n",
       "\n",
       "   percadultpoverty  percelderlypoverty  inmetro  category    dot_size  c1  \\\n",
       "0         11.009776           12.443812        0       AAR  250.944411   A   \n",
       "1         27.385647           25.228976        0       LHR  185.781260   L   \n",
       "2         10.852090           12.697410        0       AAR  175.905385   A   \n",
       "3          5.536013            6.217047        1       ALU  319.823487   A   \n",
       "4         11.143211           19.200000        0       AAR  130.442161   A   \n",
       "\n",
       "   c2  c3  \n",
       "0   A   R  \n",
       "1   H   R  \n",
       "2   A   R  \n",
       "3   L   U  \n",
       "4   A   R  \n",
       "\n",
       "[5 rows x 32 columns]"
      ]
     },
     "execution_count": 44,
     "metadata": {},
     "output_type": "execute_result"
    }
   ],
   "source": [
    "midwest.head()"
   ]
  },
  {
   "cell_type": "code",
   "execution_count": 45,
   "metadata": {},
   "outputs": [
    {
     "data": {
      "text/plain": [
       "A    248\n",
       "L     62\n",
       "H     22\n",
       "Name: c1, dtype: int64"
      ]
     },
     "execution_count": 45,
     "metadata": {},
     "output_type": "execute_result"
    }
   ],
   "source": [
    "midwest['c1'].value_counts() #average, high, low"
   ]
  },
  {
   "cell_type": "code",
   "execution_count": 46,
   "metadata": {},
   "outputs": [
    {
     "data": {
      "text/plain": [
       "A    249\n",
       "H     46\n",
       "L     37\n",
       "Name: c2, dtype: int64"
      ]
     },
     "execution_count": 46,
     "metadata": {},
     "output_type": "execute_result"
    }
   ],
   "source": [
    "midwest['c2'].value_counts()"
   ]
  },
  {
   "cell_type": "code",
   "execution_count": 47,
   "metadata": {},
   "outputs": [
    {
     "data": {
      "text/plain": [
       "R    279\n",
       "U     53\n",
       "Name: c3, dtype: int64"
      ]
     },
     "execution_count": 47,
     "metadata": {},
     "output_type": "execute_result"
    }
   ],
   "source": [
    "midwest['c3'].value_counts()"
   ]
  },
  {
   "cell_type": "markdown",
   "metadata": {},
   "source": [
    "### 1.1.7 数据处理与逻辑回归"
   ]
  },
  {
   "cell_type": "code",
   "execution_count": 48,
   "metadata": {},
   "outputs": [],
   "source": [
    "from sklearn.preprocessing import OrdinalEncoder as OE #转化为数字\n",
    "data = midwest.copy()"
   ]
  },
  {
   "cell_type": "code",
   "execution_count": 49,
   "metadata": {},
   "outputs": [],
   "source": [
    "data.columns = ['城市ID','郡','州','面积','总人口','人口密度','白人人口','非裔人口','美洲印第安人人口','亚洲人口','其他人种人口','白人所占比例','非裔所占比例','美洲印第安人所占比例','亚洲人所占比例','其他人种比例','成年人口','具有高中文凭的比例','大学文凭比例','有工作的人群比例','已知贫困人口','已知贫困人口的比例','贫困线以下的人的比例','贫困线以下的儿童所占比例','贫困的成年人所占的比例','贫困的老年人所占的比例','是否拥有地铁','标签','点的尺寸','c1','c2','c3']"
   ]
  },
  {
   "cell_type": "code",
   "execution_count": 50,
   "metadata": {
    "scrolled": true
   },
   "outputs": [
    {
     "data": {
      "text/html": [
       "<div>\n",
       "<style scoped>\n",
       "    .dataframe tbody tr th:only-of-type {\n",
       "        vertical-align: middle;\n",
       "    }\n",
       "\n",
       "    .dataframe tbody tr th {\n",
       "        vertical-align: top;\n",
       "    }\n",
       "\n",
       "    .dataframe thead th {\n",
       "        text-align: right;\n",
       "    }\n",
       "</style>\n",
       "<table border=\"1\" class=\"dataframe\">\n",
       "  <thead>\n",
       "    <tr style=\"text-align: right;\">\n",
       "      <th></th>\n",
       "      <th>城市ID</th>\n",
       "      <th>郡</th>\n",
       "      <th>州</th>\n",
       "      <th>面积</th>\n",
       "      <th>总人口</th>\n",
       "      <th>人口密度</th>\n",
       "      <th>白人人口</th>\n",
       "      <th>非裔人口</th>\n",
       "      <th>美洲印第安人人口</th>\n",
       "      <th>亚洲人口</th>\n",
       "      <th>...</th>\n",
       "      <th>贫困线以下的人的比例</th>\n",
       "      <th>贫困线以下的儿童所占比例</th>\n",
       "      <th>贫困的成年人所占的比例</th>\n",
       "      <th>贫困的老年人所占的比例</th>\n",
       "      <th>是否拥有地铁</th>\n",
       "      <th>标签</th>\n",
       "      <th>点的尺寸</th>\n",
       "      <th>c1</th>\n",
       "      <th>c2</th>\n",
       "      <th>c3</th>\n",
       "    </tr>\n",
       "  </thead>\n",
       "  <tbody>\n",
       "    <tr>\n",
       "      <th>0</th>\n",
       "      <td>561</td>\n",
       "      <td>ADAMS</td>\n",
       "      <td>IL</td>\n",
       "      <td>0.052</td>\n",
       "      <td>66090</td>\n",
       "      <td>1270.961540</td>\n",
       "      <td>63917</td>\n",
       "      <td>1702</td>\n",
       "      <td>98</td>\n",
       "      <td>249</td>\n",
       "      <td>...</td>\n",
       "      <td>13.151443</td>\n",
       "      <td>18.011717</td>\n",
       "      <td>11.009776</td>\n",
       "      <td>12.443812</td>\n",
       "      <td>0</td>\n",
       "      <td>AAR</td>\n",
       "      <td>250.944411</td>\n",
       "      <td>A</td>\n",
       "      <td>A</td>\n",
       "      <td>R</td>\n",
       "    </tr>\n",
       "    <tr>\n",
       "      <th>1</th>\n",
       "      <td>562</td>\n",
       "      <td>ALEXANDER</td>\n",
       "      <td>IL</td>\n",
       "      <td>0.014</td>\n",
       "      <td>10626</td>\n",
       "      <td>759.000000</td>\n",
       "      <td>7054</td>\n",
       "      <td>3496</td>\n",
       "      <td>19</td>\n",
       "      <td>48</td>\n",
       "      <td>...</td>\n",
       "      <td>32.244278</td>\n",
       "      <td>45.826514</td>\n",
       "      <td>27.385647</td>\n",
       "      <td>25.228976</td>\n",
       "      <td>0</td>\n",
       "      <td>LHR</td>\n",
       "      <td>185.781260</td>\n",
       "      <td>L</td>\n",
       "      <td>H</td>\n",
       "      <td>R</td>\n",
       "    </tr>\n",
       "    <tr>\n",
       "      <th>2</th>\n",
       "      <td>563</td>\n",
       "      <td>BOND</td>\n",
       "      <td>IL</td>\n",
       "      <td>0.022</td>\n",
       "      <td>14991</td>\n",
       "      <td>681.409091</td>\n",
       "      <td>14477</td>\n",
       "      <td>429</td>\n",
       "      <td>35</td>\n",
       "      <td>16</td>\n",
       "      <td>...</td>\n",
       "      <td>12.068844</td>\n",
       "      <td>14.036061</td>\n",
       "      <td>10.852090</td>\n",
       "      <td>12.697410</td>\n",
       "      <td>0</td>\n",
       "      <td>AAR</td>\n",
       "      <td>175.905385</td>\n",
       "      <td>A</td>\n",
       "      <td>A</td>\n",
       "      <td>R</td>\n",
       "    </tr>\n",
       "    <tr>\n",
       "      <th>3</th>\n",
       "      <td>564</td>\n",
       "      <td>BOONE</td>\n",
       "      <td>IL</td>\n",
       "      <td>0.017</td>\n",
       "      <td>30806</td>\n",
       "      <td>1812.117650</td>\n",
       "      <td>29344</td>\n",
       "      <td>127</td>\n",
       "      <td>46</td>\n",
       "      <td>150</td>\n",
       "      <td>...</td>\n",
       "      <td>7.209019</td>\n",
       "      <td>11.179536</td>\n",
       "      <td>5.536013</td>\n",
       "      <td>6.217047</td>\n",
       "      <td>1</td>\n",
       "      <td>ALU</td>\n",
       "      <td>319.823487</td>\n",
       "      <td>A</td>\n",
       "      <td>L</td>\n",
       "      <td>U</td>\n",
       "    </tr>\n",
       "    <tr>\n",
       "      <th>4</th>\n",
       "      <td>565</td>\n",
       "      <td>BROWN</td>\n",
       "      <td>IL</td>\n",
       "      <td>0.018</td>\n",
       "      <td>5836</td>\n",
       "      <td>324.222222</td>\n",
       "      <td>5264</td>\n",
       "      <td>547</td>\n",
       "      <td>14</td>\n",
       "      <td>5</td>\n",
       "      <td>...</td>\n",
       "      <td>13.520249</td>\n",
       "      <td>13.022889</td>\n",
       "      <td>11.143211</td>\n",
       "      <td>19.200000</td>\n",
       "      <td>0</td>\n",
       "      <td>AAR</td>\n",
       "      <td>130.442161</td>\n",
       "      <td>A</td>\n",
       "      <td>A</td>\n",
       "      <td>R</td>\n",
       "    </tr>\n",
       "  </tbody>\n",
       "</table>\n",
       "<p>5 rows × 32 columns</p>\n",
       "</div>"
      ],
      "text/plain": [
       "   城市ID          郡   州     面积    总人口         人口密度   白人人口  非裔人口  美洲印第安人人口  \\\n",
       "0   561      ADAMS  IL  0.052  66090  1270.961540  63917  1702        98   \n",
       "1   562  ALEXANDER  IL  0.014  10626   759.000000   7054  3496        19   \n",
       "2   563       BOND  IL  0.022  14991   681.409091  14477   429        35   \n",
       "3   564      BOONE  IL  0.017  30806  1812.117650  29344   127        46   \n",
       "4   565      BROWN  IL  0.018   5836   324.222222   5264   547        14   \n",
       "\n",
       "   亚洲人口  ...  贫困线以下的人的比例  贫困线以下的儿童所占比例  贫困的成年人所占的比例  贫困的老年人所占的比例  是否拥有地铁   标签  \\\n",
       "0   249  ...   13.151443     18.011717    11.009776    12.443812       0  AAR   \n",
       "1    48  ...   32.244278     45.826514    27.385647    25.228976       0  LHR   \n",
       "2    16  ...   12.068844     14.036061    10.852090    12.697410       0  AAR   \n",
       "3   150  ...    7.209019     11.179536     5.536013     6.217047       1  ALU   \n",
       "4     5  ...   13.520249     13.022889    11.143211    19.200000       0  AAR   \n",
       "\n",
       "         点的尺寸  c1  c2  c3  \n",
       "0  250.944411   A   A   R  \n",
       "1  185.781260   L   H   R  \n",
       "2  175.905385   A   A   R  \n",
       "3  319.823487   A   L   U  \n",
       "4  130.442161   A   A   R  \n",
       "\n",
       "[5 rows x 32 columns]"
      ]
     },
     "execution_count": 50,
     "metadata": {},
     "output_type": "execute_result"
    }
   ],
   "source": [
    "data.head()"
   ]
  },
  {
   "cell_type": "code",
   "execution_count": 51,
   "metadata": {},
   "outputs": [
    {
     "data": {
      "text/html": [
       "<div>\n",
       "<style scoped>\n",
       "    .dataframe tbody tr th:only-of-type {\n",
       "        vertical-align: middle;\n",
       "    }\n",
       "\n",
       "    .dataframe tbody tr th {\n",
       "        vertical-align: top;\n",
       "    }\n",
       "\n",
       "    .dataframe thead th {\n",
       "        text-align: right;\n",
       "    }\n",
       "</style>\n",
       "<table border=\"1\" class=\"dataframe\">\n",
       "  <thead>\n",
       "    <tr style=\"text-align: right;\">\n",
       "      <th></th>\n",
       "      <th>c1</th>\n",
       "      <th>c2</th>\n",
       "      <th>c3</th>\n",
       "    </tr>\n",
       "  </thead>\n",
       "  <tbody>\n",
       "    <tr>\n",
       "      <th>0</th>\n",
       "      <td>A</td>\n",
       "      <td>A</td>\n",
       "      <td>R</td>\n",
       "    </tr>\n",
       "    <tr>\n",
       "      <th>1</th>\n",
       "      <td>L</td>\n",
       "      <td>H</td>\n",
       "      <td>R</td>\n",
       "    </tr>\n",
       "    <tr>\n",
       "      <th>2</th>\n",
       "      <td>A</td>\n",
       "      <td>A</td>\n",
       "      <td>R</td>\n",
       "    </tr>\n",
       "    <tr>\n",
       "      <th>3</th>\n",
       "      <td>A</td>\n",
       "      <td>L</td>\n",
       "      <td>U</td>\n",
       "    </tr>\n",
       "    <tr>\n",
       "      <th>4</th>\n",
       "      <td>A</td>\n",
       "      <td>A</td>\n",
       "      <td>R</td>\n",
       "    </tr>\n",
       "  </tbody>\n",
       "</table>\n",
       "</div>"
      ],
      "text/plain": [
       "  c1 c2 c3\n",
       "0  A  A  R\n",
       "1  L  H  R\n",
       "2  A  A  R\n",
       "3  A  L  U\n",
       "4  A  A  R"
      ]
     },
     "execution_count": 51,
     "metadata": {},
     "output_type": "execute_result"
    }
   ],
   "source": [
    "data.iloc[:,-3:].head()"
   ]
  },
  {
   "cell_type": "code",
   "execution_count": 52,
   "metadata": {},
   "outputs": [],
   "source": [
    "data.iloc[:,-3:] = OE().fit_transform(data.iloc[:,-3:])"
   ]
  },
  {
   "cell_type": "code",
   "execution_count": 53,
   "metadata": {},
   "outputs": [
    {
     "data": {
      "text/html": [
       "<div>\n",
       "<style scoped>\n",
       "    .dataframe tbody tr th:only-of-type {\n",
       "        vertical-align: middle;\n",
       "    }\n",
       "\n",
       "    .dataframe tbody tr th {\n",
       "        vertical-align: top;\n",
       "    }\n",
       "\n",
       "    .dataframe thead th {\n",
       "        text-align: right;\n",
       "    }\n",
       "</style>\n",
       "<table border=\"1\" class=\"dataframe\">\n",
       "  <thead>\n",
       "    <tr style=\"text-align: right;\">\n",
       "      <th></th>\n",
       "      <th>c1</th>\n",
       "      <th>c2</th>\n",
       "      <th>c3</th>\n",
       "    </tr>\n",
       "  </thead>\n",
       "  <tbody>\n",
       "    <tr>\n",
       "      <th>0</th>\n",
       "      <td>0.0</td>\n",
       "      <td>0.0</td>\n",
       "      <td>0.0</td>\n",
       "    </tr>\n",
       "    <tr>\n",
       "      <th>1</th>\n",
       "      <td>2.0</td>\n",
       "      <td>1.0</td>\n",
       "      <td>0.0</td>\n",
       "    </tr>\n",
       "    <tr>\n",
       "      <th>2</th>\n",
       "      <td>0.0</td>\n",
       "      <td>0.0</td>\n",
       "      <td>0.0</td>\n",
       "    </tr>\n",
       "    <tr>\n",
       "      <th>3</th>\n",
       "      <td>0.0</td>\n",
       "      <td>2.0</td>\n",
       "      <td>1.0</td>\n",
       "    </tr>\n",
       "    <tr>\n",
       "      <th>4</th>\n",
       "      <td>0.0</td>\n",
       "      <td>0.0</td>\n",
       "      <td>0.0</td>\n",
       "    </tr>\n",
       "  </tbody>\n",
       "</table>\n",
       "</div>"
      ],
      "text/plain": [
       "    c1   c2   c3\n",
       "0  0.0  0.0  0.0\n",
       "1  2.0  1.0  0.0\n",
       "2  0.0  0.0  0.0\n",
       "3  0.0  2.0  1.0\n",
       "4  0.0  0.0  0.0"
      ]
     },
     "execution_count": 53,
     "metadata": {},
     "output_type": "execute_result"
    }
   ],
   "source": [
    "data.iloc[:,-3:].head() #average=0，L=2，H=1"
   ]
  },
  {
   "cell_type": "code",
   "execution_count": 54,
   "metadata": {},
   "outputs": [
    {
     "name": "stdout",
     "output_type": "stream",
     "text": [
      "<class 'pandas.core.frame.DataFrame'>\n",
      "RangeIndex: 332 entries, 0 to 331\n",
      "Data columns (total 32 columns):\n",
      " #   Column        Non-Null Count  Dtype  \n",
      "---  ------        --------------  -----  \n",
      " 0   城市ID          332 non-null    int64  \n",
      " 1   郡             332 non-null    object \n",
      " 2   州             332 non-null    object \n",
      " 3   面积            332 non-null    float64\n",
      " 4   总人口           332 non-null    int64  \n",
      " 5   人口密度          332 non-null    float64\n",
      " 6   白人人口          332 non-null    int64  \n",
      " 7   非裔人口          332 non-null    int64  \n",
      " 8   美洲印第安人人口      332 non-null    int64  \n",
      " 9   亚洲人口          332 non-null    int64  \n",
      " 10  其他人种人口        332 non-null    int64  \n",
      " 11  白人所占比例        332 non-null    float64\n",
      " 12  非裔所占比例        332 non-null    float64\n",
      " 13  美洲印第安人所占比例    332 non-null    float64\n",
      " 14  亚洲人所占比例       332 non-null    float64\n",
      " 15  其他人种比例        332 non-null    float64\n",
      " 16  成年人口          332 non-null    int64  \n",
      " 17  具有高中文凭的比例     332 non-null    float64\n",
      " 18  大学文凭比例        332 non-null    float64\n",
      " 19  有工作的人群比例      332 non-null    float64\n",
      " 20  已知贫困人口        332 non-null    int64  \n",
      " 21  已知贫困人口的比例     332 non-null    float64\n",
      " 22  贫困线以下的人的比例    332 non-null    float64\n",
      " 23  贫困线以下的儿童所占比例  332 non-null    float64\n",
      " 24  贫困的成年人所占的比例   332 non-null    float64\n",
      " 25  贫困的老年人所占的比例   332 non-null    float64\n",
      " 26  是否拥有地铁        332 non-null    int64  \n",
      " 27  标签            332 non-null    object \n",
      " 28  点的尺寸          332 non-null    float64\n",
      " 29  c1            332 non-null    float64\n",
      " 30  c2            332 non-null    float64\n",
      " 31  c3            332 non-null    float64\n",
      "dtypes: float64(19), int64(10), object(3)\n",
      "memory usage: 83.1+ KB\n"
     ]
    }
   ],
   "source": [
    "data.info()"
   ]
  },
  {
   "cell_type": "code",
   "execution_count": 55,
   "metadata": {},
   "outputs": [
    {
     "data": {
      "text/plain": [
       "城市ID              int64\n",
       "郡                object\n",
       "州                object\n",
       "面积              float64\n",
       "总人口               int64\n",
       "人口密度            float64\n",
       "白人人口              int64\n",
       "非裔人口              int64\n",
       "美洲印第安人人口          int64\n",
       "亚洲人口              int64\n",
       "其他人种人口            int64\n",
       "白人所占比例          float64\n",
       "非裔所占比例          float64\n",
       "美洲印第安人所占比例      float64\n",
       "亚洲人所占比例         float64\n",
       "其他人种比例          float64\n",
       "成年人口              int64\n",
       "具有高中文凭的比例       float64\n",
       "大学文凭比例          float64\n",
       "有工作的人群比例        float64\n",
       "已知贫困人口            int64\n",
       "已知贫困人口的比例       float64\n",
       "贫困线以下的人的比例      float64\n",
       "贫困线以下的儿童所占比例    float64\n",
       "贫困的成年人所占的比例     float64\n",
       "贫困的老年人所占的比例     float64\n",
       "是否拥有地铁            int64\n",
       "标签               object\n",
       "点的尺寸            float64\n",
       "c1              float64\n",
       "c2              float64\n",
       "c3              float64\n",
       "dtype: object"
      ]
     },
     "execution_count": 55,
     "metadata": {},
     "output_type": "execute_result"
    }
   ],
   "source": [
    "data.dtypes"
   ]
  },
  {
   "cell_type": "code",
   "execution_count": 56,
   "metadata": {},
   "outputs": [
    {
     "data": {
      "text/plain": [
       "array([dtype('int64'), dtype('O'), dtype('O'), dtype('float64'),\n",
       "       dtype('int64'), dtype('float64'), dtype('int64'), dtype('int64'),\n",
       "       dtype('int64'), dtype('int64'), dtype('int64'), dtype('float64'),\n",
       "       dtype('float64'), dtype('float64'), dtype('float64'),\n",
       "       dtype('float64'), dtype('int64'), dtype('float64'),\n",
       "       dtype('float64'), dtype('float64'), dtype('int64'),\n",
       "       dtype('float64'), dtype('float64'), dtype('float64'),\n",
       "       dtype('float64'), dtype('float64'), dtype('int64'), dtype('O'),\n",
       "       dtype('float64'), dtype('float64'), dtype('float64'),\n",
       "       dtype('float64')], dtype=object)"
      ]
     },
     "execution_count": 56,
     "metadata": {},
     "output_type": "execute_result"
    }
   ],
   "source": [
    "data.dtypes.values"
   ]
  },
  {
   "cell_type": "code",
   "execution_count": 57,
   "metadata": {},
   "outputs": [
    {
     "data": {
      "text/plain": [
       "array([ True, False, False,  True,  True,  True,  True,  True,  True,\n",
       "        True,  True,  True,  True,  True,  True,  True,  True,  True,\n",
       "        True,  True,  True,  True,  True,  True,  True,  True,  True,\n",
       "       False,  True,  True,  True,  True])"
      ]
     },
     "execution_count": 57,
     "metadata": {},
     "output_type": "execute_result"
    }
   ],
   "source": [
    "data.dtypes.values != 'O'"
   ]
  },
  {
   "cell_type": "code",
   "execution_count": 58,
   "metadata": {},
   "outputs": [],
   "source": [
    "data = data.loc[:, data.dtypes.values != 'O']"
   ]
  },
  {
   "cell_type": "code",
   "execution_count": 59,
   "metadata": {},
   "outputs": [],
   "source": [
    "#把所有整数类型的列转化为浮点数类型\n",
    "for i in range(data.loc[:, data.dtypes.values != 'int64'].shape[1]):\n",
    "    data.loc[i, data.dtypes.values == 'int64'] = data.loc[i, data.dtypes.values == 'int64'].apply(lambda x:float(x))"
   ]
  },
  {
   "cell_type": "code",
   "execution_count": 60,
   "metadata": {},
   "outputs": [
    {
     "name": "stdout",
     "output_type": "stream",
     "text": [
      "<class 'pandas.core.frame.DataFrame'>\n",
      "RangeIndex: 332 entries, 0 to 331\n",
      "Data columns (total 29 columns):\n",
      " #   Column        Non-Null Count  Dtype  \n",
      "---  ------        --------------  -----  \n",
      " 0   城市ID          332 non-null    float64\n",
      " 1   面积            332 non-null    float64\n",
      " 2   总人口           332 non-null    float64\n",
      " 3   人口密度          332 non-null    float64\n",
      " 4   白人人口          332 non-null    float64\n",
      " 5   非裔人口          332 non-null    float64\n",
      " 6   美洲印第安人人口      332 non-null    float64\n",
      " 7   亚洲人口          332 non-null    float64\n",
      " 8   其他人种人口        332 non-null    float64\n",
      " 9   白人所占比例        332 non-null    float64\n",
      " 10  非裔所占比例        332 non-null    float64\n",
      " 11  美洲印第安人所占比例    332 non-null    float64\n",
      " 12  亚洲人所占比例       332 non-null    float64\n",
      " 13  其他人种比例        332 non-null    float64\n",
      " 14  成年人口          332 non-null    float64\n",
      " 15  具有高中文凭的比例     332 non-null    float64\n",
      " 16  大学文凭比例        332 non-null    float64\n",
      " 17  有工作的人群比例      332 non-null    float64\n",
      " 18  已知贫困人口        332 non-null    float64\n",
      " 19  已知贫困人口的比例     332 non-null    float64\n",
      " 20  贫困线以下的人的比例    332 non-null    float64\n",
      " 21  贫困线以下的儿童所占比例  332 non-null    float64\n",
      " 22  贫困的成年人所占的比例   332 non-null    float64\n",
      " 23  贫困的老年人所占的比例   332 non-null    float64\n",
      " 24  是否拥有地铁        332 non-null    float64\n",
      " 25  点的尺寸          332 non-null    float64\n",
      " 26  c1            332 non-null    float64\n",
      " 27  c2            332 non-null    float64\n",
      " 28  c3            332 non-null    float64\n",
      "dtypes: float64(29)\n",
      "memory usage: 75.3 KB\n"
     ]
    }
   ],
   "source": [
    "data.info()"
   ]
  },
  {
   "cell_type": "code",
   "execution_count": 61,
   "metadata": {},
   "outputs": [
    {
     "data": {
      "text/html": [
       "<div>\n",
       "<style scoped>\n",
       "    .dataframe tbody tr th:only-of-type {\n",
       "        vertical-align: middle;\n",
       "    }\n",
       "\n",
       "    .dataframe tbody tr th {\n",
       "        vertical-align: top;\n",
       "    }\n",
       "\n",
       "    .dataframe thead th {\n",
       "        text-align: right;\n",
       "    }\n",
       "</style>\n",
       "<table border=\"1\" class=\"dataframe\">\n",
       "  <thead>\n",
       "    <tr style=\"text-align: right;\">\n",
       "      <th></th>\n",
       "      <th>面积</th>\n",
       "      <th>总人口</th>\n",
       "      <th>人口密度</th>\n",
       "      <th>白人人口</th>\n",
       "      <th>非裔人口</th>\n",
       "      <th>美洲印第安人人口</th>\n",
       "      <th>亚洲人口</th>\n",
       "      <th>其他人种人口</th>\n",
       "      <th>白人所占比例</th>\n",
       "      <th>非裔所占比例</th>\n",
       "      <th>...</th>\n",
       "      <th>大学文凭比例</th>\n",
       "      <th>有工作的人群比例</th>\n",
       "      <th>已知贫困人口</th>\n",
       "      <th>已知贫困人口的比例</th>\n",
       "      <th>贫困线以下的人的比例</th>\n",
       "      <th>贫困线以下的儿童所占比例</th>\n",
       "      <th>贫困的成年人所占的比例</th>\n",
       "      <th>贫困的老年人所占的比例</th>\n",
       "      <th>是否拥有地铁</th>\n",
       "      <th>点的尺寸</th>\n",
       "    </tr>\n",
       "  </thead>\n",
       "  <tbody>\n",
       "    <tr>\n",
       "      <th>0</th>\n",
       "      <td>0.052</td>\n",
       "      <td>66090.0</td>\n",
       "      <td>1270.961540</td>\n",
       "      <td>63917.0</td>\n",
       "      <td>1702.0</td>\n",
       "      <td>98.0</td>\n",
       "      <td>249.0</td>\n",
       "      <td>124.0</td>\n",
       "      <td>96.712059</td>\n",
       "      <td>2.575276</td>\n",
       "      <td>...</td>\n",
       "      <td>19.631392</td>\n",
       "      <td>4.355859</td>\n",
       "      <td>63628.0</td>\n",
       "      <td>96.274777</td>\n",
       "      <td>13.151443</td>\n",
       "      <td>18.011717</td>\n",
       "      <td>11.009776</td>\n",
       "      <td>12.443812</td>\n",
       "      <td>0.0</td>\n",
       "      <td>250.944411</td>\n",
       "    </tr>\n",
       "    <tr>\n",
       "      <th>1</th>\n",
       "      <td>0.014</td>\n",
       "      <td>10626.0</td>\n",
       "      <td>759.000000</td>\n",
       "      <td>7054.0</td>\n",
       "      <td>3496.0</td>\n",
       "      <td>19.0</td>\n",
       "      <td>48.0</td>\n",
       "      <td>9.0</td>\n",
       "      <td>66.384340</td>\n",
       "      <td>32.900433</td>\n",
       "      <td>...</td>\n",
       "      <td>11.243308</td>\n",
       "      <td>2.870315</td>\n",
       "      <td>10529.0</td>\n",
       "      <td>99.087145</td>\n",
       "      <td>32.244278</td>\n",
       "      <td>45.826514</td>\n",
       "      <td>27.385647</td>\n",
       "      <td>25.228976</td>\n",
       "      <td>0.0</td>\n",
       "      <td>185.781260</td>\n",
       "    </tr>\n",
       "    <tr>\n",
       "      <th>2</th>\n",
       "      <td>0.022</td>\n",
       "      <td>14991.0</td>\n",
       "      <td>681.409091</td>\n",
       "      <td>14477.0</td>\n",
       "      <td>429.0</td>\n",
       "      <td>35.0</td>\n",
       "      <td>16.0</td>\n",
       "      <td>34.0</td>\n",
       "      <td>96.571276</td>\n",
       "      <td>2.861717</td>\n",
       "      <td>...</td>\n",
       "      <td>17.033819</td>\n",
       "      <td>4.488572</td>\n",
       "      <td>14235.0</td>\n",
       "      <td>94.956974</td>\n",
       "      <td>12.068844</td>\n",
       "      <td>14.036061</td>\n",
       "      <td>10.852090</td>\n",
       "      <td>12.697410</td>\n",
       "      <td>0.0</td>\n",
       "      <td>175.905385</td>\n",
       "    </tr>\n",
       "    <tr>\n",
       "      <th>3</th>\n",
       "      <td>0.017</td>\n",
       "      <td>30806.0</td>\n",
       "      <td>1812.117650</td>\n",
       "      <td>29344.0</td>\n",
       "      <td>127.0</td>\n",
       "      <td>46.0</td>\n",
       "      <td>150.0</td>\n",
       "      <td>1139.0</td>\n",
       "      <td>95.254171</td>\n",
       "      <td>0.412257</td>\n",
       "      <td>...</td>\n",
       "      <td>17.278954</td>\n",
       "      <td>4.197800</td>\n",
       "      <td>30337.0</td>\n",
       "      <td>98.477569</td>\n",
       "      <td>7.209019</td>\n",
       "      <td>11.179536</td>\n",
       "      <td>5.536013</td>\n",
       "      <td>6.217047</td>\n",
       "      <td>1.0</td>\n",
       "      <td>319.823487</td>\n",
       "    </tr>\n",
       "    <tr>\n",
       "      <th>4</th>\n",
       "      <td>0.018</td>\n",
       "      <td>5836.0</td>\n",
       "      <td>324.222222</td>\n",
       "      <td>5264.0</td>\n",
       "      <td>547.0</td>\n",
       "      <td>14.0</td>\n",
       "      <td>5.0</td>\n",
       "      <td>6.0</td>\n",
       "      <td>90.198766</td>\n",
       "      <td>9.372858</td>\n",
       "      <td>...</td>\n",
       "      <td>14.475999</td>\n",
       "      <td>3.367680</td>\n",
       "      <td>4815.0</td>\n",
       "      <td>82.505140</td>\n",
       "      <td>13.520249</td>\n",
       "      <td>13.022889</td>\n",
       "      <td>11.143211</td>\n",
       "      <td>19.200000</td>\n",
       "      <td>0.0</td>\n",
       "      <td>130.442161</td>\n",
       "    </tr>\n",
       "  </tbody>\n",
       "</table>\n",
       "<p>5 rows × 25 columns</p>\n",
       "</div>"
      ],
      "text/plain": [
       "      面积      总人口         人口密度     白人人口    非裔人口  美洲印第安人人口   亚洲人口  其他人种人口  \\\n",
       "0  0.052  66090.0  1270.961540  63917.0  1702.0      98.0  249.0   124.0   \n",
       "1  0.014  10626.0   759.000000   7054.0  3496.0      19.0   48.0     9.0   \n",
       "2  0.022  14991.0   681.409091  14477.0   429.0      35.0   16.0    34.0   \n",
       "3  0.017  30806.0  1812.117650  29344.0   127.0      46.0  150.0  1139.0   \n",
       "4  0.018   5836.0   324.222222   5264.0   547.0      14.0    5.0     6.0   \n",
       "\n",
       "      白人所占比例     非裔所占比例  ...     大学文凭比例  有工作的人群比例   已知贫困人口  已知贫困人口的比例  \\\n",
       "0  96.712059   2.575276  ...  19.631392  4.355859  63628.0  96.274777   \n",
       "1  66.384340  32.900433  ...  11.243308  2.870315  10529.0  99.087145   \n",
       "2  96.571276   2.861717  ...  17.033819  4.488572  14235.0  94.956974   \n",
       "3  95.254171   0.412257  ...  17.278954  4.197800  30337.0  98.477569   \n",
       "4  90.198766   9.372858  ...  14.475999  3.367680   4815.0  82.505140   \n",
       "\n",
       "   贫困线以下的人的比例  贫困线以下的儿童所占比例  贫困的成年人所占的比例  贫困的老年人所占的比例  是否拥有地铁        点的尺寸  \n",
       "0   13.151443     18.011717    11.009776    12.443812     0.0  250.944411  \n",
       "1   32.244278     45.826514    27.385647    25.228976     0.0  185.781260  \n",
       "2   12.068844     14.036061    10.852090    12.697410     0.0  175.905385  \n",
       "3    7.209019     11.179536     5.536013     6.217047     1.0  319.823487  \n",
       "4   13.520249     13.022889    11.143211    19.200000     0.0  130.442161  \n",
       "\n",
       "[5 rows x 25 columns]"
      ]
     },
     "execution_count": 61,
     "metadata": {},
     "output_type": "execute_result"
    }
   ],
   "source": [
    "X = data.iloc[:, 1:-3] #-3或-4均可(点的尺寸可要可不要)\n",
    "X.head()"
   ]
  },
  {
   "cell_type": "code",
   "execution_count": 62,
   "metadata": {},
   "outputs": [
    {
     "data": {
      "text/html": [
       "<div>\n",
       "<style scoped>\n",
       "    .dataframe tbody tr th:only-of-type {\n",
       "        vertical-align: middle;\n",
       "    }\n",
       "\n",
       "    .dataframe tbody tr th {\n",
       "        vertical-align: top;\n",
       "    }\n",
       "\n",
       "    .dataframe thead th {\n",
       "        text-align: right;\n",
       "    }\n",
       "</style>\n",
       "<table border=\"1\" class=\"dataframe\">\n",
       "  <thead>\n",
       "    <tr style=\"text-align: right;\">\n",
       "      <th></th>\n",
       "      <th>c1</th>\n",
       "      <th>c2</th>\n",
       "      <th>c3</th>\n",
       "    </tr>\n",
       "  </thead>\n",
       "  <tbody>\n",
       "    <tr>\n",
       "      <th>0</th>\n",
       "      <td>0.0</td>\n",
       "      <td>0.0</td>\n",
       "      <td>0.0</td>\n",
       "    </tr>\n",
       "    <tr>\n",
       "      <th>1</th>\n",
       "      <td>2.0</td>\n",
       "      <td>1.0</td>\n",
       "      <td>0.0</td>\n",
       "    </tr>\n",
       "    <tr>\n",
       "      <th>2</th>\n",
       "      <td>0.0</td>\n",
       "      <td>0.0</td>\n",
       "      <td>0.0</td>\n",
       "    </tr>\n",
       "    <tr>\n",
       "      <th>3</th>\n",
       "      <td>0.0</td>\n",
       "      <td>2.0</td>\n",
       "      <td>1.0</td>\n",
       "    </tr>\n",
       "    <tr>\n",
       "      <th>4</th>\n",
       "      <td>0.0</td>\n",
       "      <td>0.0</td>\n",
       "      <td>0.0</td>\n",
       "    </tr>\n",
       "  </tbody>\n",
       "</table>\n",
       "</div>"
      ],
      "text/plain": [
       "    c1   c2   c3\n",
       "0  0.0  0.0  0.0\n",
       "1  2.0  1.0  0.0\n",
       "2  0.0  0.0  0.0\n",
       "3  0.0  2.0  1.0\n",
       "4  0.0  0.0  0.0"
      ]
     },
     "execution_count": 62,
     "metadata": {},
     "output_type": "execute_result"
    }
   ],
   "source": [
    "y = data.iloc[:,-3:]\n",
    "y.head()"
   ]
  },
  {
   "cell_type": "code",
   "execution_count": 63,
   "metadata": {},
   "outputs": [],
   "source": [
    "#分训练集和测试集\n",
    "from sklearn.model_selection import train_test_split as TTS\n",
    "Xtrain, Xtest, Ytrain, Ytest = TTS(X, y, test_size = 0.3, random_state = 420)"
   ]
  },
  {
   "cell_type": "code",
   "execution_count": 64,
   "metadata": {},
   "outputs": [
    {
     "data": {
      "text/html": [
       "<div>\n",
       "<style scoped>\n",
       "    .dataframe tbody tr th:only-of-type {\n",
       "        vertical-align: middle;\n",
       "    }\n",
       "\n",
       "    .dataframe tbody tr th {\n",
       "        vertical-align: top;\n",
       "    }\n",
       "\n",
       "    .dataframe thead th {\n",
       "        text-align: right;\n",
       "    }\n",
       "</style>\n",
       "<table border=\"1\" class=\"dataframe\">\n",
       "  <thead>\n",
       "    <tr style=\"text-align: right;\">\n",
       "      <th></th>\n",
       "      <th>面积</th>\n",
       "      <th>总人口</th>\n",
       "      <th>人口密度</th>\n",
       "      <th>白人人口</th>\n",
       "      <th>非裔人口</th>\n",
       "      <th>美洲印第安人人口</th>\n",
       "      <th>亚洲人口</th>\n",
       "      <th>其他人种人口</th>\n",
       "      <th>白人所占比例</th>\n",
       "      <th>非裔所占比例</th>\n",
       "      <th>...</th>\n",
       "      <th>大学文凭比例</th>\n",
       "      <th>有工作的人群比例</th>\n",
       "      <th>已知贫困人口</th>\n",
       "      <th>已知贫困人口的比例</th>\n",
       "      <th>贫困线以下的人的比例</th>\n",
       "      <th>贫困线以下的儿童所占比例</th>\n",
       "      <th>贫困的成年人所占的比例</th>\n",
       "      <th>贫困的老年人所占的比例</th>\n",
       "      <th>是否拥有地铁</th>\n",
       "      <th>点的尺寸</th>\n",
       "    </tr>\n",
       "  </thead>\n",
       "  <tbody>\n",
       "    <tr>\n",
       "      <th>276</th>\n",
       "      <td>0.041</td>\n",
       "      <td>15682.0</td>\n",
       "      <td>382.487805</td>\n",
       "      <td>15001.0</td>\n",
       "      <td>375.0</td>\n",
       "      <td>125.0</td>\n",
       "      <td>56.0</td>\n",
       "      <td>125.0</td>\n",
       "      <td>95.657442</td>\n",
       "      <td>2.391277</td>\n",
       "      <td>...</td>\n",
       "      <td>12.427492</td>\n",
       "      <td>2.390578</td>\n",
       "      <td>14534.0</td>\n",
       "      <td>92.679505</td>\n",
       "      <td>14.435118</td>\n",
       "      <td>22.300831</td>\n",
       "      <td>13.310056</td>\n",
       "      <td>10.186757</td>\n",
       "      <td>0.0</td>\n",
       "      <td>137.858283</td>\n",
       "    </tr>\n",
       "    <tr>\n",
       "      <th>156</th>\n",
       "      <td>0.030</td>\n",
       "      <td>23265.0</td>\n",
       "      <td>775.500000</td>\n",
       "      <td>23127.0</td>\n",
       "      <td>2.0</td>\n",
       "      <td>50.0</td>\n",
       "      <td>41.0</td>\n",
       "      <td>45.0</td>\n",
       "      <td>99.406834</td>\n",
       "      <td>0.008597</td>\n",
       "      <td>...</td>\n",
       "      <td>16.583835</td>\n",
       "      <td>5.166100</td>\n",
       "      <td>22974.0</td>\n",
       "      <td>98.749194</td>\n",
       "      <td>7.704361</td>\n",
       "      <td>8.136567</td>\n",
       "      <td>6.168723</td>\n",
       "      <td>11.040340</td>\n",
       "      <td>0.0</td>\n",
       "      <td>187.881402</td>\n",
       "    </tr>\n",
       "    <tr>\n",
       "      <th>35</th>\n",
       "      <td>0.036</td>\n",
       "      <td>61067.0</td>\n",
       "      <td>1696.305560</td>\n",
       "      <td>51991.0</td>\n",
       "      <td>6342.0</td>\n",
       "      <td>109.0</td>\n",
       "      <td>2178.0</td>\n",
       "      <td>447.0</td>\n",
       "      <td>85.137636</td>\n",
       "      <td>10.385314</td>\n",
       "      <td>...</td>\n",
       "      <td>36.643665</td>\n",
       "      <td>14.089892</td>\n",
       "      <td>54230.0</td>\n",
       "      <td>88.804100</td>\n",
       "      <td>28.371750</td>\n",
       "      <td>26.392211</td>\n",
       "      <td>32.458483</td>\n",
       "      <td>13.815301</td>\n",
       "      <td>0.0</td>\n",
       "      <td>305.082769</td>\n",
       "    </tr>\n",
       "    <tr>\n",
       "      <th>161</th>\n",
       "      <td>0.031</td>\n",
       "      <td>18185.0</td>\n",
       "      <td>586.612903</td>\n",
       "      <td>17895.0</td>\n",
       "      <td>23.0</td>\n",
       "      <td>211.0</td>\n",
       "      <td>24.0</td>\n",
       "      <td>32.0</td>\n",
       "      <td>98.405279</td>\n",
       "      <td>0.126478</td>\n",
       "      <td>...</td>\n",
       "      <td>19.039803</td>\n",
       "      <td>5.014362</td>\n",
       "      <td>17942.0</td>\n",
       "      <td>98.663734</td>\n",
       "      <td>13.214803</td>\n",
       "      <td>18.758142</td>\n",
       "      <td>12.037542</td>\n",
       "      <td>9.681284</td>\n",
       "      <td>0.0</td>\n",
       "      <td>163.839599</td>\n",
       "    </tr>\n",
       "    <tr>\n",
       "      <th>321</th>\n",
       "      <td>0.079</td>\n",
       "      <td>14181.0</td>\n",
       "      <td>179.506329</td>\n",
       "      <td>11962.0</td>\n",
       "      <td>18.0</td>\n",
       "      <td>2167.0</td>\n",
       "      <td>15.0</td>\n",
       "      <td>19.0</td>\n",
       "      <td>84.352302</td>\n",
       "      <td>0.126930</td>\n",
       "      <td>...</td>\n",
       "      <td>17.947917</td>\n",
       "      <td>4.041667</td>\n",
       "      <td>13897.0</td>\n",
       "      <td>97.997320</td>\n",
       "      <td>20.544002</td>\n",
       "      <td>29.073570</td>\n",
       "      <td>19.195368</td>\n",
       "      <td>14.179318</td>\n",
       "      <td>0.0</td>\n",
       "      <td>112.022528</td>\n",
       "    </tr>\n",
       "  </tbody>\n",
       "</table>\n",
       "<p>5 rows × 25 columns</p>\n",
       "</div>"
      ],
      "text/plain": [
       "        面积      总人口         人口密度     白人人口    非裔人口  美洲印第安人人口    亚洲人口  其他人种人口  \\\n",
       "276  0.041  15682.0   382.487805  15001.0   375.0     125.0    56.0   125.0   \n",
       "156  0.030  23265.0   775.500000  23127.0     2.0      50.0    41.0    45.0   \n",
       "35   0.036  61067.0  1696.305560  51991.0  6342.0     109.0  2178.0   447.0   \n",
       "161  0.031  18185.0   586.612903  17895.0    23.0     211.0    24.0    32.0   \n",
       "321  0.079  14181.0   179.506329  11962.0    18.0    2167.0    15.0    19.0   \n",
       "\n",
       "        白人所占比例     非裔所占比例  ...     大学文凭比例   有工作的人群比例   已知贫困人口  已知贫困人口的比例  \\\n",
       "276  95.657442   2.391277  ...  12.427492   2.390578  14534.0  92.679505   \n",
       "156  99.406834   0.008597  ...  16.583835   5.166100  22974.0  98.749194   \n",
       "35   85.137636  10.385314  ...  36.643665  14.089892  54230.0  88.804100   \n",
       "161  98.405279   0.126478  ...  19.039803   5.014362  17942.0  98.663734   \n",
       "321  84.352302   0.126930  ...  17.947917   4.041667  13897.0  97.997320   \n",
       "\n",
       "     贫困线以下的人的比例  贫困线以下的儿童所占比例  贫困的成年人所占的比例  贫困的老年人所占的比例  是否拥有地铁        点的尺寸  \n",
       "276   14.435118     22.300831    13.310056    10.186757     0.0  137.858283  \n",
       "156    7.704361      8.136567     6.168723    11.040340     0.0  187.881402  \n",
       "35    28.371750     26.392211    32.458483    13.815301     0.0  305.082769  \n",
       "161   13.214803     18.758142    12.037542     9.681284     0.0  163.839599  \n",
       "321   20.544002     29.073570    19.195368    14.179318     0.0  112.022528  \n",
       "\n",
       "[5 rows x 25 columns]"
      ]
     },
     "execution_count": 64,
     "metadata": {},
     "output_type": "execute_result"
    }
   ],
   "source": [
    "Xtrain.head()"
   ]
  },
  {
   "cell_type": "code",
   "execution_count": 65,
   "metadata": {},
   "outputs": [],
   "source": [
    "#恢复索引\n",
    "for i in [Xtrain, Xtest, Ytrain, Ytest]:\n",
    "    i.index = range(i.shape[0])"
   ]
  },
  {
   "cell_type": "code",
   "execution_count": 66,
   "metadata": {},
   "outputs": [
    {
     "data": {
      "text/html": [
       "<div>\n",
       "<style scoped>\n",
       "    .dataframe tbody tr th:only-of-type {\n",
       "        vertical-align: middle;\n",
       "    }\n",
       "\n",
       "    .dataframe tbody tr th {\n",
       "        vertical-align: top;\n",
       "    }\n",
       "\n",
       "    .dataframe thead th {\n",
       "        text-align: right;\n",
       "    }\n",
       "</style>\n",
       "<table border=\"1\" class=\"dataframe\">\n",
       "  <thead>\n",
       "    <tr style=\"text-align: right;\">\n",
       "      <th></th>\n",
       "      <th>面积</th>\n",
       "      <th>总人口</th>\n",
       "      <th>人口密度</th>\n",
       "      <th>白人人口</th>\n",
       "      <th>非裔人口</th>\n",
       "      <th>美洲印第安人人口</th>\n",
       "      <th>亚洲人口</th>\n",
       "      <th>其他人种人口</th>\n",
       "      <th>白人所占比例</th>\n",
       "      <th>非裔所占比例</th>\n",
       "      <th>...</th>\n",
       "      <th>大学文凭比例</th>\n",
       "      <th>有工作的人群比例</th>\n",
       "      <th>已知贫困人口</th>\n",
       "      <th>已知贫困人口的比例</th>\n",
       "      <th>贫困线以下的人的比例</th>\n",
       "      <th>贫困线以下的儿童所占比例</th>\n",
       "      <th>贫困的成年人所占的比例</th>\n",
       "      <th>贫困的老年人所占的比例</th>\n",
       "      <th>是否拥有地铁</th>\n",
       "      <th>点的尺寸</th>\n",
       "    </tr>\n",
       "  </thead>\n",
       "  <tbody>\n",
       "    <tr>\n",
       "      <th>0</th>\n",
       "      <td>0.041</td>\n",
       "      <td>15682.0</td>\n",
       "      <td>382.487805</td>\n",
       "      <td>15001.0</td>\n",
       "      <td>375.0</td>\n",
       "      <td>125.0</td>\n",
       "      <td>56.0</td>\n",
       "      <td>125.0</td>\n",
       "      <td>95.657442</td>\n",
       "      <td>2.391277</td>\n",
       "      <td>...</td>\n",
       "      <td>12.427492</td>\n",
       "      <td>2.390578</td>\n",
       "      <td>14534.0</td>\n",
       "      <td>92.679505</td>\n",
       "      <td>14.435118</td>\n",
       "      <td>22.300831</td>\n",
       "      <td>13.310056</td>\n",
       "      <td>10.186757</td>\n",
       "      <td>0.0</td>\n",
       "      <td>137.858283</td>\n",
       "    </tr>\n",
       "    <tr>\n",
       "      <th>1</th>\n",
       "      <td>0.030</td>\n",
       "      <td>23265.0</td>\n",
       "      <td>775.500000</td>\n",
       "      <td>23127.0</td>\n",
       "      <td>2.0</td>\n",
       "      <td>50.0</td>\n",
       "      <td>41.0</td>\n",
       "      <td>45.0</td>\n",
       "      <td>99.406834</td>\n",
       "      <td>0.008597</td>\n",
       "      <td>...</td>\n",
       "      <td>16.583835</td>\n",
       "      <td>5.166100</td>\n",
       "      <td>22974.0</td>\n",
       "      <td>98.749194</td>\n",
       "      <td>7.704361</td>\n",
       "      <td>8.136567</td>\n",
       "      <td>6.168723</td>\n",
       "      <td>11.040340</td>\n",
       "      <td>0.0</td>\n",
       "      <td>187.881402</td>\n",
       "    </tr>\n",
       "    <tr>\n",
       "      <th>2</th>\n",
       "      <td>0.036</td>\n",
       "      <td>61067.0</td>\n",
       "      <td>1696.305560</td>\n",
       "      <td>51991.0</td>\n",
       "      <td>6342.0</td>\n",
       "      <td>109.0</td>\n",
       "      <td>2178.0</td>\n",
       "      <td>447.0</td>\n",
       "      <td>85.137636</td>\n",
       "      <td>10.385314</td>\n",
       "      <td>...</td>\n",
       "      <td>36.643665</td>\n",
       "      <td>14.089892</td>\n",
       "      <td>54230.0</td>\n",
       "      <td>88.804100</td>\n",
       "      <td>28.371750</td>\n",
       "      <td>26.392211</td>\n",
       "      <td>32.458483</td>\n",
       "      <td>13.815301</td>\n",
       "      <td>0.0</td>\n",
       "      <td>305.082769</td>\n",
       "    </tr>\n",
       "    <tr>\n",
       "      <th>3</th>\n",
       "      <td>0.031</td>\n",
       "      <td>18185.0</td>\n",
       "      <td>586.612903</td>\n",
       "      <td>17895.0</td>\n",
       "      <td>23.0</td>\n",
       "      <td>211.0</td>\n",
       "      <td>24.0</td>\n",
       "      <td>32.0</td>\n",
       "      <td>98.405279</td>\n",
       "      <td>0.126478</td>\n",
       "      <td>...</td>\n",
       "      <td>19.039803</td>\n",
       "      <td>5.014362</td>\n",
       "      <td>17942.0</td>\n",
       "      <td>98.663734</td>\n",
       "      <td>13.214803</td>\n",
       "      <td>18.758142</td>\n",
       "      <td>12.037542</td>\n",
       "      <td>9.681284</td>\n",
       "      <td>0.0</td>\n",
       "      <td>163.839599</td>\n",
       "    </tr>\n",
       "    <tr>\n",
       "      <th>4</th>\n",
       "      <td>0.079</td>\n",
       "      <td>14181.0</td>\n",
       "      <td>179.506329</td>\n",
       "      <td>11962.0</td>\n",
       "      <td>18.0</td>\n",
       "      <td>2167.0</td>\n",
       "      <td>15.0</td>\n",
       "      <td>19.0</td>\n",
       "      <td>84.352302</td>\n",
       "      <td>0.126930</td>\n",
       "      <td>...</td>\n",
       "      <td>17.947917</td>\n",
       "      <td>4.041667</td>\n",
       "      <td>13897.0</td>\n",
       "      <td>97.997320</td>\n",
       "      <td>20.544002</td>\n",
       "      <td>29.073570</td>\n",
       "      <td>19.195368</td>\n",
       "      <td>14.179318</td>\n",
       "      <td>0.0</td>\n",
       "      <td>112.022528</td>\n",
       "    </tr>\n",
       "  </tbody>\n",
       "</table>\n",
       "<p>5 rows × 25 columns</p>\n",
       "</div>"
      ],
      "text/plain": [
       "      面积      总人口         人口密度     白人人口    非裔人口  美洲印第安人人口    亚洲人口  其他人种人口  \\\n",
       "0  0.041  15682.0   382.487805  15001.0   375.0     125.0    56.0   125.0   \n",
       "1  0.030  23265.0   775.500000  23127.0     2.0      50.0    41.0    45.0   \n",
       "2  0.036  61067.0  1696.305560  51991.0  6342.0     109.0  2178.0   447.0   \n",
       "3  0.031  18185.0   586.612903  17895.0    23.0     211.0    24.0    32.0   \n",
       "4  0.079  14181.0   179.506329  11962.0    18.0    2167.0    15.0    19.0   \n",
       "\n",
       "      白人所占比例     非裔所占比例  ...     大学文凭比例   有工作的人群比例   已知贫困人口  已知贫困人口的比例  \\\n",
       "0  95.657442   2.391277  ...  12.427492   2.390578  14534.0  92.679505   \n",
       "1  99.406834   0.008597  ...  16.583835   5.166100  22974.0  98.749194   \n",
       "2  85.137636  10.385314  ...  36.643665  14.089892  54230.0  88.804100   \n",
       "3  98.405279   0.126478  ...  19.039803   5.014362  17942.0  98.663734   \n",
       "4  84.352302   0.126930  ...  17.947917   4.041667  13897.0  97.997320   \n",
       "\n",
       "   贫困线以下的人的比例  贫困线以下的儿童所占比例  贫困的成年人所占的比例  贫困的老年人所占的比例  是否拥有地铁        点的尺寸  \n",
       "0   14.435118     22.300831    13.310056    10.186757     0.0  137.858283  \n",
       "1    7.704361      8.136567     6.168723    11.040340     0.0  187.881402  \n",
       "2   28.371750     26.392211    32.458483    13.815301     0.0  305.082769  \n",
       "3   13.214803     18.758142    12.037542     9.681284     0.0  163.839599  \n",
       "4   20.544002     29.073570    19.195368    14.179318     0.0  112.022528  \n",
       "\n",
       "[5 rows x 25 columns]"
      ]
     },
     "execution_count": 66,
     "metadata": {},
     "output_type": "execute_result"
    }
   ],
   "source": [
    "Xtrain.head()"
   ]
  },
  {
   "cell_type": "code",
   "execution_count": 67,
   "metadata": {},
   "outputs": [
    {
     "data": {
      "text/plain": [
       "[0,\n",
       " 1,\n",
       " 2,\n",
       " 3,\n",
       " 4,\n",
       " 5,\n",
       " 6,\n",
       " 7,\n",
       " 8,\n",
       " 9,\n",
       " 10,\n",
       " 11,\n",
       " 12,\n",
       " 13,\n",
       " 14,\n",
       " 15,\n",
       " 16,\n",
       " 17,\n",
       " 18,\n",
       " 19,\n",
       " 20,\n",
       " 21,\n",
       " 22,\n",
       " -1]"
      ]
     },
     "execution_count": 67,
     "metadata": {},
     "output_type": "execute_result"
    }
   ],
   "source": [
    "[*range(23),-1]"
   ]
  },
  {
   "cell_type": "code",
   "execution_count": 68,
   "metadata": {},
   "outputs": [
    {
     "data": {
      "text/html": [
       "<div>\n",
       "<style scoped>\n",
       "    .dataframe tbody tr th:only-of-type {\n",
       "        vertical-align: middle;\n",
       "    }\n",
       "\n",
       "    .dataframe tbody tr th {\n",
       "        vertical-align: top;\n",
       "    }\n",
       "\n",
       "    .dataframe thead th {\n",
       "        text-align: right;\n",
       "    }\n",
       "</style>\n",
       "<table border=\"1\" class=\"dataframe\">\n",
       "  <thead>\n",
       "    <tr style=\"text-align: right;\">\n",
       "      <th></th>\n",
       "      <th>面积</th>\n",
       "      <th>总人口</th>\n",
       "      <th>人口密度</th>\n",
       "      <th>白人人口</th>\n",
       "      <th>非裔人口</th>\n",
       "      <th>美洲印第安人人口</th>\n",
       "      <th>亚洲人口</th>\n",
       "      <th>其他人种人口</th>\n",
       "      <th>白人所占比例</th>\n",
       "      <th>非裔所占比例</th>\n",
       "      <th>...</th>\n",
       "      <th>具有高中文凭的比例</th>\n",
       "      <th>大学文凭比例</th>\n",
       "      <th>有工作的人群比例</th>\n",
       "      <th>已知贫困人口</th>\n",
       "      <th>已知贫困人口的比例</th>\n",
       "      <th>贫困线以下的人的比例</th>\n",
       "      <th>贫困线以下的儿童所占比例</th>\n",
       "      <th>贫困的成年人所占的比例</th>\n",
       "      <th>贫困的老年人所占的比例</th>\n",
       "      <th>点的尺寸</th>\n",
       "    </tr>\n",
       "  </thead>\n",
       "  <tbody>\n",
       "    <tr>\n",
       "      <th>0</th>\n",
       "      <td>0.041</td>\n",
       "      <td>15682.0</td>\n",
       "      <td>382.487805</td>\n",
       "      <td>15001.0</td>\n",
       "      <td>375.0</td>\n",
       "      <td>125.0</td>\n",
       "      <td>56.0</td>\n",
       "      <td>125.0</td>\n",
       "      <td>95.657442</td>\n",
       "      <td>2.391277</td>\n",
       "      <td>...</td>\n",
       "      <td>66.980137</td>\n",
       "      <td>12.427492</td>\n",
       "      <td>2.390578</td>\n",
       "      <td>14534.0</td>\n",
       "      <td>92.679505</td>\n",
       "      <td>14.435118</td>\n",
       "      <td>22.300831</td>\n",
       "      <td>13.310056</td>\n",
       "      <td>10.186757</td>\n",
       "      <td>137.858283</td>\n",
       "    </tr>\n",
       "    <tr>\n",
       "      <th>1</th>\n",
       "      <td>0.030</td>\n",
       "      <td>23265.0</td>\n",
       "      <td>775.500000</td>\n",
       "      <td>23127.0</td>\n",
       "      <td>2.0</td>\n",
       "      <td>50.0</td>\n",
       "      <td>41.0</td>\n",
       "      <td>45.0</td>\n",
       "      <td>99.406834</td>\n",
       "      <td>0.008597</td>\n",
       "      <td>...</td>\n",
       "      <td>77.877321</td>\n",
       "      <td>16.583835</td>\n",
       "      <td>5.166100</td>\n",
       "      <td>22974.0</td>\n",
       "      <td>98.749194</td>\n",
       "      <td>7.704361</td>\n",
       "      <td>8.136567</td>\n",
       "      <td>6.168723</td>\n",
       "      <td>11.040340</td>\n",
       "      <td>187.881402</td>\n",
       "    </tr>\n",
       "    <tr>\n",
       "      <th>2</th>\n",
       "      <td>0.036</td>\n",
       "      <td>61067.0</td>\n",
       "      <td>1696.305560</td>\n",
       "      <td>51991.0</td>\n",
       "      <td>6342.0</td>\n",
       "      <td>109.0</td>\n",
       "      <td>2178.0</td>\n",
       "      <td>447.0</td>\n",
       "      <td>85.137636</td>\n",
       "      <td>10.385314</td>\n",
       "      <td>...</td>\n",
       "      <td>78.767251</td>\n",
       "      <td>36.643665</td>\n",
       "      <td>14.089892</td>\n",
       "      <td>54230.0</td>\n",
       "      <td>88.804100</td>\n",
       "      <td>28.371750</td>\n",
       "      <td>26.392211</td>\n",
       "      <td>32.458483</td>\n",
       "      <td>13.815301</td>\n",
       "      <td>305.082769</td>\n",
       "    </tr>\n",
       "    <tr>\n",
       "      <th>3</th>\n",
       "      <td>0.031</td>\n",
       "      <td>18185.0</td>\n",
       "      <td>586.612903</td>\n",
       "      <td>17895.0</td>\n",
       "      <td>23.0</td>\n",
       "      <td>211.0</td>\n",
       "      <td>24.0</td>\n",
       "      <td>32.0</td>\n",
       "      <td>98.405279</td>\n",
       "      <td>0.126478</td>\n",
       "      <td>...</td>\n",
       "      <td>76.380796</td>\n",
       "      <td>19.039803</td>\n",
       "      <td>5.014362</td>\n",
       "      <td>17942.0</td>\n",
       "      <td>98.663734</td>\n",
       "      <td>13.214803</td>\n",
       "      <td>18.758142</td>\n",
       "      <td>12.037542</td>\n",
       "      <td>9.681284</td>\n",
       "      <td>163.839599</td>\n",
       "    </tr>\n",
       "    <tr>\n",
       "      <th>4</th>\n",
       "      <td>0.079</td>\n",
       "      <td>14181.0</td>\n",
       "      <td>179.506329</td>\n",
       "      <td>11962.0</td>\n",
       "      <td>18.0</td>\n",
       "      <td>2167.0</td>\n",
       "      <td>15.0</td>\n",
       "      <td>19.0</td>\n",
       "      <td>84.352302</td>\n",
       "      <td>0.126930</td>\n",
       "      <td>...</td>\n",
       "      <td>73.739583</td>\n",
       "      <td>17.947917</td>\n",
       "      <td>4.041667</td>\n",
       "      <td>13897.0</td>\n",
       "      <td>97.997320</td>\n",
       "      <td>20.544002</td>\n",
       "      <td>29.073570</td>\n",
       "      <td>19.195368</td>\n",
       "      <td>14.179318</td>\n",
       "      <td>112.022528</td>\n",
       "    </tr>\n",
       "  </tbody>\n",
       "</table>\n",
       "<p>5 rows × 24 columns</p>\n",
       "</div>"
      ],
      "text/plain": [
       "      面积      总人口         人口密度     白人人口    非裔人口  美洲印第安人人口    亚洲人口  其他人种人口  \\\n",
       "0  0.041  15682.0   382.487805  15001.0   375.0     125.0    56.0   125.0   \n",
       "1  0.030  23265.0   775.500000  23127.0     2.0      50.0    41.0    45.0   \n",
       "2  0.036  61067.0  1696.305560  51991.0  6342.0     109.0  2178.0   447.0   \n",
       "3  0.031  18185.0   586.612903  17895.0    23.0     211.0    24.0    32.0   \n",
       "4  0.079  14181.0   179.506329  11962.0    18.0    2167.0    15.0    19.0   \n",
       "\n",
       "      白人所占比例     非裔所占比例  ...  具有高中文凭的比例     大学文凭比例   有工作的人群比例   已知贫困人口  \\\n",
       "0  95.657442   2.391277  ...  66.980137  12.427492   2.390578  14534.0   \n",
       "1  99.406834   0.008597  ...  77.877321  16.583835   5.166100  22974.0   \n",
       "2  85.137636  10.385314  ...  78.767251  36.643665  14.089892  54230.0   \n",
       "3  98.405279   0.126478  ...  76.380796  19.039803   5.014362  17942.0   \n",
       "4  84.352302   0.126930  ...  73.739583  17.947917   4.041667  13897.0   \n",
       "\n",
       "   已知贫困人口的比例  贫困线以下的人的比例  贫困线以下的儿童所占比例  贫困的成年人所占的比例  贫困的老年人所占的比例        点的尺寸  \n",
       "0  92.679505   14.435118     22.300831    13.310056    10.186757  137.858283  \n",
       "1  98.749194    7.704361      8.136567     6.168723    11.040340  187.881402  \n",
       "2  88.804100   28.371750     26.392211    32.458483    13.815301  305.082769  \n",
       "3  98.663734   13.214803     18.758142    12.037542     9.681284  163.839599  \n",
       "4  97.997320   20.544002     29.073570    19.195368    14.179318  112.022528  \n",
       "\n",
       "[5 rows x 24 columns]"
      ]
     },
     "execution_count": 68,
     "metadata": {},
     "output_type": "execute_result"
    }
   ],
   "source": [
    "Xtrain.iloc[:,[*range(23),-1]].head()"
   ]
  },
  {
   "cell_type": "code",
   "execution_count": 69,
   "metadata": {},
   "outputs": [],
   "source": [
    "#标准化数据集(线性模型的核心需求)\n",
    "from sklearn.preprocessing import StandardScaler\n",
    "ss = StandardScaler().fit(Xtrain.iloc[:,[*range(23),-1]]) #以训练集为标准的均值和方差"
   ]
  },
  {
   "cell_type": "code",
   "execution_count": 70,
   "metadata": {},
   "outputs": [],
   "source": [
    "Xtrain_ = Xtrain.copy()\n",
    "Xtest_ = Xtest.copy()"
   ]
  },
  {
   "cell_type": "code",
   "execution_count": 71,
   "metadata": {},
   "outputs": [],
   "source": [
    "Xtrain_.iloc[:,[*range(23),-1]] = ss.transform(Xtrain.iloc[:,[*range(23),-1]])\n",
    "Xtest_.iloc[:,[*range(23),-1]] = ss.transform(Xtest.iloc[:,[*range(23),-1]])"
   ]
  },
  {
   "cell_type": "code",
   "execution_count": 72,
   "metadata": {},
   "outputs": [
    {
     "data": {
      "text/html": [
       "<div>\n",
       "<style scoped>\n",
       "    .dataframe tbody tr th:only-of-type {\n",
       "        vertical-align: middle;\n",
       "    }\n",
       "\n",
       "    .dataframe tbody tr th {\n",
       "        vertical-align: top;\n",
       "    }\n",
       "\n",
       "    .dataframe thead th {\n",
       "        text-align: right;\n",
       "    }\n",
       "</style>\n",
       "<table border=\"1\" class=\"dataframe\">\n",
       "  <thead>\n",
       "    <tr style=\"text-align: right;\">\n",
       "      <th></th>\n",
       "      <th>面积</th>\n",
       "      <th>总人口</th>\n",
       "      <th>人口密度</th>\n",
       "      <th>白人人口</th>\n",
       "      <th>非裔人口</th>\n",
       "      <th>美洲印第安人人口</th>\n",
       "      <th>亚洲人口</th>\n",
       "      <th>其他人种人口</th>\n",
       "      <th>白人所占比例</th>\n",
       "      <th>非裔所占比例</th>\n",
       "      <th>...</th>\n",
       "      <th>大学文凭比例</th>\n",
       "      <th>有工作的人群比例</th>\n",
       "      <th>已知贫困人口</th>\n",
       "      <th>已知贫困人口的比例</th>\n",
       "      <th>贫困线以下的人的比例</th>\n",
       "      <th>贫困线以下的儿童所占比例</th>\n",
       "      <th>贫困的成年人所占的比例</th>\n",
       "      <th>贫困的老年人所占的比例</th>\n",
       "      <th>是否拥有地铁</th>\n",
       "      <th>点的尺寸</th>\n",
       "    </tr>\n",
       "  </thead>\n",
       "  <tbody>\n",
       "    <tr>\n",
       "      <th>0</th>\n",
       "      <td>0.616975</td>\n",
       "      <td>-0.781589</td>\n",
       "      <td>-0.817515</td>\n",
       "      <td>-0.806262</td>\n",
       "      <td>-0.109249</td>\n",
       "      <td>-0.024001</td>\n",
       "      <td>-0.298458</td>\n",
       "      <td>-0.020924</td>\n",
       "      <td>-0.560519</td>\n",
       "      <td>0.359059</td>\n",
       "      <td>...</td>\n",
       "      <td>-0.879865</td>\n",
       "      <td>-0.848804</td>\n",
       "      <td>-0.824188</td>\n",
       "      <td>-1.455058</td>\n",
       "      <td>0.342460</td>\n",
       "      <td>0.839258</td>\n",
       "      <td>0.428156</td>\n",
       "      <td>-0.582661</td>\n",
       "      <td>0.0</td>\n",
       "      <td>-0.817515</td>\n",
       "    </tr>\n",
       "    <tr>\n",
       "      <th>1</th>\n",
       "      <td>-0.141464</td>\n",
       "      <td>-0.374282</td>\n",
       "      <td>-0.347133</td>\n",
       "      <td>-0.350269</td>\n",
       "      <td>-0.486592</td>\n",
       "      <td>-0.330845</td>\n",
       "      <td>-0.368263</td>\n",
       "      <td>-0.341073</td>\n",
       "      <td>0.588691</td>\n",
       "      <td>-0.457448</td>\n",
       "      <td>...</td>\n",
       "      <td>-0.002157</td>\n",
       "      <td>0.773189</td>\n",
       "      <td>-0.351151</td>\n",
       "      <td>0.550676</td>\n",
       "      <td>-1.033914</td>\n",
       "      <td>-1.207832</td>\n",
       "      <td>-0.982892</td>\n",
       "      <td>-0.331241</td>\n",
       "      <td>0.0</td>\n",
       "      <td>-0.347133</td>\n",
       "    </tr>\n",
       "    <tr>\n",
       "      <th>2</th>\n",
       "      <td>0.272230</td>\n",
       "      <td>1.656180</td>\n",
       "      <td>0.754945</td>\n",
       "      <td>1.269442</td>\n",
       "      <td>5.927225</td>\n",
       "      <td>-0.089461</td>\n",
       "      <td>9.576664</td>\n",
       "      <td>1.267678</td>\n",
       "      <td>-3.784901</td>\n",
       "      <td>3.098491</td>\n",
       "      <td>...</td>\n",
       "      <td>4.233941</td>\n",
       "      <td>5.988182</td>\n",
       "      <td>1.400655</td>\n",
       "      <td>-2.735690</td>\n",
       "      <td>3.192365</td>\n",
       "      <td>1.430564</td>\n",
       "      <td>4.211672</td>\n",
       "      <td>0.486112</td>\n",
       "      <td>0.0</td>\n",
       "      <td>0.754945</td>\n",
       "    </tr>\n",
       "    <tr>\n",
       "      <th>3</th>\n",
       "      <td>-0.072515</td>\n",
       "      <td>-0.647145</td>\n",
       "      <td>-0.573205</td>\n",
       "      <td>-0.643865</td>\n",
       "      <td>-0.465347</td>\n",
       "      <td>0.327847</td>\n",
       "      <td>-0.447376</td>\n",
       "      <td>-0.393097</td>\n",
       "      <td>0.281709</td>\n",
       "      <td>-0.417052</td>\n",
       "      <td>...</td>\n",
       "      <td>0.516478</td>\n",
       "      <td>0.684514</td>\n",
       "      <td>-0.633180</td>\n",
       "      <td>0.522436</td>\n",
       "      <td>0.092918</td>\n",
       "      <td>0.327251</td>\n",
       "      <td>0.176721</td>\n",
       "      <td>-0.731545</td>\n",
       "      <td>0.0</td>\n",
       "      <td>-0.573205</td>\n",
       "    </tr>\n",
       "    <tr>\n",
       "      <th>4</th>\n",
       "      <td>3.237036</td>\n",
       "      <td>-0.862212</td>\n",
       "      <td>-1.060456</td>\n",
       "      <td>-0.976797</td>\n",
       "      <td>-0.470405</td>\n",
       "      <td>8.330347</td>\n",
       "      <td>-0.489259</td>\n",
       "      <td>-0.445122</td>\n",
       "      <td>-4.025610</td>\n",
       "      <td>-0.416897</td>\n",
       "      <td>...</td>\n",
       "      <td>0.285901</td>\n",
       "      <td>0.116079</td>\n",
       "      <td>-0.859890</td>\n",
       "      <td>0.302219</td>\n",
       "      <td>1.591667</td>\n",
       "      <td>1.818087</td>\n",
       "      <td>1.591028</td>\n",
       "      <td>0.593332</td>\n",
       "      <td>0.0</td>\n",
       "      <td>-1.060456</td>\n",
       "    </tr>\n",
       "  </tbody>\n",
       "</table>\n",
       "<p>5 rows × 25 columns</p>\n",
       "</div>"
      ],
      "text/plain": [
       "         面积       总人口      人口密度      白人人口      非裔人口  美洲印第安人人口      亚洲人口  \\\n",
       "0  0.616975 -0.781589 -0.817515 -0.806262 -0.109249 -0.024001 -0.298458   \n",
       "1 -0.141464 -0.374282 -0.347133 -0.350269 -0.486592 -0.330845 -0.368263   \n",
       "2  0.272230  1.656180  0.754945  1.269442  5.927225 -0.089461  9.576664   \n",
       "3 -0.072515 -0.647145 -0.573205 -0.643865 -0.465347  0.327847 -0.447376   \n",
       "4  3.237036 -0.862212 -1.060456 -0.976797 -0.470405  8.330347 -0.489259   \n",
       "\n",
       "     其他人种人口    白人所占比例    非裔所占比例  ...    大学文凭比例  有工作的人群比例    已知贫困人口  已知贫困人口的比例  \\\n",
       "0 -0.020924 -0.560519  0.359059  ... -0.879865 -0.848804 -0.824188  -1.455058   \n",
       "1 -0.341073  0.588691 -0.457448  ... -0.002157  0.773189 -0.351151   0.550676   \n",
       "2  1.267678 -3.784901  3.098491  ...  4.233941  5.988182  1.400655  -2.735690   \n",
       "3 -0.393097  0.281709 -0.417052  ...  0.516478  0.684514 -0.633180   0.522436   \n",
       "4 -0.445122 -4.025610 -0.416897  ...  0.285901  0.116079 -0.859890   0.302219   \n",
       "\n",
       "   贫困线以下的人的比例  贫困线以下的儿童所占比例  贫困的成年人所占的比例  贫困的老年人所占的比例  是否拥有地铁      点的尺寸  \n",
       "0    0.342460      0.839258     0.428156    -0.582661     0.0 -0.817515  \n",
       "1   -1.033914     -1.207832    -0.982892    -0.331241     0.0 -0.347133  \n",
       "2    3.192365      1.430564     4.211672     0.486112     0.0  0.754945  \n",
       "3    0.092918      0.327251     0.176721    -0.731545     0.0 -0.573205  \n",
       "4    1.591667      1.818087     1.591028     0.593332     0.0 -1.060456  \n",
       "\n",
       "[5 rows x 25 columns]"
      ]
     },
     "execution_count": 72,
     "metadata": {},
     "output_type": "execute_result"
    }
   ],
   "source": [
    "Xtrain_.head()"
   ]
  },
  {
   "cell_type": "code",
   "execution_count": 73,
   "metadata": {
    "scrolled": false
   },
   "outputs": [
    {
     "name": "stdout",
     "output_type": "stream",
     "text": [
      "c1\n",
      "Train:0.9956896551724138\n",
      "Test:0.9956896551724138\n",
      "     Average      High       Low      mean       name\n",
      "14  1.274035  2.189743 -3.463778  1.731889  具有高中文凭的比例\n",
      "15 -0.656186  1.390281 -0.734095  0.367047     大学文凭比例\n",
      "16 -0.363926  0.899042 -0.535116  0.267558   有工作的人群比例\n",
      "5   0.168316  0.007686 -0.176003  0.088001   美洲印第安人人口\n",
      "7   0.015589  0.106681 -0.122271  0.061135     其他人种人口\n",
      "\t\n",
      "c2\n",
      "Train:0.978448275862069\n",
      "Test:0.978448275862069\n",
      "     Average      High       Low      mean          name\n",
      "20  0.248239  1.652407 -1.900646  0.950323  贫困线以下的儿童所占比例\n",
      "19  0.054842  1.639717 -1.694559  0.847279    贫困线以下的人的比例\n",
      "21 -0.249106  1.694901 -1.445795  0.722897   贫困的成年人所占的比例\n",
      "22 -0.105854  0.797378 -0.691524  0.345762   贫困的老年人所占的比例\n",
      "5   0.256889  0.219229 -0.476118  0.238059      美洲印第安人人口\n",
      "\t\n",
      "c3\n",
      "Train:1.0\n",
      "Test:1.0\n",
      "        Coef          mean\n",
      "0  -0.203313            面积\n",
      "9  -0.027313        非裔所占比例\n",
      "4  -0.064857          非裔人口\n",
      "20 -0.067184  贫困线以下的儿童所占比例\n",
      "19 -0.052510    贫困线以下的人的比例\n",
      "\t\n"
     ]
    }
   ],
   "source": [
    "#使用逻辑回归探索数据\n",
    "from sklearn.linear_model import LogisticRegression as logiR\n",
    "import pandas as pd\n",
    "\n",
    "for i in range(3): #三次建模，每次建模的y不同\n",
    "    logi = logiR(solver='newton-cg', max_iter = 100*20, multi_class = 'multinomial').fit(Xtrain_, Ytrain.iloc[:,i].ravel())\n",
    "    print(y.columns[i])\n",
    "    print('Train:{}'.format(logi.score(Xtrain_, Ytrain.iloc[:,i].ravel()))) #模型的学习能力\n",
    "    print('Test:{}'.format(logi.score(Xtrain_, Ytrain.iloc[:,i].ravel()))) #模型的泛化能力\n",
    "    coeff = pd.DataFrame(logi.coef_).T\n",
    "    if i != 2:\n",
    "        coeff['mean'] = coeff.iloc[:,:-1].mean(axis = 1)\n",
    "        coeff['name'] = Xtrain.columns\n",
    "        coeff.columns = ['Average', 'High', 'Low', 'mean', 'name']\n",
    "    else:\n",
    "        coeff['name'] = Xtrain.columns\n",
    "        coeff.columns = ['Coef', 'mean']\n",
    "    print(coeff.sort_values(by = 'mean', ascending = False).head())\n",
    "    print('\\t')"
   ]
  },
  {
   "cell_type": "code",
   "execution_count": 74,
   "metadata": {},
   "outputs": [],
   "source": [
    "#结论：\n",
    "#第一个字母是平均教育程度的高低（越高的话，标签是H）\n",
    "#第二个字母是贫困水平的高低（越穷的话，标签是H）\n",
    "#第三个字母是城市还是乡村"
   ]
  },
  {
   "cell_type": "code",
   "execution_count": 77,
   "metadata": {},
   "outputs": [
    {
     "data": {
      "image/png": "[encoded data removed]",
      "text/plain": [
       "<Figure size 1280x800 with 1 Axes>"
      ]
     },
     "metadata": {},
     "output_type": "display_data"
    }
   ],
   "source": [
    "plt.figure(figsize = (16, 10)\n",
    "           ,dpi= 80\n",
    "           ,facecolor = 'w'\n",
    "           ,edgecolor = 'k' #图像的边框颜色，设置为黑色，默认也是黑色\n",
    "          )\n",
    "for i, category in enumerate(categories):\n",
    "    plt.scatter('area', 'poptotal'\n",
    "                ,data = midwest.loc[midwest.category == category, :]\n",
    "                ,s = 20\n",
    "                ,c = np.array(plt.cm.tab10(i/float(len(categories)-1))).reshape(1,-1)\n",
    "                ,label = str(category))\n",
    "#低学历，很贫困的地方\n",
    "plt.scatter('area', 'poptotal'\n",
    "            ,data = midwest.loc[midwest.category == 'LHU',:]\n",
    "            ,s = 150\n",
    "            ,facecolors = 'None' #点的填充颜色，为None的时候，表示点是透明的\n",
    "            ,edgecolors = 'red'\n",
    "            ,label = 'Selected')\n",
    "plt.gca().set(xlim = (0.0,0.12), ylim = (0,90000))\n",
    "plt.xticks(fontsize=12)\n",
    "plt.yticks(fontsize=12)\n",
    "plt.ylabel('Population', fontsize=22)\n",
    "plt.xlabel('Area', fontsize=22)\n",
    "plt.title('Scatterplot of Midwest Area vs Population', fontsize=22)\n",
    "plt.legend(fontsize=12)\n",
    "plt.show()\n",
    "#高学历，低贫困的地方：HLU"
   ]
  },
  {
   "cell_type": "code",
   "execution_count": null,
   "metadata": {},
   "outputs": [],
   "source": []
  }
 ],
 "metadata": {
  "kernelspec": {
   "display_name": "Python 3",
   "language": "python",
   "name": "python3"
  },
  "language_info": {
   "codemirror_mode": {
    "name": "ipython",
    "version": 3
   },
   "file_extension": ".py",
   "mimetype": "text/x-python",
   "name": "python",
   "nbconvert_exporter": "python",
   "pygments_lexer": "ipython3",
   "version": "3.8.3"
  }
 },
 "nbformat": 4,
 "nbformat_minor": 4
}
